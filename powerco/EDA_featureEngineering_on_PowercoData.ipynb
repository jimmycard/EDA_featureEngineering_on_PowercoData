{
 "cells": [
  {
   "cell_type": "markdown",
   "id": "35d59288",
   "metadata": {},
   "source": [
    "# Unveiling the Impact: Price Sensitivity and Customer Attrition in a Power Generation Company"
   ]
  },
  {
   "cell_type": "markdown",
   "id": "b86769a6",
   "metadata": {},
   "source": [
    "## Exploratory Data Analysis\n",
    "\n",
    "\n",
    "### Unveiling the Clues: Exploratory Data Analysis for Churn Model Development\n",
    "\n",
    "**Background Information**\n",
    "\n",
    "The BCG project team recognizes the potential of developing a churn model to explore the impact of price sensitivity on customer attrition. In pursuit of this objective, the client has entrusted us with the task of conducting an exploratory data analysis (EDA) to glean insights from the provided data.\n",
    "\n",
    "The dataset furnished by the client comprises the following key components:\n",
    "\n",
    "1. Historical Customer Data: This treasure trove of information encompasses various customer attributes such as usage patterns, sign-up dates, forecasted usage, and more. Analyzing this data will help us unravel patterns, uncover customer behavior nuances, and potentially identify predictors that contribute to churn.\n",
    "\n",
    "2. Historical Pricing Data: This dataset holds a wealth of details regarding variable and fixed pricing structures, among other pertinent information. By examining pricing dynamics and their relationship with churn, we can discern whether price sensitivity significantly impacts customer attrition.\n",
    "\n",
    "3. Churn Indicator: A crucial element of the dataset is the churn indicator, which flags whether a customer has churned or not. This binary indicator serves as the foundation for our churn model development, enabling us to identify patterns associated with customer attrition.\n",
    "\n",
    "With this comprehensive dataset at our disposal, we embark on the exciting journey of exploratory data analysis. Our goal is to uncover meaningful insights, establish correlations, and pave the way for developing a robust churn model that unravels the complex interplay between price sensitivity and customer attrition.\n",
    "\n",
    "By harnessing the power of data exploration, we strive to provide our client with actionable insights that will inform strategic decisions, empower customer retention efforts, and unlock opportunities to optimize pricing strategies. Let us now delve into the data, extract its hidden stories, and uncover the clues that will drive our pursuit of churn model development."
   ]
  },
  {
   "cell_type": "markdown",
   "id": "20d9939e",
   "metadata": {},
   "source": [
    "# Task \n",
    "----\n",
    "1. Import packages\n",
    "2. Loading data with Pandas\n",
    "3. Descriptive statistics of data\n",
    "4. Data visualization\n",
    "5. Hypothesis investigation"
   ]
  },
  {
   "cell_type": "markdown",
   "id": "b0b1f9a1",
   "metadata": {},
   "source": [
    "### Import Packages"
   ]
  },
  {
   "cell_type": "code",
   "execution_count": 2,
   "id": "44766fe9",
   "metadata": {},
   "outputs": [],
   "source": [
    "# load packages\n",
    "import pandas as pd\n",
    "import numpy as np\n",
    "pd.set_option('display.max_columns', 50)\n",
    "\n",
    "import matplotlib.pyplot as plt\n",
    "import seaborn as sns\n",
    "\n",
    "from sklearn.preprocessing import LabelEncoder"
   ]
  },
  {
   "cell_type": "markdown",
   "id": "5a4a8b03",
   "metadata": {},
   "source": [
    "### Load data with Pandas\n",
    "\n",
    "We need to load `client_data.csv` and `price_data.csv` into individual dataframes so that we can work with them in Python. "
   ]
  },
  {
   "cell_type": "code",
   "execution_count": 3,
   "id": "6c3762da",
   "metadata": {},
   "outputs": [],
   "source": [
    "client_df = pd.read_csv('client_data.csv')\n",
    "price_df = pd.read_csv('price_data.csv')"
   ]
  },
  {
   "cell_type": "code",
   "execution_count": 4,
   "id": "2bcbcd24",
   "metadata": {
    "scrolled": true
   },
   "outputs": [
    {
     "data": {
      "text/html": [
       "<div>\n",
       "<style scoped>\n",
       "    .dataframe tbody tr th:only-of-type {\n",
       "        vertical-align: middle;\n",
       "    }\n",
       "\n",
       "    .dataframe tbody tr th {\n",
       "        vertical-align: top;\n",
       "    }\n",
       "\n",
       "    .dataframe thead th {\n",
       "        text-align: right;\n",
       "    }\n",
       "</style>\n",
       "<table border=\"1\" class=\"dataframe\">\n",
       "  <thead>\n",
       "    <tr style=\"text-align: right;\">\n",
       "      <th></th>\n",
       "      <th>id</th>\n",
       "      <th>channel_sales</th>\n",
       "      <th>cons_12m</th>\n",
       "      <th>cons_gas_12m</th>\n",
       "      <th>cons_last_month</th>\n",
       "      <th>date_activ</th>\n",
       "      <th>date_end</th>\n",
       "      <th>date_modif_prod</th>\n",
       "      <th>date_renewal</th>\n",
       "      <th>forecast_cons_12m</th>\n",
       "      <th>forecast_cons_year</th>\n",
       "      <th>forecast_discount_energy</th>\n",
       "      <th>forecast_meter_rent_12m</th>\n",
       "      <th>forecast_price_energy_off_peak</th>\n",
       "      <th>forecast_price_energy_peak</th>\n",
       "      <th>forecast_price_pow_off_peak</th>\n",
       "      <th>has_gas</th>\n",
       "      <th>imp_cons</th>\n",
       "      <th>margin_gross_pow_ele</th>\n",
       "      <th>margin_net_pow_ele</th>\n",
       "      <th>nb_prod_act</th>\n",
       "      <th>net_margin</th>\n",
       "      <th>num_years_antig</th>\n",
       "      <th>origin_up</th>\n",
       "      <th>pow_max</th>\n",
       "      <th>churn</th>\n",
       "    </tr>\n",
       "  </thead>\n",
       "  <tbody>\n",
       "    <tr>\n",
       "      <th>0</th>\n",
       "      <td>24011ae4ebbe3035111d65fa7c15bc57</td>\n",
       "      <td>foosdfpfkusacimwkcsosbicdxkicaua</td>\n",
       "      <td>0</td>\n",
       "      <td>54946</td>\n",
       "      <td>0</td>\n",
       "      <td>2013-06-15</td>\n",
       "      <td>2016-06-15</td>\n",
       "      <td>2015-11-01</td>\n",
       "      <td>2015-06-23</td>\n",
       "      <td>0.00</td>\n",
       "      <td>0</td>\n",
       "      <td>0.0</td>\n",
       "      <td>1.78</td>\n",
       "      <td>0.114481</td>\n",
       "      <td>0.098142</td>\n",
       "      <td>40.606701</td>\n",
       "      <td>t</td>\n",
       "      <td>0.00</td>\n",
       "      <td>25.44</td>\n",
       "      <td>25.44</td>\n",
       "      <td>2</td>\n",
       "      <td>678.99</td>\n",
       "      <td>3</td>\n",
       "      <td>lxidpiddsbxsbosboudacockeimpuepw</td>\n",
       "      <td>43.648</td>\n",
       "      <td>1</td>\n",
       "    </tr>\n",
       "    <tr>\n",
       "      <th>1</th>\n",
       "      <td>d29c2c54acc38ff3c0614d0a653813dd</td>\n",
       "      <td>MISSING</td>\n",
       "      <td>4660</td>\n",
       "      <td>0</td>\n",
       "      <td>0</td>\n",
       "      <td>2009-08-21</td>\n",
       "      <td>2016-08-30</td>\n",
       "      <td>2009-08-21</td>\n",
       "      <td>2015-08-31</td>\n",
       "      <td>189.95</td>\n",
       "      <td>0</td>\n",
       "      <td>0.0</td>\n",
       "      <td>16.27</td>\n",
       "      <td>0.145711</td>\n",
       "      <td>0.000000</td>\n",
       "      <td>44.311378</td>\n",
       "      <td>f</td>\n",
       "      <td>0.00</td>\n",
       "      <td>16.38</td>\n",
       "      <td>16.38</td>\n",
       "      <td>1</td>\n",
       "      <td>18.89</td>\n",
       "      <td>6</td>\n",
       "      <td>kamkkxfxxuwbdslkwifmmcsiusiuosws</td>\n",
       "      <td>13.800</td>\n",
       "      <td>0</td>\n",
       "    </tr>\n",
       "    <tr>\n",
       "      <th>2</th>\n",
       "      <td>764c75f661154dac3a6c254cd082ea7d</td>\n",
       "      <td>foosdfpfkusacimwkcsosbicdxkicaua</td>\n",
       "      <td>544</td>\n",
       "      <td>0</td>\n",
       "      <td>0</td>\n",
       "      <td>2010-04-16</td>\n",
       "      <td>2016-04-16</td>\n",
       "      <td>2010-04-16</td>\n",
       "      <td>2015-04-17</td>\n",
       "      <td>47.96</td>\n",
       "      <td>0</td>\n",
       "      <td>0.0</td>\n",
       "      <td>38.72</td>\n",
       "      <td>0.165794</td>\n",
       "      <td>0.087899</td>\n",
       "      <td>44.311378</td>\n",
       "      <td>f</td>\n",
       "      <td>0.00</td>\n",
       "      <td>28.60</td>\n",
       "      <td>28.60</td>\n",
       "      <td>1</td>\n",
       "      <td>6.60</td>\n",
       "      <td>6</td>\n",
       "      <td>kamkkxfxxuwbdslkwifmmcsiusiuosws</td>\n",
       "      <td>13.856</td>\n",
       "      <td>0</td>\n",
       "    </tr>\n",
       "    <tr>\n",
       "      <th>3</th>\n",
       "      <td>bba03439a292a1e166f80264c16191cb</td>\n",
       "      <td>lmkebamcaaclubfxadlmueccxoimlema</td>\n",
       "      <td>1584</td>\n",
       "      <td>0</td>\n",
       "      <td>0</td>\n",
       "      <td>2010-03-30</td>\n",
       "      <td>2016-03-30</td>\n",
       "      <td>2010-03-30</td>\n",
       "      <td>2015-03-31</td>\n",
       "      <td>240.04</td>\n",
       "      <td>0</td>\n",
       "      <td>0.0</td>\n",
       "      <td>19.83</td>\n",
       "      <td>0.146694</td>\n",
       "      <td>0.000000</td>\n",
       "      <td>44.311378</td>\n",
       "      <td>f</td>\n",
       "      <td>0.00</td>\n",
       "      <td>30.22</td>\n",
       "      <td>30.22</td>\n",
       "      <td>1</td>\n",
       "      <td>25.46</td>\n",
       "      <td>6</td>\n",
       "      <td>kamkkxfxxuwbdslkwifmmcsiusiuosws</td>\n",
       "      <td>13.200</td>\n",
       "      <td>0</td>\n",
       "    </tr>\n",
       "    <tr>\n",
       "      <th>4</th>\n",
       "      <td>149d57cf92fc41cf94415803a877cb4b</td>\n",
       "      <td>MISSING</td>\n",
       "      <td>4425</td>\n",
       "      <td>0</td>\n",
       "      <td>526</td>\n",
       "      <td>2010-01-13</td>\n",
       "      <td>2016-03-07</td>\n",
       "      <td>2010-01-13</td>\n",
       "      <td>2015-03-09</td>\n",
       "      <td>445.75</td>\n",
       "      <td>526</td>\n",
       "      <td>0.0</td>\n",
       "      <td>131.73</td>\n",
       "      <td>0.116900</td>\n",
       "      <td>0.100015</td>\n",
       "      <td>40.606701</td>\n",
       "      <td>f</td>\n",
       "      <td>52.32</td>\n",
       "      <td>44.91</td>\n",
       "      <td>44.91</td>\n",
       "      <td>1</td>\n",
       "      <td>47.98</td>\n",
       "      <td>6</td>\n",
       "      <td>kamkkxfxxuwbdslkwifmmcsiusiuosws</td>\n",
       "      <td>19.800</td>\n",
       "      <td>0</td>\n",
       "    </tr>\n",
       "  </tbody>\n",
       "</table>\n",
       "</div>"
      ],
      "text/plain": [
       "                                 id                     channel_sales  \\\n",
       "0  24011ae4ebbe3035111d65fa7c15bc57  foosdfpfkusacimwkcsosbicdxkicaua   \n",
       "1  d29c2c54acc38ff3c0614d0a653813dd                           MISSING   \n",
       "2  764c75f661154dac3a6c254cd082ea7d  foosdfpfkusacimwkcsosbicdxkicaua   \n",
       "3  bba03439a292a1e166f80264c16191cb  lmkebamcaaclubfxadlmueccxoimlema   \n",
       "4  149d57cf92fc41cf94415803a877cb4b                           MISSING   \n",
       "\n",
       "   cons_12m  cons_gas_12m  cons_last_month  date_activ    date_end  \\\n",
       "0         0         54946                0  2013-06-15  2016-06-15   \n",
       "1      4660             0                0  2009-08-21  2016-08-30   \n",
       "2       544             0                0  2010-04-16  2016-04-16   \n",
       "3      1584             0                0  2010-03-30  2016-03-30   \n",
       "4      4425             0              526  2010-01-13  2016-03-07   \n",
       "\n",
       "  date_modif_prod date_renewal  forecast_cons_12m  forecast_cons_year  \\\n",
       "0      2015-11-01   2015-06-23               0.00                   0   \n",
       "1      2009-08-21   2015-08-31             189.95                   0   \n",
       "2      2010-04-16   2015-04-17              47.96                   0   \n",
       "3      2010-03-30   2015-03-31             240.04                   0   \n",
       "4      2010-01-13   2015-03-09             445.75                 526   \n",
       "\n",
       "   forecast_discount_energy  forecast_meter_rent_12m  \\\n",
       "0                       0.0                     1.78   \n",
       "1                       0.0                    16.27   \n",
       "2                       0.0                    38.72   \n",
       "3                       0.0                    19.83   \n",
       "4                       0.0                   131.73   \n",
       "\n",
       "   forecast_price_energy_off_peak  forecast_price_energy_peak  \\\n",
       "0                        0.114481                    0.098142   \n",
       "1                        0.145711                    0.000000   \n",
       "2                        0.165794                    0.087899   \n",
       "3                        0.146694                    0.000000   \n",
       "4                        0.116900                    0.100015   \n",
       "\n",
       "   forecast_price_pow_off_peak has_gas  imp_cons  margin_gross_pow_ele  \\\n",
       "0                    40.606701       t      0.00                 25.44   \n",
       "1                    44.311378       f      0.00                 16.38   \n",
       "2                    44.311378       f      0.00                 28.60   \n",
       "3                    44.311378       f      0.00                 30.22   \n",
       "4                    40.606701       f     52.32                 44.91   \n",
       "\n",
       "   margin_net_pow_ele  nb_prod_act  net_margin  num_years_antig  \\\n",
       "0               25.44            2      678.99                3   \n",
       "1               16.38            1       18.89                6   \n",
       "2               28.60            1        6.60                6   \n",
       "3               30.22            1       25.46                6   \n",
       "4               44.91            1       47.98                6   \n",
       "\n",
       "                          origin_up  pow_max  churn  \n",
       "0  lxidpiddsbxsbosboudacockeimpuepw   43.648      1  \n",
       "1  kamkkxfxxuwbdslkwifmmcsiusiuosws   13.800      0  \n",
       "2  kamkkxfxxuwbdslkwifmmcsiusiuosws   13.856      0  \n",
       "3  kamkkxfxxuwbdslkwifmmcsiusiuosws   13.200      0  \n",
       "4  kamkkxfxxuwbdslkwifmmcsiusiuosws   19.800      0  "
      ]
     },
     "execution_count": 4,
     "metadata": {},
     "output_type": "execute_result"
    }
   ],
   "source": [
    "client_df.head()"
   ]
  },
  {
   "cell_type": "markdown",
   "id": "1b2ff3cf",
   "metadata": {},
   "source": [
    "### client_data.csv\n",
    "\n",
    "*\tid = client company identifier\n",
    "\n",
    "* activity_new = category of the company’s activity\n",
    "\n",
    "*\tchannel_sales = code of the sales channel\n",
    "\n",
    "*\tcons_12m = electricity consumption of the past 12 months\n",
    "\n",
    "*\tcons_gas_12m = gas consumption of the past 12 months\n",
    "\n",
    "*\tcons_last_month = electricity consumption of the last month\n",
    "\n",
    "*\tdate_activ = date of activation of the contract\n",
    "\n",
    "*\tdate_end = registered date of the end of the contract\n",
    "\n",
    "*\tdate_modif_prod = date of the last modification of the product\n",
    "\n",
    "*\tdate_renewal = date of the next contract renewal\n",
    "\n",
    "*\tforecast_cons_12m = forecasted electricity consumption for next 12 months\n",
    "\n",
    "*\tforecast_cons_year = forecasted electricity consumption for the next calendar year\n",
    "\n",
    "*\tforecast_discount_energy = forecasted value of current discount\n",
    "\n",
    "*\tforecast_meter_rent_12m = forecasted bill of meter rental for the next 2 months\n",
    "\n",
    "*\tforecast_price_energy_off_peak = forecasted energy price for 1st period (off peak)\n",
    "\n",
    "*\tforecast_price_energy_peak = forecasted energy price for 2nd period (peak)\n",
    "\n",
    "*\tforecast_price_pow_off_peak = forecasted power price for 1st period (off peak)\n",
    "\n",
    "*\thas_gas = indicated if client is also a gas client\n",
    "\n",
    "*\timp_cons = current paid consumption\n",
    "\n",
    "*\tmargin_gross_pow_ele = gross margin on power subscription\n",
    "\n",
    "*\tmargin_net_pow_ele = net margin on power subscription\n",
    "\n",
    "*\tnb_prod_act = number of active products and services\n",
    "\n",
    "*\tnet_margin = total net margin\n",
    "\n",
    "*\tnum_years_antig = antiquity of the client (in number of years)\n",
    "\n",
    "*\torigin_up = code of the electricity campaign the customer first subscribed to\n",
    "\n",
    "*\tpow_max = subscribed power\n",
    "\n",
    "*\tchurn = has the client churned over the next 3 months\n"
   ]
  },
  {
   "cell_type": "markdown",
   "id": "87447c6c",
   "metadata": {},
   "source": [
    "\n",
    "### Descriptive statistics of data\n",
    "\n",
    "#### Data types\n",
    "\n",
    "Before transforming and engineering features, it is important to gain a comprehensive understanding of the data at hand, including the data types associated with each column. The types of data present can have an impact on the necessary transformations and feature engineering techniques employed. To obtain an overview of the data types within a data frame, the info() method can be utilized."
   ]
  },
  {
   "cell_type": "code",
   "execution_count": 63,
   "id": "9f6d5661",
   "metadata": {},
   "outputs": [
    {
     "name": "stdout",
     "output_type": "stream",
     "text": [
      "<class 'pandas.core.frame.DataFrame'>\n",
      "RangeIndex: 14606 entries, 0 to 14605\n",
      "Data columns (total 28 columns):\n",
      " #   Column                          Non-Null Count  Dtype         \n",
      "---  ------                          --------------  -----         \n",
      " 0   id                              14606 non-null  object        \n",
      " 1   channel_sales                   14606 non-null  int32         \n",
      " 2   cons_12m                        14606 non-null  int64         \n",
      " 3   cons_gas_12m                    14606 non-null  int64         \n",
      " 4   cons_last_month                 14606 non-null  int64         \n",
      " 5   date_activ                      14606 non-null  datetime64[ns]\n",
      " 6   date_end                        14606 non-null  datetime64[ns]\n",
      " 7   date_modif_prod                 14606 non-null  datetime64[ns]\n",
      " 8   date_renewal                    14606 non-null  datetime64[ns]\n",
      " 9   forecast_cons_12m               14606 non-null  float64       \n",
      " 10  forecast_cons_year              14606 non-null  int64         \n",
      " 11  forecast_discount_energy        14606 non-null  float64       \n",
      " 12  forecast_meter_rent_12m         14606 non-null  float64       \n",
      " 13  forecast_price_energy_off_peak  14606 non-null  float64       \n",
      " 14  forecast_price_energy_peak      14606 non-null  float64       \n",
      " 15  forecast_price_pow_off_peak     14606 non-null  float64       \n",
      " 16  has_gas                         14606 non-null  object        \n",
      " 17  imp_cons                        14606 non-null  float64       \n",
      " 18  margin_gross_pow_ele            14606 non-null  float64       \n",
      " 19  margin_net_pow_ele              14606 non-null  float64       \n",
      " 20  nb_prod_act                     14606 non-null  int64         \n",
      " 21  net_margin                      14606 non-null  float64       \n",
      " 22  num_years_antig                 14606 non-null  int64         \n",
      " 23  origin_up                       14606 non-null  int32         \n",
      " 24  pow_max                         14606 non-null  float64       \n",
      " 25  churn                           14606 non-null  int64         \n",
      " 26  contract_start_year             14606 non-null  int64         \n",
      " 27  contract_end_year               14606 non-null  int64         \n",
      "dtypes: datetime64[ns](4), float64(11), int32(2), int64(9), object(2)\n",
      "memory usage: 3.0+ MB\n"
     ]
    }
   ],
   "source": [
    "client_df.info()"
   ]
  },
  {
   "cell_type": "markdown",
   "id": "925afa37",
   "metadata": {},
   "source": [
    "Convert the four date-related features from the object data type to the datetime data type."
   ]
  },
  {
   "cell_type": "code",
   "execution_count": 6,
   "id": "d0834752",
   "metadata": {},
   "outputs": [],
   "source": [
    "# convert datetime feature to datetime data type\n",
    "for f in ['date_activ','date_end','date_modif_prod','date_renewal']:\n",
    "    client_df[f] = pd.to_datetime(client_df[f])"
   ]
  },
  {
   "cell_type": "code",
   "execution_count": 7,
   "id": "0a7fe6d0",
   "metadata": {},
   "outputs": [],
   "source": [
    "# Add some new features to the above datetime features\n",
    "client_df['contract_start_year'] = client_df['date_activ'].dt.year\n",
    "client_df['contract_end_year'] = client_df['date_end'].dt.year"
   ]
  },
  {
   "cell_type": "markdown",
   "id": "a00f8f99",
   "metadata": {},
   "source": [
    "#### Perform a check for missing values and duplicate records."
   ]
  },
  {
   "cell_type": "code",
   "execution_count": 8,
   "id": "79bb2d28",
   "metadata": {},
   "outputs": [
    {
     "data": {
      "text/plain": [
       "id                                0\n",
       "channel_sales                     0\n",
       "cons_12m                          0\n",
       "cons_gas_12m                      0\n",
       "cons_last_month                   0\n",
       "date_activ                        0\n",
       "date_end                          0\n",
       "date_modif_prod                   0\n",
       "date_renewal                      0\n",
       "forecast_cons_12m                 0\n",
       "forecast_cons_year                0\n",
       "forecast_discount_energy          0\n",
       "forecast_meter_rent_12m           0\n",
       "forecast_price_energy_off_peak    0\n",
       "forecast_price_energy_peak        0\n",
       "forecast_price_pow_off_peak       0\n",
       "has_gas                           0\n",
       "imp_cons                          0\n",
       "margin_gross_pow_ele              0\n",
       "margin_net_pow_ele                0\n",
       "nb_prod_act                       0\n",
       "net_margin                        0\n",
       "num_years_antig                   0\n",
       "origin_up                         0\n",
       "pow_max                           0\n",
       "churn                             0\n",
       "contract_start_year               0\n",
       "contract_end_year                 0\n",
       "dtype: int64"
      ]
     },
     "execution_count": 8,
     "metadata": {},
     "output_type": "execute_result"
    }
   ],
   "source": [
    "client_df.isna().sum()"
   ]
  },
  {
   "cell_type": "code",
   "execution_count": 9,
   "id": "a4e9e960",
   "metadata": {},
   "outputs": [
    {
     "data": {
      "text/plain": [
       "0"
      ]
     },
     "execution_count": 9,
     "metadata": {},
     "output_type": "execute_result"
    }
   ],
   "source": [
    "client_df.duplicated().sum()"
   ]
  },
  {
   "cell_type": "code",
   "execution_count": 10,
   "id": "8c86d36b",
   "metadata": {},
   "outputs": [
    {
     "data": {
      "text/plain": [
       "(14606, 28)"
      ]
     },
     "execution_count": 10,
     "metadata": {},
     "output_type": "execute_result"
    }
   ],
   "source": [
    "client_df.shape"
   ]
  },
  {
   "cell_type": "markdown",
   "id": "d056b7d0",
   "metadata": {},
   "source": [
    "There are no missing values or duplicate rows present in the data."
   ]
  },
  {
   "cell_type": "markdown",
   "id": "6dce5aad",
   "metadata": {},
   "source": [
    "#### Check for consistency of features' values."
   ]
  },
  {
   "cell_type": "code",
   "execution_count": 11,
   "id": "e752cf94",
   "metadata": {},
   "outputs": [],
   "source": [
    "# \n",
    "def describe_categorical(dataset):\n",
    "    cat_columns = dataset.dtypes[dataset.dtypes=='object'].index.tolist()\n",
    "    if len(cat_columns)!=0:\n",
    "        print('Categorical variables are', cat_columns,'\\n'+'=='*40)\n",
    "        for cat in cat_columns:\n",
    "            describe_frame = dataset[[cat]].value_counts().reset_index(name='count')\n",
    "            describe_frame['proportion'] = describe_frame['count']/len(dataset)\n",
    "            print(describe_frame,'\\n'+'--'*40)    # display value count and proportion of a categorical feature\n",
    "    else:\n",
    "        print('There is no categorical variables in the dataset')"
   ]
  },
  {
   "cell_type": "markdown",
   "id": "7914d3be",
   "metadata": {},
   "source": [
    "There seems to be consistency issues in the categorical variables."
   ]
  },
  {
   "cell_type": "code",
   "execution_count": 12,
   "id": "99624207",
   "metadata": {},
   "outputs": [
    {
     "name": "stdout",
     "output_type": "stream",
     "text": [
      "Categorical variables are ['id', 'channel_sales', 'has_gas', 'origin_up'] \n",
      "================================================================================\n",
      "                                     id  count  proportion\n",
      "0      0002203ffbb812588b632b9e628cc38d      1    0.000068\n",
      "1      ab250252dfaded1c9a54834f9c829b43      1    0.000068\n",
      "2      ab32c3a8d93c88b485499566526cb34d      1    0.000068\n",
      "3      ab3392ec2bfd3605624f31d3c6828c21      1    0.000068\n",
      "4      ab346731fef5aa291919ea43e45af5a7      1    0.000068\n",
      "...                                 ...    ...         ...\n",
      "14601  55091aace7bd0fadd194f46cb4886fea      1    0.000068\n",
      "14602  550b8d2f9c298abd8f05fca3bc1a13c4      1    0.000068\n",
      "14603  5514b18508f378a39f41657554aa72e3      1    0.000068\n",
      "14604  551cb1b1faf72259c2c182dedec12c98      1    0.000068\n",
      "14605  ffff7fa066f1fb305ae285bb03bf325a      1    0.000068\n",
      "\n",
      "[14606 rows x 3 columns] \n",
      "--------------------------------------------------------------------------------\n",
      "                      channel_sales  count  proportion\n",
      "0  foosdfpfkusacimwkcsosbicdxkicaua   6754    0.462413\n",
      "1                           MISSING   3725    0.255032\n",
      "2  lmkebamcaaclubfxadlmueccxoimlema   1843    0.126181\n",
      "3  usilxuppasemubllopkaafesmlibmsdf   1375    0.094139\n",
      "4  ewpakwlliwisiwduibdlfmalxowmwpci    893    0.061139\n",
      "5  sddiedcslfslkckwlfkdpoeeailfpeds     11    0.000753\n",
      "6  epumfxlbckeskwekxbiuasklxalciiuu      3    0.000205\n",
      "7  fixdbufsefwooaasfcxdxadsiekoceaa      2    0.000137 \n",
      "--------------------------------------------------------------------------------\n",
      "  has_gas  count  proportion\n",
      "0       f  11955    0.818499\n",
      "1       t   2651    0.181501 \n",
      "--------------------------------------------------------------------------------\n",
      "                          origin_up  count  proportion\n",
      "0  lxidpiddsbxsbosboudacockeimpuepw   7097    0.485896\n",
      "1  kamkkxfxxuwbdslkwifmmcsiusiuosws   4294    0.293989\n",
      "2  ldkssxwpmemidmecebumciepifcamkci   3148    0.215528\n",
      "3                           MISSING     64    0.004382\n",
      "4  usapbepcfoloekilkwsdiboslwaxobdp      2    0.000137\n",
      "5  ewxeelcelemmiwuafmddpobolfuxioce      1    0.000068 \n",
      "--------------------------------------------------------------------------------\n"
     ]
    }
   ],
   "source": [
    "describe_categorical(dataset=client_df)"
   ]
  },
  {
   "cell_type": "markdown",
   "id": "2913643b",
   "metadata": {},
   "source": [
    "Since the values in the \"channel_sales\" and \"origin_up\" features are not easily interpretable, we will convert these features into numeric data type using label encoding."
   ]
  },
  {
   "cell_type": "code",
   "execution_count": 13,
   "id": "7f09788e",
   "metadata": {},
   "outputs": [],
   "source": [
    "# label encoding\n",
    "channel_encoder = LabelEncoder()\n",
    "client_df['channel_sales'] = channel_encoder.fit_transform(client_df['channel_sales'])\n",
    "origin_encoder = LabelEncoder()\n",
    "client_df['origin_up'] = origin_encoder.fit_transform(client_df['origin_up'])"
   ]
  },
  {
   "cell_type": "code",
   "execution_count": 14,
   "id": "0753898f",
   "metadata": {},
   "outputs": [
    {
     "data": {
      "text/html": [
       "<div>\n",
       "<style scoped>\n",
       "    .dataframe tbody tr th:only-of-type {\n",
       "        vertical-align: middle;\n",
       "    }\n",
       "\n",
       "    .dataframe tbody tr th {\n",
       "        vertical-align: top;\n",
       "    }\n",
       "\n",
       "    .dataframe thead th {\n",
       "        text-align: right;\n",
       "    }\n",
       "</style>\n",
       "<table border=\"1\" class=\"dataframe\">\n",
       "  <thead>\n",
       "    <tr style=\"text-align: right;\">\n",
       "      <th></th>\n",
       "      <th>id</th>\n",
       "      <th>channel_sales</th>\n",
       "      <th>cons_12m</th>\n",
       "      <th>cons_gas_12m</th>\n",
       "      <th>cons_last_month</th>\n",
       "      <th>date_activ</th>\n",
       "      <th>date_end</th>\n",
       "      <th>date_modif_prod</th>\n",
       "      <th>date_renewal</th>\n",
       "      <th>forecast_cons_12m</th>\n",
       "      <th>forecast_cons_year</th>\n",
       "      <th>forecast_discount_energy</th>\n",
       "      <th>forecast_meter_rent_12m</th>\n",
       "      <th>forecast_price_energy_off_peak</th>\n",
       "      <th>forecast_price_energy_peak</th>\n",
       "      <th>forecast_price_pow_off_peak</th>\n",
       "      <th>has_gas</th>\n",
       "      <th>imp_cons</th>\n",
       "      <th>margin_gross_pow_ele</th>\n",
       "      <th>margin_net_pow_ele</th>\n",
       "      <th>nb_prod_act</th>\n",
       "      <th>net_margin</th>\n",
       "      <th>num_years_antig</th>\n",
       "      <th>origin_up</th>\n",
       "      <th>pow_max</th>\n",
       "      <th>churn</th>\n",
       "      <th>contract_start_year</th>\n",
       "      <th>contract_end_year</th>\n",
       "    </tr>\n",
       "  </thead>\n",
       "  <tbody>\n",
       "    <tr>\n",
       "      <th>0</th>\n",
       "      <td>24011ae4ebbe3035111d65fa7c15bc57</td>\n",
       "      <td>4</td>\n",
       "      <td>0</td>\n",
       "      <td>54946</td>\n",
       "      <td>0</td>\n",
       "      <td>2013-06-15</td>\n",
       "      <td>2016-06-15</td>\n",
       "      <td>2015-11-01</td>\n",
       "      <td>2015-06-23</td>\n",
       "      <td>0.00</td>\n",
       "      <td>0</td>\n",
       "      <td>0.0</td>\n",
       "      <td>1.78</td>\n",
       "      <td>0.114481</td>\n",
       "      <td>0.098142</td>\n",
       "      <td>40.606701</td>\n",
       "      <td>t</td>\n",
       "      <td>0.00</td>\n",
       "      <td>25.44</td>\n",
       "      <td>25.44</td>\n",
       "      <td>2</td>\n",
       "      <td>678.99</td>\n",
       "      <td>3</td>\n",
       "      <td>4</td>\n",
       "      <td>43.648</td>\n",
       "      <td>1</td>\n",
       "      <td>2013</td>\n",
       "      <td>2016</td>\n",
       "    </tr>\n",
       "    <tr>\n",
       "      <th>1</th>\n",
       "      <td>d29c2c54acc38ff3c0614d0a653813dd</td>\n",
       "      <td>0</td>\n",
       "      <td>4660</td>\n",
       "      <td>0</td>\n",
       "      <td>0</td>\n",
       "      <td>2009-08-21</td>\n",
       "      <td>2016-08-30</td>\n",
       "      <td>2009-08-21</td>\n",
       "      <td>2015-08-31</td>\n",
       "      <td>189.95</td>\n",
       "      <td>0</td>\n",
       "      <td>0.0</td>\n",
       "      <td>16.27</td>\n",
       "      <td>0.145711</td>\n",
       "      <td>0.000000</td>\n",
       "      <td>44.311378</td>\n",
       "      <td>f</td>\n",
       "      <td>0.00</td>\n",
       "      <td>16.38</td>\n",
       "      <td>16.38</td>\n",
       "      <td>1</td>\n",
       "      <td>18.89</td>\n",
       "      <td>6</td>\n",
       "      <td>2</td>\n",
       "      <td>13.800</td>\n",
       "      <td>0</td>\n",
       "      <td>2009</td>\n",
       "      <td>2016</td>\n",
       "    </tr>\n",
       "    <tr>\n",
       "      <th>2</th>\n",
       "      <td>764c75f661154dac3a6c254cd082ea7d</td>\n",
       "      <td>4</td>\n",
       "      <td>544</td>\n",
       "      <td>0</td>\n",
       "      <td>0</td>\n",
       "      <td>2010-04-16</td>\n",
       "      <td>2016-04-16</td>\n",
       "      <td>2010-04-16</td>\n",
       "      <td>2015-04-17</td>\n",
       "      <td>47.96</td>\n",
       "      <td>0</td>\n",
       "      <td>0.0</td>\n",
       "      <td>38.72</td>\n",
       "      <td>0.165794</td>\n",
       "      <td>0.087899</td>\n",
       "      <td>44.311378</td>\n",
       "      <td>f</td>\n",
       "      <td>0.00</td>\n",
       "      <td>28.60</td>\n",
       "      <td>28.60</td>\n",
       "      <td>1</td>\n",
       "      <td>6.60</td>\n",
       "      <td>6</td>\n",
       "      <td>2</td>\n",
       "      <td>13.856</td>\n",
       "      <td>0</td>\n",
       "      <td>2010</td>\n",
       "      <td>2016</td>\n",
       "    </tr>\n",
       "    <tr>\n",
       "      <th>3</th>\n",
       "      <td>bba03439a292a1e166f80264c16191cb</td>\n",
       "      <td>5</td>\n",
       "      <td>1584</td>\n",
       "      <td>0</td>\n",
       "      <td>0</td>\n",
       "      <td>2010-03-30</td>\n",
       "      <td>2016-03-30</td>\n",
       "      <td>2010-03-30</td>\n",
       "      <td>2015-03-31</td>\n",
       "      <td>240.04</td>\n",
       "      <td>0</td>\n",
       "      <td>0.0</td>\n",
       "      <td>19.83</td>\n",
       "      <td>0.146694</td>\n",
       "      <td>0.000000</td>\n",
       "      <td>44.311378</td>\n",
       "      <td>f</td>\n",
       "      <td>0.00</td>\n",
       "      <td>30.22</td>\n",
       "      <td>30.22</td>\n",
       "      <td>1</td>\n",
       "      <td>25.46</td>\n",
       "      <td>6</td>\n",
       "      <td>2</td>\n",
       "      <td>13.200</td>\n",
       "      <td>0</td>\n",
       "      <td>2010</td>\n",
       "      <td>2016</td>\n",
       "    </tr>\n",
       "    <tr>\n",
       "      <th>4</th>\n",
       "      <td>149d57cf92fc41cf94415803a877cb4b</td>\n",
       "      <td>0</td>\n",
       "      <td>4425</td>\n",
       "      <td>0</td>\n",
       "      <td>526</td>\n",
       "      <td>2010-01-13</td>\n",
       "      <td>2016-03-07</td>\n",
       "      <td>2010-01-13</td>\n",
       "      <td>2015-03-09</td>\n",
       "      <td>445.75</td>\n",
       "      <td>526</td>\n",
       "      <td>0.0</td>\n",
       "      <td>131.73</td>\n",
       "      <td>0.116900</td>\n",
       "      <td>0.100015</td>\n",
       "      <td>40.606701</td>\n",
       "      <td>f</td>\n",
       "      <td>52.32</td>\n",
       "      <td>44.91</td>\n",
       "      <td>44.91</td>\n",
       "      <td>1</td>\n",
       "      <td>47.98</td>\n",
       "      <td>6</td>\n",
       "      <td>2</td>\n",
       "      <td>19.800</td>\n",
       "      <td>0</td>\n",
       "      <td>2010</td>\n",
       "      <td>2016</td>\n",
       "    </tr>\n",
       "  </tbody>\n",
       "</table>\n",
       "</div>"
      ],
      "text/plain": [
       "                                 id  channel_sales  cons_12m  cons_gas_12m  \\\n",
       "0  24011ae4ebbe3035111d65fa7c15bc57              4         0         54946   \n",
       "1  d29c2c54acc38ff3c0614d0a653813dd              0      4660             0   \n",
       "2  764c75f661154dac3a6c254cd082ea7d              4       544             0   \n",
       "3  bba03439a292a1e166f80264c16191cb              5      1584             0   \n",
       "4  149d57cf92fc41cf94415803a877cb4b              0      4425             0   \n",
       "\n",
       "   cons_last_month date_activ   date_end date_modif_prod date_renewal  \\\n",
       "0                0 2013-06-15 2016-06-15      2015-11-01   2015-06-23   \n",
       "1                0 2009-08-21 2016-08-30      2009-08-21   2015-08-31   \n",
       "2                0 2010-04-16 2016-04-16      2010-04-16   2015-04-17   \n",
       "3                0 2010-03-30 2016-03-30      2010-03-30   2015-03-31   \n",
       "4              526 2010-01-13 2016-03-07      2010-01-13   2015-03-09   \n",
       "\n",
       "   forecast_cons_12m  forecast_cons_year  forecast_discount_energy  \\\n",
       "0               0.00                   0                       0.0   \n",
       "1             189.95                   0                       0.0   \n",
       "2              47.96                   0                       0.0   \n",
       "3             240.04                   0                       0.0   \n",
       "4             445.75                 526                       0.0   \n",
       "\n",
       "   forecast_meter_rent_12m  forecast_price_energy_off_peak  \\\n",
       "0                     1.78                        0.114481   \n",
       "1                    16.27                        0.145711   \n",
       "2                    38.72                        0.165794   \n",
       "3                    19.83                        0.146694   \n",
       "4                   131.73                        0.116900   \n",
       "\n",
       "   forecast_price_energy_peak  forecast_price_pow_off_peak has_gas  imp_cons  \\\n",
       "0                    0.098142                    40.606701       t      0.00   \n",
       "1                    0.000000                    44.311378       f      0.00   \n",
       "2                    0.087899                    44.311378       f      0.00   \n",
       "3                    0.000000                    44.311378       f      0.00   \n",
       "4                    0.100015                    40.606701       f     52.32   \n",
       "\n",
       "   margin_gross_pow_ele  margin_net_pow_ele  nb_prod_act  net_margin  \\\n",
       "0                 25.44               25.44            2      678.99   \n",
       "1                 16.38               16.38            1       18.89   \n",
       "2                 28.60               28.60            1        6.60   \n",
       "3                 30.22               30.22            1       25.46   \n",
       "4                 44.91               44.91            1       47.98   \n",
       "\n",
       "   num_years_antig  origin_up  pow_max  churn  contract_start_year  \\\n",
       "0                3          4   43.648      1                 2013   \n",
       "1                6          2   13.800      0                 2009   \n",
       "2                6          2   13.856      0                 2010   \n",
       "3                6          2   13.200      0                 2010   \n",
       "4                6          2   19.800      0                 2010   \n",
       "\n",
       "   contract_end_year  \n",
       "0               2016  \n",
       "1               2016  \n",
       "2               2016  \n",
       "3               2016  \n",
       "4               2016  "
      ]
     },
     "execution_count": 14,
     "metadata": {},
     "output_type": "execute_result"
    }
   ],
   "source": [
    "client_df.head()"
   ]
  },
  {
   "cell_type": "markdown",
   "id": "18109f68",
   "metadata": {},
   "source": [
    "#### Perform a check on the numeric features."
   ]
  },
  {
   "cell_type": "code",
   "execution_count": 15,
   "id": "3c37f2e1",
   "metadata": {},
   "outputs": [],
   "source": [
    "# dataset: a pandas dataframe;\n",
    "def describe_numeric(dataset):\n",
    "    # for numeric columns whose values are discrete, display values and their frequency\n",
    "    int_columns = dataset.dtypes[dataset.dtypes=='int64'].index.tolist()\n",
    "    # for numeric columns whose values are continuous, plot their value distribution\n",
    "    float_columns = dataset.dtypes[dataset.dtypes=='float'].index.tolist()\n",
    "    if len(int_columns)+len(float_columns)!=0:\n",
    "        print('Numeric variables are', int_columns+float_columns,'\\n'+'=='*40)\n",
    "        # integer numeric feature\n",
    "        if len(int_columns)!=0:    \n",
    "            for cat in int_columns:\n",
    "                describe_frame = dataset[[cat]].value_counts().reset_index(name='count')\n",
    "                describe_frame['proportion'] = describe_frame['count']/len(dataset)\n",
    "                print(describe_frame,'\\n'+'--'*40)    # display value count and proportion of a categorical feature\n",
    "        # \n",
    "        print(dataset[int_columns + float_columns].describe().loc[['min','max','mean','50%']].T.rename(columns={'50%':'median'}), '\\n'+'--'*40)\n",
    "    else:\n",
    "        print('There is no numeric variables in the dataset')"
   ]
  },
  {
   "cell_type": "markdown",
   "id": "42dc4ed9",
   "metadata": {},
   "source": [
    "There are no issues with the numeric features."
   ]
  },
  {
   "cell_type": "code",
   "execution_count": 16,
   "id": "4f9b73e4",
   "metadata": {},
   "outputs": [
    {
     "name": "stdout",
     "output_type": "stream",
     "text": [
      "Numeric variables are ['cons_12m', 'cons_gas_12m', 'cons_last_month', 'forecast_cons_year', 'nb_prod_act', 'num_years_antig', 'churn', 'contract_start_year', 'contract_end_year', 'forecast_cons_12m', 'forecast_discount_energy', 'forecast_meter_rent_12m', 'forecast_price_energy_off_peak', 'forecast_price_energy_peak', 'forecast_price_pow_off_peak', 'imp_cons', 'margin_gross_pow_ele', 'margin_net_pow_ele', 'net_margin', 'pow_max'] \n",
      "================================================================================\n",
      "       cons_12m  count  proportion\n",
      "0             0    117    0.008010\n",
      "1       2882597     27    0.001849\n",
      "2       3329244     24    0.001643\n",
      "3       1743025     18    0.001232\n",
      "4       3926060     18    0.001232\n",
      "...         ...    ...         ...\n",
      "11060     10297      1    0.000068\n",
      "11061     10305      1    0.000068\n",
      "11062     10311      1    0.000068\n",
      "11063     10312      1    0.000068\n",
      "11064     14285      1    0.000068\n",
      "\n",
      "[11065 rows x 3 columns] \n",
      "--------------------------------------------------------------------------------\n",
      "      cons_gas_12m  count  proportion\n",
      "0                0  11994    0.821169\n",
      "1           976731     27    0.001849\n",
      "2           867921     24    0.001643\n",
      "3          1959386     18    0.001232\n",
      "4            41532     18    0.001232\n",
      "...            ...    ...         ...\n",
      "2107         10334      1    0.000068\n",
      "2108           869      1    0.000068\n",
      "2109         10284      1    0.000068\n",
      "2110         10264      1    0.000068\n",
      "2111         15928      1    0.000068\n",
      "\n",
      "[2112 rows x 3 columns] \n",
      "--------------------------------------------------------------------------------\n",
      "      cons_last_month  count  proportion\n",
      "0                   0   4983    0.341161\n",
      "1              382647     27    0.001849\n",
      "2              509826     24    0.001643\n",
      "3              558120     18    0.001232\n",
      "4              469210     18    0.001232\n",
      "...               ...    ...         ...\n",
      "4746             3640      1    0.000068\n",
      "4747             3642      1    0.000068\n",
      "4748             3644      1    0.000068\n",
      "4749             3645      1    0.000068\n",
      "4750             3033      1    0.000068\n",
      "\n",
      "[4751 rows x 3 columns] \n",
      "--------------------------------------------------------------------------------\n",
      "      forecast_cons_year  count  proportion\n",
      "0                      0   6148    0.420923\n",
      "1                      8     13    0.000890\n",
      "2                      1     13    0.000890\n",
      "3                    453     11    0.000753\n",
      "4                      7     11    0.000753\n",
      "...                  ...    ...         ...\n",
      "4213                3356      1    0.000068\n",
      "4214                3357      1    0.000068\n",
      "4215                3358      1    0.000068\n",
      "4216                3360      1    0.000068\n",
      "4217              175375      1    0.000068\n",
      "\n",
      "[4218 rows x 3 columns] \n",
      "--------------------------------------------------------------------------------\n",
      "   nb_prod_act  count  proportion\n",
      "0            1  11431    0.782624\n",
      "1            2   2445    0.167397\n",
      "2            3    523    0.035807\n",
      "3            4    150    0.010270\n",
      "4            5     31    0.002122\n",
      "5            9     11    0.000753\n",
      "6            6      8    0.000548\n",
      "7            8      4    0.000274\n",
      "8           10      2    0.000137\n",
      "9           32      1    0.000068 \n",
      "--------------------------------------------------------------------------------\n",
      "    num_years_antig  count  proportion\n",
      "0                 6   4769    0.326510\n",
      "1                 4   3982    0.272628\n",
      "2                 3   2433    0.166575\n",
      "3                 5   2317    0.158633\n",
      "4                 7    509    0.034849\n",
      "5                11    185    0.012666\n",
      "6                12    110    0.007531\n",
      "7                 8    103    0.007052\n",
      "8                 9     92    0.006299\n",
      "9                10     81    0.005546\n",
      "10               13     13    0.000890\n",
      "11                2     11    0.000753\n",
      "12                1      1    0.000068 \n",
      "--------------------------------------------------------------------------------\n",
      "   churn  count  proportion\n",
      "0      0  13187    0.902848\n",
      "1      1   1419    0.097152 \n",
      "--------------------------------------------------------------------------------\n",
      "    contract_start_year  count  proportion\n",
      "0                  2012   3704    0.253594\n",
      "1                  2010   3609    0.247090\n",
      "2                  2011   2758    0.188827\n",
      "3                  2009   2690    0.184171\n",
      "4                  2013   1224    0.083801\n",
      "5                  2005    189    0.012940\n",
      "6                  2004    137    0.009380\n",
      "7                  2008    124    0.008490\n",
      "8                  2007     95    0.006504\n",
      "9                  2003     39    0.002670\n",
      "10                 2006     36    0.002465\n",
      "11                 2014      1    0.000068 \n",
      "--------------------------------------------------------------------------------\n",
      "   contract_end_year  count  proportion\n",
      "0               2016  13663    0.935437\n",
      "1               2017    943    0.064563 \n",
      "--------------------------------------------------------------------------------\n",
      "                                   min           max           mean  \\\n",
      "cons_12m                           0.0  6.207104e+06  159220.286252   \n",
      "cons_gas_12m                       0.0  4.154590e+06   28092.375325   \n",
      "cons_last_month                    0.0  7.712030e+05   16090.269752   \n",
      "forecast_cons_year                 0.0  1.753750e+05    1399.762906   \n",
      "nb_prod_act                        1.0  3.200000e+01       1.292346   \n",
      "num_years_antig                    1.0  1.300000e+01       4.997809   \n",
      "churn                              0.0  1.000000e+00       0.097152   \n",
      "contract_start_year             2003.0  2.014000e+03    2010.577502   \n",
      "contract_end_year               2016.0  2.017000e+03    2016.064563   \n",
      "forecast_cons_12m                  0.0  8.290283e+04    1868.614880   \n",
      "forecast_discount_energy           0.0  3.000000e+01       0.966726   \n",
      "forecast_meter_rent_12m            0.0  5.993100e+02      63.086871   \n",
      "forecast_price_energy_off_peak     0.0  2.739630e-01       0.137283   \n",
      "forecast_price_energy_peak         0.0  1.959750e-01       0.050491   \n",
      "forecast_price_pow_off_peak        0.0  5.926638e+01      43.130056   \n",
      "imp_cons                           0.0  1.504279e+04     152.786896   \n",
      "margin_gross_pow_ele               0.0  3.746400e+02      24.565121   \n",
      "margin_net_pow_ele                 0.0  3.746400e+02      24.562517   \n",
      "net_margin                         0.0  2.457065e+04     189.264522   \n",
      "pow_max                            3.3  3.200000e+02      18.135136   \n",
      "\n",
      "                                      median  \n",
      "cons_12m                        14115.500000  \n",
      "cons_gas_12m                        0.000000  \n",
      "cons_last_month                   792.500000  \n",
      "forecast_cons_year                314.000000  \n",
      "nb_prod_act                         1.000000  \n",
      "num_years_antig                     5.000000  \n",
      "churn                               0.000000  \n",
      "contract_start_year              2011.000000  \n",
      "contract_end_year                2016.000000  \n",
      "forecast_cons_12m                1112.875000  \n",
      "forecast_discount_energy            0.000000  \n",
      "forecast_meter_rent_12m            18.795000  \n",
      "forecast_price_energy_off_peak      0.143166  \n",
      "forecast_price_energy_peak          0.084138  \n",
      "forecast_price_pow_off_peak        44.311378  \n",
      "imp_cons                           37.395000  \n",
      "margin_gross_pow_ele               21.640000  \n",
      "margin_net_pow_ele                 21.640000  \n",
      "net_margin                        112.530000  \n",
      "pow_max                            13.856000   \n",
      "--------------------------------------------------------------------------------\n"
     ]
    }
   ],
   "source": [
    "describe_numeric(dataset=client_df)"
   ]
  },
  {
   "cell_type": "markdown",
   "id": "63e38255",
   "metadata": {},
   "source": [
    "**Perform a check on the date time features.**"
   ]
  },
  {
   "cell_type": "code",
   "execution_count": 17,
   "id": "5affbfda",
   "metadata": {},
   "outputs": [
    {
     "data": {
      "text/html": [
       "<div>\n",
       "<style scoped>\n",
       "    .dataframe tbody tr th:only-of-type {\n",
       "        vertical-align: middle;\n",
       "    }\n",
       "\n",
       "    .dataframe tbody tr th {\n",
       "        vertical-align: top;\n",
       "    }\n",
       "\n",
       "    .dataframe thead th {\n",
       "        text-align: right;\n",
       "    }\n",
       "</style>\n",
       "<table border=\"1\" class=\"dataframe\">\n",
       "  <thead>\n",
       "    <tr style=\"text-align: right;\">\n",
       "      <th></th>\n",
       "      <th>date_activ</th>\n",
       "      <th>date_end</th>\n",
       "      <th>date_modif_prod</th>\n",
       "      <th>date_renewal</th>\n",
       "    </tr>\n",
       "  </thead>\n",
       "  <tbody>\n",
       "    <tr>\n",
       "      <th>count</th>\n",
       "      <td>14606</td>\n",
       "      <td>14606</td>\n",
       "      <td>14606</td>\n",
       "      <td>14606</td>\n",
       "    </tr>\n",
       "    <tr>\n",
       "      <th>mean</th>\n",
       "      <td>2011-01-28 07:54:18.879912448</td>\n",
       "      <td>2016-07-27 20:48:26.422018560</td>\n",
       "      <td>2013-01-02 12:29:10.951663872</td>\n",
       "      <td>2015-07-21 06:59:00.353279488</td>\n",
       "    </tr>\n",
       "    <tr>\n",
       "      <th>min</th>\n",
       "      <td>2003-05-09 00:00:00</td>\n",
       "      <td>2016-01-28 00:00:00</td>\n",
       "      <td>2003-05-09 00:00:00</td>\n",
       "      <td>2013-06-26 00:00:00</td>\n",
       "    </tr>\n",
       "    <tr>\n",
       "      <th>25%</th>\n",
       "      <td>2010-01-15 00:00:00</td>\n",
       "      <td>2016-04-27 06:00:00</td>\n",
       "      <td>2010-08-12 00:00:00</td>\n",
       "      <td>2015-04-17 00:00:00</td>\n",
       "    </tr>\n",
       "    <tr>\n",
       "      <th>50%</th>\n",
       "      <td>2011-03-04 00:00:00</td>\n",
       "      <td>2016-08-01 00:00:00</td>\n",
       "      <td>2013-06-19 00:00:00</td>\n",
       "      <td>2015-07-27 00:00:00</td>\n",
       "    </tr>\n",
       "    <tr>\n",
       "      <th>75%</th>\n",
       "      <td>2012-04-19 00:00:00</td>\n",
       "      <td>2016-10-31 00:00:00</td>\n",
       "      <td>2015-06-16 00:00:00</td>\n",
       "      <td>2015-10-29 00:00:00</td>\n",
       "    </tr>\n",
       "    <tr>\n",
       "      <th>max</th>\n",
       "      <td>2014-09-01 00:00:00</td>\n",
       "      <td>2017-06-13 00:00:00</td>\n",
       "      <td>2016-01-29 00:00:00</td>\n",
       "      <td>2016-01-28 00:00:00</td>\n",
       "    </tr>\n",
       "  </tbody>\n",
       "</table>\n",
       "</div>"
      ],
      "text/plain": [
       "                          date_activ                       date_end  \\\n",
       "count                          14606                          14606   \n",
       "mean   2011-01-28 07:54:18.879912448  2016-07-27 20:48:26.422018560   \n",
       "min              2003-05-09 00:00:00            2016-01-28 00:00:00   \n",
       "25%              2010-01-15 00:00:00            2016-04-27 06:00:00   \n",
       "50%              2011-03-04 00:00:00            2016-08-01 00:00:00   \n",
       "75%              2012-04-19 00:00:00            2016-10-31 00:00:00   \n",
       "max              2014-09-01 00:00:00            2017-06-13 00:00:00   \n",
       "\n",
       "                     date_modif_prod                   date_renewal  \n",
       "count                          14606                          14606  \n",
       "mean   2013-01-02 12:29:10.951663872  2015-07-21 06:59:00.353279488  \n",
       "min              2003-05-09 00:00:00            2013-06-26 00:00:00  \n",
       "25%              2010-08-12 00:00:00            2015-04-17 00:00:00  \n",
       "50%              2013-06-19 00:00:00            2015-07-27 00:00:00  \n",
       "75%              2015-06-16 00:00:00            2015-10-29 00:00:00  \n",
       "max              2016-01-29 00:00:00            2016-01-28 00:00:00  "
      ]
     },
     "execution_count": 17,
     "metadata": {},
     "output_type": "execute_result"
    }
   ],
   "source": [
    "client_df[client_df.dtypes[client_df.dtypes=='datetime64[ns]'].index.tolist()].describe(datetime_is_numeric=True)"
   ]
  },
  {
   "cell_type": "markdown",
   "id": "b0adf306",
   "metadata": {},
   "source": [
    "There are no issues with the date time features."
   ]
  },
  {
   "cell_type": "markdown",
   "id": "d907a22e",
   "metadata": {},
   "source": [
    "**Let's view feature descriptions of the price dataset.**"
   ]
  },
  {
   "cell_type": "markdown",
   "id": "cab1d8e3",
   "metadata": {},
   "source": [
    "### price_data.csv\n",
    "\n",
    "*\tid = client company identifier\n",
    "\n",
    "*\tprice_date = reference date\n",
    "\n",
    "*\tprice_off_peak_var = price of energy for the 1st period (off peak)\n",
    "\n",
    "*\tprice_peak_var = price of energy for the 2nd period (peak)\n",
    "\n",
    "*\tprice_mid_peak_var = price of energy for the 3rd period (mid peak)\n",
    "\n",
    "*\tprice_off_peak_fix = price of power for the 1st period (off peak)\n",
    "\n",
    "*\tprice_peak_fix = price of power for the 2nd period (peak)\n",
    "\n",
    "*\tprice_mid_peak_fix = price of power for the 3rd period (mid peak)\n"
   ]
  },
  {
   "cell_type": "code",
   "execution_count": 18,
   "id": "da1aa783",
   "metadata": {},
   "outputs": [
    {
     "data": {
      "text/html": [
       "<div>\n",
       "<style scoped>\n",
       "    .dataframe tbody tr th:only-of-type {\n",
       "        vertical-align: middle;\n",
       "    }\n",
       "\n",
       "    .dataframe tbody tr th {\n",
       "        vertical-align: top;\n",
       "    }\n",
       "\n",
       "    .dataframe thead th {\n",
       "        text-align: right;\n",
       "    }\n",
       "</style>\n",
       "<table border=\"1\" class=\"dataframe\">\n",
       "  <thead>\n",
       "    <tr style=\"text-align: right;\">\n",
       "      <th></th>\n",
       "      <th>id</th>\n",
       "      <th>price_date</th>\n",
       "      <th>price_off_peak_var</th>\n",
       "      <th>price_peak_var</th>\n",
       "      <th>price_mid_peak_var</th>\n",
       "      <th>price_off_peak_fix</th>\n",
       "      <th>price_peak_fix</th>\n",
       "      <th>price_mid_peak_fix</th>\n",
       "    </tr>\n",
       "  </thead>\n",
       "  <tbody>\n",
       "    <tr>\n",
       "      <th>0</th>\n",
       "      <td>038af19179925da21a25619c5a24b745</td>\n",
       "      <td>2015-01-01</td>\n",
       "      <td>0.151367</td>\n",
       "      <td>0.0</td>\n",
       "      <td>0.0</td>\n",
       "      <td>44.266931</td>\n",
       "      <td>0.0</td>\n",
       "      <td>0.0</td>\n",
       "    </tr>\n",
       "    <tr>\n",
       "      <th>1</th>\n",
       "      <td>038af19179925da21a25619c5a24b745</td>\n",
       "      <td>2015-02-01</td>\n",
       "      <td>0.151367</td>\n",
       "      <td>0.0</td>\n",
       "      <td>0.0</td>\n",
       "      <td>44.266931</td>\n",
       "      <td>0.0</td>\n",
       "      <td>0.0</td>\n",
       "    </tr>\n",
       "    <tr>\n",
       "      <th>2</th>\n",
       "      <td>038af19179925da21a25619c5a24b745</td>\n",
       "      <td>2015-03-01</td>\n",
       "      <td>0.151367</td>\n",
       "      <td>0.0</td>\n",
       "      <td>0.0</td>\n",
       "      <td>44.266931</td>\n",
       "      <td>0.0</td>\n",
       "      <td>0.0</td>\n",
       "    </tr>\n",
       "    <tr>\n",
       "      <th>3</th>\n",
       "      <td>038af19179925da21a25619c5a24b745</td>\n",
       "      <td>2015-04-01</td>\n",
       "      <td>0.149626</td>\n",
       "      <td>0.0</td>\n",
       "      <td>0.0</td>\n",
       "      <td>44.266931</td>\n",
       "      <td>0.0</td>\n",
       "      <td>0.0</td>\n",
       "    </tr>\n",
       "    <tr>\n",
       "      <th>4</th>\n",
       "      <td>038af19179925da21a25619c5a24b745</td>\n",
       "      <td>2015-05-01</td>\n",
       "      <td>0.149626</td>\n",
       "      <td>0.0</td>\n",
       "      <td>0.0</td>\n",
       "      <td>44.266931</td>\n",
       "      <td>0.0</td>\n",
       "      <td>0.0</td>\n",
       "    </tr>\n",
       "  </tbody>\n",
       "</table>\n",
       "</div>"
      ],
      "text/plain": [
       "                                 id  price_date  price_off_peak_var  \\\n",
       "0  038af19179925da21a25619c5a24b745  2015-01-01            0.151367   \n",
       "1  038af19179925da21a25619c5a24b745  2015-02-01            0.151367   \n",
       "2  038af19179925da21a25619c5a24b745  2015-03-01            0.151367   \n",
       "3  038af19179925da21a25619c5a24b745  2015-04-01            0.149626   \n",
       "4  038af19179925da21a25619c5a24b745  2015-05-01            0.149626   \n",
       "\n",
       "   price_peak_var  price_mid_peak_var  price_off_peak_fix  price_peak_fix  \\\n",
       "0             0.0                 0.0           44.266931             0.0   \n",
       "1             0.0                 0.0           44.266931             0.0   \n",
       "2             0.0                 0.0           44.266931             0.0   \n",
       "3             0.0                 0.0           44.266931             0.0   \n",
       "4             0.0                 0.0           44.266931             0.0   \n",
       "\n",
       "   price_mid_peak_fix  \n",
       "0                 0.0  \n",
       "1                 0.0  \n",
       "2                 0.0  \n",
       "3                 0.0  \n",
       "4                 0.0  "
      ]
     },
     "execution_count": 18,
     "metadata": {},
     "output_type": "execute_result"
    }
   ],
   "source": [
    "price_df.head()"
   ]
  },
  {
   "cell_type": "markdown",
   "id": "b8a13c96",
   "metadata": {},
   "source": [
    "#### Get the general information of Price data"
   ]
  },
  {
   "cell_type": "code",
   "execution_count": 20,
   "id": "206e58ed",
   "metadata": {},
   "outputs": [
    {
     "name": "stdout",
     "output_type": "stream",
     "text": [
      "<class 'pandas.core.frame.DataFrame'>\n",
      "RangeIndex: 193002 entries, 0 to 193001\n",
      "Data columns (total 8 columns):\n",
      " #   Column              Non-Null Count   Dtype  \n",
      "---  ------              --------------   -----  \n",
      " 0   id                  193002 non-null  object \n",
      " 1   price_date          193002 non-null  object \n",
      " 2   price_off_peak_var  193002 non-null  float64\n",
      " 3   price_peak_var      193002 non-null  float64\n",
      " 4   price_mid_peak_var  193002 non-null  float64\n",
      " 5   price_off_peak_fix  193002 non-null  float64\n",
      " 6   price_peak_fix      193002 non-null  float64\n",
      " 7   price_mid_peak_fix  193002 non-null  float64\n",
      "dtypes: float64(6), object(2)\n",
      "memory usage: 11.8+ MB\n"
     ]
    }
   ],
   "source": [
    "price_df.info()"
   ]
  },
  {
   "cell_type": "markdown",
   "id": "4333390b",
   "metadata": {},
   "source": [
    "**Convert datetime feature to datetime data type**"
   ]
  },
  {
   "cell_type": "code",
   "execution_count": 21,
   "id": "a2e8fb23",
   "metadata": {},
   "outputs": [],
   "source": [
    "price_df['price_date'] = pd.to_datetime(price_df['price_date'])"
   ]
  },
  {
   "cell_type": "markdown",
   "id": "90ce127a",
   "metadata": {},
   "source": [
    "**Perform a check for missing values and duplicate records.**"
   ]
  },
  {
   "cell_type": "code",
   "execution_count": 22,
   "id": "cbf703e1",
   "metadata": {},
   "outputs": [
    {
     "data": {
      "text/plain": [
       "id                    0\n",
       "price_date            0\n",
       "price_off_peak_var    0\n",
       "price_peak_var        0\n",
       "price_mid_peak_var    0\n",
       "price_off_peak_fix    0\n",
       "price_peak_fix        0\n",
       "price_mid_peak_fix    0\n",
       "dtype: int64"
      ]
     },
     "execution_count": 22,
     "metadata": {},
     "output_type": "execute_result"
    }
   ],
   "source": [
    "price_df.isna().sum()"
   ]
  },
  {
   "cell_type": "code",
   "execution_count": 23,
   "id": "bc75f08a",
   "metadata": {},
   "outputs": [
    {
     "data": {
      "text/plain": [
       "0"
      ]
     },
     "execution_count": 23,
     "metadata": {},
     "output_type": "execute_result"
    }
   ],
   "source": [
    "price_df.duplicated().sum()"
   ]
  },
  {
   "cell_type": "markdown",
   "id": "b72ae5f1",
   "metadata": {},
   "source": [
    "##### There are no missing or duplicates values in the price dataset."
   ]
  },
  {
   "cell_type": "code",
   "execution_count": 24,
   "id": "70e21b3c",
   "metadata": {},
   "outputs": [
    {
     "data": {
      "text/plain": [
       "(193002, 8)"
      ]
     },
     "execution_count": 24,
     "metadata": {},
     "output_type": "execute_result"
    }
   ],
   "source": [
    "price_df.shape"
   ]
  },
  {
   "cell_type": "markdown",
   "id": "2a6172fa",
   "metadata": {},
   "source": [
    "**Perform a check on the categorical time features.**"
   ]
  },
  {
   "cell_type": "code",
   "execution_count": 25,
   "id": "7920343a",
   "metadata": {},
   "outputs": [
    {
     "name": "stdout",
     "output_type": "stream",
     "text": [
      "Categorical variables are ['id'] \n",
      "================================================================================\n",
      "                                     id  count  proportion\n",
      "0      0002203ffbb812588b632b9e628cc38d     12    0.000062\n",
      "1      ab07311332ad017c071947aa1747bf9e     12    0.000062\n",
      "2      aab99b3be145225dbff8551b256da9e0     12    0.000062\n",
      "3      aac9a198cee4c2eb9d975ca21b38f00b     12    0.000062\n",
      "4      aacb5f6ab9d32c8cc9e58c505b028d24     12    0.000062\n",
      "...                                 ...    ...         ...\n",
      "16091  83cf18b07114e495ae8b7fb235e45ee2      8    0.000041\n",
      "16092  223a98d3832ece78cbf279a194868b54      8    0.000041\n",
      "16093  bf89f2d8c1b133a134fd93603cb4c947      7    0.000036\n",
      "16094  c5dcd5c506e565aaabffa29bc1ec0a37      7    0.000036\n",
      "16095  15b36e47cf04bf151e3f4438d12672e5      7    0.000036\n",
      "\n",
      "[16096 rows x 3 columns] \n",
      "--------------------------------------------------------------------------------\n"
     ]
    }
   ],
   "source": [
    "describe_categorical(dataset=price_df)"
   ]
  },
  {
   "cell_type": "markdown",
   "id": "08c642f3",
   "metadata": {},
   "source": [
    "**Perform a check on the numerical features.**"
   ]
  },
  {
   "cell_type": "code",
   "execution_count": 26,
   "id": "c150ee7e",
   "metadata": {},
   "outputs": [
    {
     "name": "stdout",
     "output_type": "stream",
     "text": [
      "Numeric variables are ['price_off_peak_var', 'price_peak_var', 'price_mid_peak_var', 'price_off_peak_fix', 'price_peak_fix', 'price_mid_peak_fix'] \n",
      "================================================================================\n",
      "                    min        max       mean     median\n",
      "price_off_peak_var  0.0   0.280700   0.141027   0.146033\n",
      "price_peak_var      0.0   0.229788   0.054630   0.085483\n",
      "price_mid_peak_var  0.0   0.114102   0.030496   0.000000\n",
      "price_off_peak_fix  0.0  59.444710  43.334477  44.266930\n",
      "price_peak_fix      0.0  36.490692  10.622875   0.000000\n",
      "price_mid_peak_fix  0.0  17.458221   6.409984   0.000000 \n",
      "--------------------------------------------------------------------------------\n"
     ]
    }
   ],
   "source": [
    "describe_numeric(dataset=price_df)"
   ]
  },
  {
   "cell_type": "markdown",
   "id": "96075461",
   "metadata": {},
   "source": [
    "**Perform a check on the date time features.**"
   ]
  },
  {
   "cell_type": "code",
   "execution_count": 27,
   "id": "e4757e4c",
   "metadata": {},
   "outputs": [
    {
     "data": {
      "text/plain": [
       "count                           193002\n",
       "mean     2015-06-16 12:50:49.933161216\n",
       "min                2015-01-01 00:00:00\n",
       "25%                2015-04-01 00:00:00\n",
       "50%                2015-07-01 00:00:00\n",
       "75%                2015-10-01 00:00:00\n",
       "max                2015-12-01 00:00:00\n",
       "Name: price_date, dtype: object"
      ]
     },
     "execution_count": 27,
     "metadata": {},
     "output_type": "execute_result"
    }
   ],
   "source": [
    "price_df['price_date'].describe(datetime_is_numeric=True)"
   ]
  },
  {
   "cell_type": "markdown",
   "id": "6f478463",
   "metadata": {},
   "source": [
    "There are no issues with the date features, numerical features and categorical features of the Price dataset."
   ]
  },
  {
   "cell_type": "markdown",
   "id": "68bdbe92",
   "metadata": {},
   "source": [
    "### Data visualization on Client Data\n",
    "\n",
    "Here are a few functions that can help you begin with visualizations.\n"
   ]
  },
  {
   "cell_type": "code",
   "execution_count": 28,
   "id": "8f94b7b1",
   "metadata": {},
   "outputs": [],
   "source": [
    "# define a function to plot bar chart to display a feature's distribution with percent labels.\n",
    "def plot_bar_chart_with_percent_label(df, target_variable, if_sort=False, gap_label_bar=0, figsize=(9,6)):\n",
    "    # prepare data\n",
    "    plot_data = client_df[[target_variable]].value_counts().reset_index(name='count')\n",
    "    plot_data['percent'] = plot_data['count']/plot_data['count'].sum()\n",
    "    if if_sort:\n",
    "        x_order = plot_data.sort_values(by=['percent'], ascending=False)[target_variable]\n",
    "    else:\n",
    "        x_order = plot_data.sort_values(by=[target_variable], ascending=True)[target_variable]\n",
    "    # plot\n",
    "    fig = plt.figure(figsize=figsize)\n",
    "    ax = sns.barplot(data=plot_data, x=target_variable, y='percent', order=x_order)\n",
    "    # add label\n",
    "    for p in ax.patches:\n",
    "        x = p.get_x() + p.get_width()/2\n",
    "        y = p.get_height() + gap_label_bar\n",
    "        ax.annotate(text='{:.2f}%'.format(p.get_height()*100), xy=(x, y), ha='center')\n",
    "    ax.margins(y=0.1)\n",
    "\n",
    "    # plot stacked bar chart with percent label by churn\n",
    "def plot_stacked_bar_with_percent_label_by_churn(df, target_variable, if_sort=False, figsize=(9,6)):\n",
    "    plot_data = df.groupby([target_variable,'churn']).size().reset_index(name='count')\n",
    "    plot_data = plot_data.pivot(index=target_variable, columns='churn', values='count').fillna(0)\n",
    "    plot_data = plot_data.div(plot_data.sum(axis=1), axis=0)\n",
    "    if if_sort:\n",
    "        plot_data = plot_data.sort_values(by=[0])\n",
    "    ax = plot_data.plot(kind='bar', rot=False, stacked=True, figsize=figsize)\n",
    "    plt.legend(['stay', 'switch'], loc='upper center', ncol=2)\n",
    "    # add label\n",
    "    for p in ax.patches:\n",
    "        percentage = '{:.1f}%'.format(p.get_height()*100)\n",
    "        if percentage!='0.0%':\n",
    "            x = p.get_x() + p.get_width()/2\n",
    "            y = 1 - p.get_height()/1.8\n",
    "            ax.annotate(text=percentage, xy=(x, y), ha='center')\n",
    "    ax.margins(y=0.1)\n"
   ]
  },
  {
   "cell_type": "code",
   "execution_count": 29,
   "id": "1a22d5e7",
   "metadata": {},
   "outputs": [
    {
     "data": {
      "image/png": "[encoded data removed]",
      "text/plain": [
       "<Figure size 648x432 with 1 Axes>"
      ]
     },
     "metadata": {
      "needs_background": "light"
     },
     "output_type": "display_data"
    }
   ],
   "source": [
    "#display bar chart\n",
    "plot_bar_chart_with_percent_label(df=client_df, target_variable='churn', gap_label_bar=0.02)"
   ]
  },
  {
   "cell_type": "markdown",
   "id": "cf332960",
   "metadata": {},
   "source": [
    "Based on the provided chart, approximately 9.72% of the customers transitioned to different power providers."
   ]
  },
  {
   "cell_type": "markdown",
   "id": "a7d5375a",
   "metadata": {},
   "source": [
    "### Let's visualize categorical features' distribution. "
   ]
  },
  {
   "cell_type": "code",
   "execution_count": 30,
   "id": "cc143c18",
   "metadata": {},
   "outputs": [
    {
     "data": {
      "image/png": "[encoded data removed]",
      "text/plain": [
       "<Figure size 648x432 with 1 Axes>"
      ]
     },
     "metadata": {
      "needs_background": "light"
     },
     "output_type": "display_data"
    }
   ],
   "source": [
    "#plot channel sales distribution\n",
    "plot_bar_chart_with_percent_label(df=client_df, target_variable='channel_sales', if_sort=True, gap_label_bar=0.01)"
   ]
  },
  {
   "cell_type": "markdown",
   "id": "1b17e6cf",
   "metadata": {},
   "source": [
    "According to this chart, Code 4 emerges as the most prevalent sales channel, while Code 1, 3, and 6 sales channels are infrequently utilized."
   ]
  },
  {
   "cell_type": "code",
   "execution_count": 31,
   "id": "5ed3158c",
   "metadata": {},
   "outputs": [
    {
     "data": {
      "image/png": "[encoded data removed]",
      "text/plain": [
       "<Figure size 648x432 with 1 Axes>"
      ]
     },
     "metadata": {
      "needs_background": "light"
     },
     "output_type": "display_data"
    }
   ],
   "source": [
    "#plot distribution for origin_up\n",
    "plot_bar_chart_with_percent_label(df=client_df, target_variable='origin_up', if_sort=True, gap_label_bar=0.01)"
   ]
  },
  {
   "cell_type": "markdown",
   "id": "97abac1d",
   "metadata": {},
   "source": [
    "Based on this chart, Code 4 stands out as the most common electricity campaign that customers initially subscribe to. On the other hand, Code 0, 1, and 5 electricity campaigns have the lowest rates of initial subscription."
   ]
  },
  {
   "cell_type": "markdown",
   "id": "770b4c0e",
   "metadata": {},
   "source": [
    "##### Plot stacked bar charts to show the feature distribution depicting the % of churning customers and non-churning customers."
   ]
  },
  {
   "cell_type": "code",
   "execution_count": 32,
   "id": "ac2a6f53",
   "metadata": {},
   "outputs": [
    {
     "data": {
      "image/png": "[encoded data removed]",
      "text/plain": [
       "<Figure size 648x432 with 1 Axes>"
      ]
     },
     "metadata": {
      "needs_background": "light"
     },
     "output_type": "display_data"
    }
   ],
   "source": [
    "plot_stacked_bar_with_percent_label_by_churn(df=client_df, target_variable='channel_sales', if_sort=True)"
   ]
  },
  {
   "cell_type": "markdown",
   "id": "26c14ef1",
   "metadata": {},
   "source": [
    "An analysis of customers across various sales channels reveals that the proportion of churned customers varies from 5.6% to 12.1%. Notably, channel four exhibits the highest percentage (12%) of customers who have churned."
   ]
  },
  {
   "cell_type": "code",
   "execution_count": 33,
   "id": "f66fa8f7",
   "metadata": {},
   "outputs": [
    {
     "data": {
      "image/png": "[encoded data removed]",
      "text/plain": [
       "<Figure size 648x432 with 1 Axes>"
      ]
     },
     "metadata": {
      "needs_background": "light"
     },
     "output_type": "display_data"
    }
   ],
   "source": [
    "plot_stacked_bar_with_percent_label_by_churn(df=client_df, target_variable='origin_up', if_sort=True)"
   ]
  },
  {
   "cell_type": "markdown",
   "id": "993e3dcc",
   "metadata": {},
   "source": [
    "The proportion of churning customers for customers that first subscribed to electricity campaign is 6.0% to 12.6% with the exception of campaign type 1 and 5."
   ]
  },
  {
   "cell_type": "code",
   "execution_count": 34,
   "id": "5beb46d3",
   "metadata": {},
   "outputs": [
    {
     "data": {
      "image/png": "[encoded data removed]",
      "text/plain": [
       "<Figure size 864x432 with 1 Axes>"
      ]
     },
     "metadata": {
      "needs_background": "light"
     },
     "output_type": "display_data"
    }
   ],
   "source": [
    "plot_bar_chart_with_percent_label(df=client_df, target_variable='contract_start_year', if_sort=False, gap_label_bar=0.005, figsize=(12,6))"
   ]
  },
  {
   "cell_type": "markdown",
   "id": "eadfc93b",
   "metadata": {},
   "source": [
    "Based on the provided chart, the period between 2009 and 2013 witnessed the highest number of customer contract initiations."
   ]
  },
  {
   "cell_type": "code",
   "execution_count": 35,
   "id": "6ed38bf4",
   "metadata": {},
   "outputs": [
    {
     "data": {
      "image/png": "[encoded data removed]",
      "text/plain": [
       "<Figure size 1080x432 with 1 Axes>"
      ]
     },
     "metadata": {
      "needs_background": "light"
     },
     "output_type": "display_data"
    }
   ],
   "source": [
    "plot_stacked_bar_with_percent_label_by_churn(df=client_df, target_variable='contract_start_year', if_sort=False, figsize=(15,6))"
   ]
  },
  {
   "cell_type": "markdown",
   "id": "091e3975",
   "metadata": {},
   "source": [
    "According to this chart, there was a consistent rise in the number of customers who were inclined to switch to other providers between the years 2011 and 2013."
   ]
  },
  {
   "cell_type": "code",
   "execution_count": 36,
   "id": "ccb4520a",
   "metadata": {},
   "outputs": [
    {
     "data": {
      "image/png": "[encoded data removed]",
      "text/plain": [
       "<Figure size 864x432 with 1 Axes>"
      ]
     },
     "metadata": {
      "needs_background": "light"
     },
     "output_type": "display_data"
    }
   ],
   "source": [
    "plot_bar_chart_with_percent_label(df=client_df, target_variable='num_years_antig', if_sort=False, gap_label_bar=0.005, figsize=(12,6))"
   ]
  },
  {
   "cell_type": "markdown",
   "id": "0c05a9d5",
   "metadata": {},
   "source": [
    "Based on the visual representation, it is evident that the majority of customers remained with the current provider for a period ranging from 3 to 6 years at the most."
   ]
  },
  {
   "cell_type": "code",
   "execution_count": 37,
   "id": "447ab4f9",
   "metadata": {},
   "outputs": [
    {
     "data": {
      "image/png": "[encoded data removed]",
      "text/plain": [
       "<Figure size 1080x432 with 1 Axes>"
      ]
     },
     "metadata": {
      "needs_background": "light"
     },
     "output_type": "display_data"
    }
   ],
   "source": [
    "plot_stacked_bar_with_percent_label_by_churn(df=client_df, target_variable='num_years_antig', if_sort=False, figsize=(15,6))"
   ]
  },
  {
   "cell_type": "markdown",
   "id": "0eceb635",
   "metadata": {},
   "source": [
    "Based on the visual analysis of the client data, it appears that newer customers have a higher likelihood of switching to other providers."
   ]
  },
  {
   "cell_type": "code",
   "execution_count": 38,
   "id": "61ce8b14",
   "metadata": {},
   "outputs": [
    {
     "data": {
      "image/png": "[encoded data removed]",
      "text/plain": [
       "<Figure size 864x432 with 1 Axes>"
      ]
     },
     "metadata": {
      "needs_background": "light"
     },
     "output_type": "display_data"
    }
   ],
   "source": [
    "plot_bar_chart_with_percent_label(df=client_df, target_variable='forecast_discount_energy', if_sort=False, gap_label_bar=0.01, figsize=(12,6))"
   ]
  },
  {
   "cell_type": "markdown",
   "id": "d9ea61bb",
   "metadata": {},
   "source": [
    "An overview of the client data reveals that the forecasted value of the current discount is predominantly 0 for the majority of customers.\n",
    "\n"
   ]
  },
  {
   "cell_type": "code",
   "execution_count": 39,
   "id": "d4eede62",
   "metadata": {},
   "outputs": [
    {
     "data": {
      "image/png": "[encoded data removed]",
      "text/plain": [
       "<Figure size 576x432 with 1 Axes>"
      ]
     },
     "metadata": {
      "needs_background": "light"
     },
     "output_type": "display_data"
    }
   ],
   "source": [
    "plot_bar_chart_with_percent_label(df=client_df, target_variable='has_gas', if_sort=False, gap_label_bar=0.01, figsize=(8,6))"
   ]
  },
  {
   "cell_type": "markdown",
   "id": "2d23ef6e",
   "metadata": {},
   "source": [
    "Based on the visual analysis, it is apparent that a relatively small portion, specifically 18.15%, of the customer base were engaged in purchasing gas alongside their primary services."
   ]
  },
  {
   "cell_type": "code",
   "execution_count": 40,
   "id": "3d6a6e36",
   "metadata": {},
   "outputs": [
    {
     "data": {
      "image/png": "[encoded data removed]",
      "text/plain": [
       "<Figure size 576x432 with 1 Axes>"
      ]
     },
     "metadata": {
      "needs_background": "light"
     },
     "output_type": "display_data"
    }
   ],
   "source": [
    "plot_stacked_bar_with_percent_label_by_churn(df=client_df, target_variable='has_gas', if_sort=False, figsize=(8,6))"
   ]
  },
  {
   "cell_type": "markdown",
   "id": "eb68e1e6",
   "metadata": {},
   "source": [
    "Based on the chart, it can be observed that customers who exclusively purchase electricity have a higher likelihood of switching providers compared to those who purchase both gas and electricity. This is evident from the recorded value of 10%."
   ]
  },
  {
   "cell_type": "code",
   "execution_count": 41,
   "id": "04b906b8",
   "metadata": {},
   "outputs": [
    {
     "data": {
      "image/png": "[encoded data removed]",
      "text/plain": [
       "<Figure size 576x432 with 1 Axes>"
      ]
     },
     "metadata": {
      "needs_background": "light"
     },
     "output_type": "display_data"
    }
   ],
   "source": [
    "plot_bar_chart_with_percent_label(df=client_df, target_variable='nb_prod_act', if_sort=False, gap_label_bar=0.01, figsize=(8,6))"
   ]
  },
  {
   "cell_type": "markdown",
   "id": "e8d4655d",
   "metadata": {},
   "source": [
    "Based on the values depicted in the chart, it is evident that the majority of customers (78%) have one or two active products that they purchase. This indicates that most customers tend to engage with a limited number of products offered."
   ]
  },
  {
   "cell_type": "markdown",
   "id": "52229e8f",
   "metadata": {},
   "source": [
    "#### Plot histograms the distribution of continous numeric features on Client data."
   ]
  },
  {
   "cell_type": "code",
   "execution_count": 42,
   "id": "e060ab6a",
   "metadata": {},
   "outputs": [],
   "source": [
    "# plot histogram\n",
    "def plot_histogram_by_churn(df, target_variable, figsize=(20,5), bins=100, if_churn=True):\n",
    "    fig = plt.figure(figsize=figsize)\n",
    "    if if_churn:\n",
    "        ax = sns.histplot(data=df, x=target_variable, bins=bins, hue='churn')\n",
    "    else:\n",
    "        ax = sns.histplot(data=df, x=target_variable, bins=bins)"
   ]
  },
  {
   "cell_type": "markdown",
   "id": "81c1d960",
   "metadata": {},
   "source": [
    "#### Plot histograms of energy consuption features. \n",
    "\n",
    "Each distribution has very long tail, which can be seen as the outliers."
   ]
  },
  {
   "cell_type": "code",
   "execution_count": 43,
   "id": "74cba573",
   "metadata": {},
   "outputs": [
    {
     "data": {
      "image/png": "[encoded data removed]",
      "text/plain": [
       "<Figure size 1440x360 with 1 Axes>"
      ]
     },
     "metadata": {
      "needs_background": "light"
     },
     "output_type": "display_data"
    },
    {
     "data": {
      "image/png": "[encoded data removed]",
      "text/plain": [
       "<Figure size 1440x360 with 1 Axes>"
      ]
     },
     "metadata": {
      "needs_background": "light"
     },
     "output_type": "display_data"
    },
    {
     "data": {
      "image/png": "[encoded data removed]",
      "text/plain": [
       "<Figure size 1440x360 with 1 Axes>"
      ]
     },
     "metadata": {
      "needs_background": "light"
     },
     "output_type": "display_data"
    },
    {
     "data": {
      "image/png": "[encoded data removed]",
      "text/plain": [
       "<Figure size 1440x360 with 1 Axes>"
      ]
     },
     "metadata": {
      "needs_background": "light"
     },
     "output_type": "display_data"
    },
    {
     "data": {
      "image/png": "[encoded data removed]",
      "text/plain": [
       "<Figure size 1440x360 with 1 Axes>"
      ]
     },
     "metadata": {
      "needs_background": "light"
     },
     "output_type": "display_data"
    }
   ],
   "source": [
    "for attr in ['cons_12m', 'cons_gas_12m', 'cons_last_month','forecast_cons_12m', 'forecast_cons_year']:\n",
    "    plot_histogram_by_churn(df=client_df, target_variable=attr)"
   ]
  },
  {
   "cell_type": "markdown",
   "id": "273ed760",
   "metadata": {},
   "source": [
    "### Take a glimpse at the price dataset."
   ]
  },
  {
   "cell_type": "code",
   "execution_count": 44,
   "id": "e0bafba1",
   "metadata": {},
   "outputs": [
    {
     "data": {
      "text/plain": [
       "12    15990\n",
       "11       83\n",
       "10       11\n",
       "9         6\n",
       "8         3\n",
       "7         3\n",
       "Name: id, dtype: int64"
      ]
     },
     "execution_count": 44,
     "metadata": {},
     "output_type": "execute_result"
    }
   ],
   "source": [
    "price_df['id'].value_counts().value_counts()"
   ]
  },
  {
   "cell_type": "markdown",
   "id": "823775e4",
   "metadata": {},
   "source": [
    "It is evident that the number of price records varies among customers, with not all customers having the same quantity. The majority of customers possess 12 price records, while a small percentage of customers have less than 9 records."
   ]
  },
  {
   "cell_type": "code",
   "execution_count": 45,
   "id": "0295486b",
   "metadata": {},
   "outputs": [
    {
     "data": {
      "text/plain": [
       "2015-08-01    16094\n",
       "2015-12-01    16094\n",
       "2015-07-01    16090\n",
       "2015-11-01    16087\n",
       "2015-06-01    16085\n",
       "2015-10-01    16085\n",
       "2015-02-01    16082\n",
       "2015-09-01    16082\n",
       "2015-05-01    16080\n",
       "2015-04-01    16079\n",
       "2015-03-01    16074\n",
       "2015-01-01    16070\n",
       "Name: price_date, dtype: int64"
      ]
     },
     "execution_count": 45,
     "metadata": {},
     "output_type": "execute_result"
    }
   ],
   "source": [
    "price_df['price_date'].value_counts()"
   ]
  },
  {
   "cell_type": "markdown",
   "id": "0d81f131",
   "metadata": {},
   "source": [
    "Furthermore, the analysis reveals that a significant portion of customers possess a 12-month price record. Fortunately, all customers have the record from the last month (2015-12-01), which will prove valuable in determining price sensitivity."
   ]
  },
  {
   "cell_type": "markdown",
   "id": "403ef25a",
   "metadata": {},
   "source": [
    "#### Plot histograms of forecast features in Price data"
   ]
  },
  {
   "cell_type": "code",
   "execution_count": 46,
   "id": "e3506751",
   "metadata": {},
   "outputs": [
    {
     "data": {
      "image/png": "[encoded data removed]",
      "text/plain": [
       "<Figure size 1440x360 with 1 Axes>"
      ]
     },
     "metadata": {
      "needs_background": "light"
     },
     "output_type": "display_data"
    },
    {
     "data": {
      "image/png": "[encoded data removed]",
      "text/plain": [
       "<Figure size 1440x360 with 1 Axes>"
      ]
     },
     "metadata": {
      "needs_background": "light"
     },
     "output_type": "display_data"
    },
    {
     "data": {
      "image/png": "[encoded data removed]",
      "text/plain": [
       "<Figure size 1440x360 with 1 Axes>"
      ]
     },
     "metadata": {
      "needs_background": "light"
     },
     "output_type": "display_data"
    },
    {
     "data": {
      "image/png": "[encoded data removed]",
      "text/plain": [
       "<Figure size 1440x360 with 1 Axes>"
      ]
     },
     "metadata": {
      "needs_background": "light"
     },
     "output_type": "display_data"
    }
   ],
   "source": [
    "for attr in ['forecast_meter_rent_12m', 'forecast_price_energy_off_peak', 'forecast_price_energy_peak', 'forecast_price_pow_off_peak',]:\n",
    "    plot_histogram_by_churn(df=client_df, target_variable=attr)"
   ]
  },
  {
   "cell_type": "markdown",
   "id": "10ac993a",
   "metadata": {},
   "source": [
    "##### Based on the provided charts, it is evident that the values of each feature exhibit a tendency to cluster around certain central points."
   ]
  },
  {
   "cell_type": "markdown",
   "id": "d907474c",
   "metadata": {},
   "source": [
    "#### Plot histograms of power subscription features in Price data\n",
    "\n",
    "Upon careful observation, it becomes apparent that each distribution displays a significant presence of outliers, indicated by their extended tails."
   ]
  },
  {
   "cell_type": "code",
   "execution_count": 48,
   "id": "c0db8e0d",
   "metadata": {},
   "outputs": [
    {
     "data": {
      "image/png": "[encoded data removed]",
      "text/plain": [
       "<Figure size 1440x360 with 1 Axes>"
      ]
     },
     "metadata": {
      "needs_background": "light"
     },
     "output_type": "display_data"
    },
    {
     "data": {
      "image/png": "[encoded data removed]",
      "text/plain": [
       "<Figure size 1440x360 with 1 Axes>"
      ]
     },
     "metadata": {
      "needs_background": "light"
     },
     "output_type": "display_data"
    },
    {
     "data": {
      "image/png": "[encoded data removed]",
      "text/plain": [
       "<Figure size 1440x360 with 1 Axes>"
      ]
     },
     "metadata": {
      "needs_background": "light"
     },
     "output_type": "display_data"
    },
    {
     "data": {
      "image/png": "[encoded data removed]",
      "text/plain": [
       "<Figure size 1440x360 with 1 Axes>"
      ]
     },
     "metadata": {
      "needs_background": "light"
     },
     "output_type": "display_data"
    },
    {
     "data": {
      "image/png": "[encoded data removed]",
      "text/plain": [
       "<Figure size 1440x360 with 1 Axes>"
      ]
     },
     "metadata": {
      "needs_background": "light"
     },
     "output_type": "display_data"
    }
   ],
   "source": [
    "for attr in ['imp_cons', 'margin_gross_pow_ele', 'margin_net_pow_ele','net_margin','pow_max',]:\n",
    "    plot_histogram_by_churn(df=client_df, target_variable=attr)"
   ]
  },
  {
   "cell_type": "markdown",
   "id": "533d302b",
   "metadata": {},
   "source": [
    "#### Plot histograms of price features in the price data\n",
    "\n",
    "Let's explore the distribution of the price dataset."
   ]
  },
  {
   "cell_type": "code",
   "execution_count": 64,
   "id": "3ca28b16",
   "metadata": {},
   "outputs": [
    {
     "data": {
      "image/png": "[encoded data removed]",
      "text/plain": [
       "<Figure size 1440x360 with 1 Axes>"
      ]
     },
     "metadata": {
      "needs_background": "light"
     },
     "output_type": "display_data"
    },
    {
     "data": {
      "image/png": "[encoded data removed]",
      "text/plain": [
       "<Figure size 1440x360 with 1 Axes>"
      ]
     },
     "metadata": {
      "needs_background": "light"
     },
     "output_type": "display_data"
    },
    {
     "data": {
      "image/png": "[encoded data removed]",
      "text/plain": [
       "<Figure size 1440x360 with 1 Axes>"
      ]
     },
     "metadata": {
      "needs_background": "light"
     },
     "output_type": "display_data"
    },
    {
     "data": {
      "image/png": "[encoded data removed]",
      "text/plain": [
       "<Figure size 1440x360 with 1 Axes>"
      ]
     },
     "metadata": {
      "needs_background": "light"
     },
     "output_type": "display_data"
    },
    {
     "data": {
      "image/png": "[encoded data removed]",
      "text/plain": [
       "<Figure size 1440x360 with 1 Axes>"
      ]
     },
     "metadata": {
      "needs_background": "light"
     },
     "output_type": "display_data"
    },
    {
     "data": {
      "image/png": "[encoded data removed]",
      "text/plain": [
       "<Figure size 1440x360 with 1 Axes>"
      ]
     },
     "metadata": {
      "needs_background": "light"
     },
     "output_type": "display_data"
    }
   ],
   "source": [
    "for attr in ['price_off_peak_var', 'price_peak_var', 'price_mid_peak_var', 'price_off_peak_fix', 'price_peak_fix', 'price_mid_peak_fix']:\n",
    "    plot_histogram_by_churn(df=price_df, target_variable=attr, if_churn=False)"
   ]
  },
  {
   "cell_type": "markdown",
   "id": "960d7b08",
   "metadata": {},
   "source": [
    "The analysis of the price dataset reveals a notable abundance of 0 peak prices and mid-peak prices, whereas the occurrence of 0 off-peak prices is relatively scarce. Consequently, to assess price sensitivity, I will focus on analyzing the off-peak prices exclusively."
   ]
  },
  {
   "cell_type": "markdown",
   "id": "ea20ea04",
   "metadata": {},
   "source": [
    "### Hypothesis Testing\n",
    "\n",
    "Now that we have explored the data, our next objective is to investigate the influence of price sensitivity on churn.\n",
    "\n",
    "It is crucial to consider that in typical scenarios, when prices increase and customers switch providers, it can be inferred that these customers are sensitive to price, as the price increase triggers their churn. However, if prices decrease or remain unchanged and customers still switch providers, it cannot be definitively concluded that price sensitivity is the sole factor driving churn.\n",
    "\n",
    "To proceed, we will establish a clear definition of price sensitivity. Utilizing the available consumption data for each company in 2015, we will create new features that quantify \"price sensitivity\" by calculating the maximum, minimum, and average prices over the entire year. Additionally, we will determine the most significant changes in prices that occur within a year. Furthermore, we will calculate the difference between the price of the last month (2015-12-01) and the mean price to capture recent changes in price.\n",
    "\n",
    "To assess the impact of price changes on customer churn, we will specifically focus on off-peak prices. By analyzing churn patterns in relation to off-peak prices, we can gain insights into how price variations impact customer behavior and churn rates."
   ]
  },
  {
   "cell_type": "markdown",
   "id": "1de647e2",
   "metadata": {},
   "source": [
    "##### Calculate maximum, minimum and average prices over the whole year"
   ]
  },
  {
   "cell_type": "code",
   "execution_count": 50,
   "id": "99976134",
   "metadata": {},
   "outputs": [
    {
     "data": {
      "text/html": [
       "<div>\n",
       "<style scoped>\n",
       "    .dataframe tbody tr th:only-of-type {\n",
       "        vertical-align: middle;\n",
       "    }\n",
       "\n",
       "    .dataframe tbody tr th {\n",
       "        vertical-align: top;\n",
       "    }\n",
       "\n",
       "    .dataframe thead th {\n",
       "        text-align: right;\n",
       "    }\n",
       "</style>\n",
       "<table border=\"1\" class=\"dataframe\">\n",
       "  <thead>\n",
       "    <tr style=\"text-align: right;\">\n",
       "      <th></th>\n",
       "      <th>id</th>\n",
       "      <th>price_off_peak_var_max</th>\n",
       "      <th>price_off_peak_var_min</th>\n",
       "      <th>price_off_peak_var_mean</th>\n",
       "      <th>price_peak_var_max</th>\n",
       "      <th>price_peak_var_min</th>\n",
       "      <th>price_peak_var_mean</th>\n",
       "      <th>price_mid_peak_var_max</th>\n",
       "      <th>price_mid_peak_var_min</th>\n",
       "      <th>price_mid_peak_var_mean</th>\n",
       "      <th>price_off_peak_fix_max</th>\n",
       "      <th>price_off_peak_fix_min</th>\n",
       "      <th>price_off_peak_fix_mean</th>\n",
       "      <th>price_peak_fix_max</th>\n",
       "      <th>price_peak_fix_min</th>\n",
       "      <th>price_peak_fix_mean</th>\n",
       "      <th>price_mid_peak_fix_max</th>\n",
       "      <th>price_mid_peak_fix_min</th>\n",
       "      <th>price_mid_peak_fix_mean</th>\n",
       "    </tr>\n",
       "  </thead>\n",
       "  <tbody>\n",
       "    <tr>\n",
       "      <th>0</th>\n",
       "      <td>0002203ffbb812588b632b9e628cc38d</td>\n",
       "      <td>0.128067</td>\n",
       "      <td>0.119906</td>\n",
       "      <td>0.124338</td>\n",
       "      <td>0.105842</td>\n",
       "      <td>0.101673</td>\n",
       "      <td>0.103794</td>\n",
       "      <td>0.073773</td>\n",
       "      <td>0.070232</td>\n",
       "      <td>0.07316</td>\n",
       "      <td>40.728885</td>\n",
       "      <td>40.565969</td>\n",
       "      <td>40.701732</td>\n",
       "      <td>24.43733</td>\n",
       "      <td>24.339581</td>\n",
       "      <td>24.421038</td>\n",
       "      <td>16.291555</td>\n",
       "      <td>16.226389</td>\n",
       "      <td>16.280694</td>\n",
       "    </tr>\n",
       "    <tr>\n",
       "      <th>1</th>\n",
       "      <td>0004351ebdd665e6ee664792efc4fd13</td>\n",
       "      <td>0.148405</td>\n",
       "      <td>0.143943</td>\n",
       "      <td>0.146426</td>\n",
       "      <td>0.000000</td>\n",
       "      <td>0.000000</td>\n",
       "      <td>0.000000</td>\n",
       "      <td>0.000000</td>\n",
       "      <td>0.000000</td>\n",
       "      <td>0.00000</td>\n",
       "      <td>44.444710</td>\n",
       "      <td>44.266931</td>\n",
       "      <td>44.385450</td>\n",
       "      <td>0.00000</td>\n",
       "      <td>0.000000</td>\n",
       "      <td>0.000000</td>\n",
       "      <td>0.000000</td>\n",
       "      <td>0.000000</td>\n",
       "      <td>0.000000</td>\n",
       "    </tr>\n",
       "    <tr>\n",
       "      <th>2</th>\n",
       "      <td>0010bcc39e42b3c2131ed2ce55246e3c</td>\n",
       "      <td>0.205742</td>\n",
       "      <td>0.150837</td>\n",
       "      <td>0.181558</td>\n",
       "      <td>0.000000</td>\n",
       "      <td>0.000000</td>\n",
       "      <td>0.000000</td>\n",
       "      <td>0.000000</td>\n",
       "      <td>0.000000</td>\n",
       "      <td>0.00000</td>\n",
       "      <td>45.944710</td>\n",
       "      <td>44.444710</td>\n",
       "      <td>45.319710</td>\n",
       "      <td>0.00000</td>\n",
       "      <td>0.000000</td>\n",
       "      <td>0.000000</td>\n",
       "      <td>0.000000</td>\n",
       "      <td>0.000000</td>\n",
       "      <td>0.000000</td>\n",
       "    </tr>\n",
       "  </tbody>\n",
       "</table>\n",
       "</div>"
      ],
      "text/plain": [
       "                                 id  price_off_peak_var_max  \\\n",
       "0  0002203ffbb812588b632b9e628cc38d                0.128067   \n",
       "1  0004351ebdd665e6ee664792efc4fd13                0.148405   \n",
       "2  0010bcc39e42b3c2131ed2ce55246e3c                0.205742   \n",
       "\n",
       "   price_off_peak_var_min  price_off_peak_var_mean  price_peak_var_max  \\\n",
       "0                0.119906                 0.124338            0.105842   \n",
       "1                0.143943                 0.146426            0.000000   \n",
       "2                0.150837                 0.181558            0.000000   \n",
       "\n",
       "   price_peak_var_min  price_peak_var_mean  price_mid_peak_var_max  \\\n",
       "0            0.101673             0.103794                0.073773   \n",
       "1            0.000000             0.000000                0.000000   \n",
       "2            0.000000             0.000000                0.000000   \n",
       "\n",
       "   price_mid_peak_var_min  price_mid_peak_var_mean  price_off_peak_fix_max  \\\n",
       "0                0.070232                  0.07316               40.728885   \n",
       "1                0.000000                  0.00000               44.444710   \n",
       "2                0.000000                  0.00000               45.944710   \n",
       "\n",
       "   price_off_peak_fix_min  price_off_peak_fix_mean  price_peak_fix_max  \\\n",
       "0               40.565969                40.701732            24.43733   \n",
       "1               44.266931                44.385450             0.00000   \n",
       "2               44.444710                45.319710             0.00000   \n",
       "\n",
       "   price_peak_fix_min  price_peak_fix_mean  price_mid_peak_fix_max  \\\n",
       "0           24.339581            24.421038               16.291555   \n",
       "1            0.000000             0.000000                0.000000   \n",
       "2            0.000000             0.000000                0.000000   \n",
       "\n",
       "   price_mid_peak_fix_min  price_mid_peak_fix_mean  \n",
       "0               16.226389                16.280694  \n",
       "1                0.000000                 0.000000  \n",
       "2                0.000000                 0.000000  "
      ]
     },
     "execution_count": 50,
     "metadata": {},
     "output_type": "execute_result"
    }
   ],
   "source": [
    "stat_ = ['max', 'min', 'mean']\n",
    "price_attr = ['price_off_peak_var','price_peak_var','price_mid_peak_var','price_off_peak_fix','price_peak_fix','price_mid_peak_fix']\n",
    "price_stat = price_df.drop(columns=['price_date']).groupby(['id']).agg({'price_off_peak_var': stat_, 'price_peak_var': stat_, 'price_mid_peak_var': stat_,\n",
    "                                                      'price_off_peak_fix': stat_, 'price_peak_fix': stat_, 'price_mid_peak_fix': stat_,})\n",
    "# flatten the column names\n",
    "price_stat.columns = ['_'.join(x) for x in zip(price_stat.columns.get_level_values(0), price_stat.columns.get_level_values(1))]\n",
    "price_stat = price_stat.reset_index()\n",
    "price_stat.head(3)"
   ]
  },
  {
   "cell_type": "markdown",
   "id": "e9ccb84d",
   "metadata": {},
   "source": [
    "##### Merge client dataset to the price dataset to add churn data"
   ]
  },
  {
   "cell_type": "code",
   "execution_count": 51,
   "id": "156e8126",
   "metadata": {},
   "outputs": [
    {
     "data": {
      "text/html": [
       "<div>\n",
       "<style scoped>\n",
       "    .dataframe tbody tr th:only-of-type {\n",
       "        vertical-align: middle;\n",
       "    }\n",
       "\n",
       "    .dataframe tbody tr th {\n",
       "        vertical-align: top;\n",
       "    }\n",
       "\n",
       "    .dataframe thead th {\n",
       "        text-align: right;\n",
       "    }\n",
       "</style>\n",
       "<table border=\"1\" class=\"dataframe\">\n",
       "  <thead>\n",
       "    <tr style=\"text-align: right;\">\n",
       "      <th></th>\n",
       "      <th>id</th>\n",
       "      <th>price_off_peak_var_max</th>\n",
       "      <th>price_off_peak_var_min</th>\n",
       "      <th>price_off_peak_var_mean</th>\n",
       "      <th>price_peak_var_max</th>\n",
       "      <th>price_peak_var_min</th>\n",
       "      <th>price_peak_var_mean</th>\n",
       "      <th>price_mid_peak_var_max</th>\n",
       "      <th>price_mid_peak_var_min</th>\n",
       "      <th>price_mid_peak_var_mean</th>\n",
       "      <th>price_off_peak_fix_max</th>\n",
       "      <th>price_off_peak_fix_min</th>\n",
       "      <th>price_off_peak_fix_mean</th>\n",
       "      <th>price_peak_fix_max</th>\n",
       "      <th>price_peak_fix_min</th>\n",
       "      <th>price_peak_fix_mean</th>\n",
       "      <th>price_mid_peak_fix_max</th>\n",
       "      <th>price_mid_peak_fix_min</th>\n",
       "      <th>price_mid_peak_fix_mean</th>\n",
       "      <th>churn</th>\n",
       "    </tr>\n",
       "  </thead>\n",
       "  <tbody>\n",
       "    <tr>\n",
       "      <th>0</th>\n",
       "      <td>0002203ffbb812588b632b9e628cc38d</td>\n",
       "      <td>0.128067</td>\n",
       "      <td>0.119906</td>\n",
       "      <td>0.124338</td>\n",
       "      <td>0.105842</td>\n",
       "      <td>0.101673</td>\n",
       "      <td>0.103794</td>\n",
       "      <td>0.073773</td>\n",
       "      <td>0.070232</td>\n",
       "      <td>0.07316</td>\n",
       "      <td>40.728885</td>\n",
       "      <td>40.565969</td>\n",
       "      <td>40.701732</td>\n",
       "      <td>24.43733</td>\n",
       "      <td>24.339581</td>\n",
       "      <td>24.421038</td>\n",
       "      <td>16.291555</td>\n",
       "      <td>16.226389</td>\n",
       "      <td>16.280694</td>\n",
       "      <td>0.0</td>\n",
       "    </tr>\n",
       "    <tr>\n",
       "      <th>1</th>\n",
       "      <td>0004351ebdd665e6ee664792efc4fd13</td>\n",
       "      <td>0.148405</td>\n",
       "      <td>0.143943</td>\n",
       "      <td>0.146426</td>\n",
       "      <td>0.000000</td>\n",
       "      <td>0.000000</td>\n",
       "      <td>0.000000</td>\n",
       "      <td>0.000000</td>\n",
       "      <td>0.000000</td>\n",
       "      <td>0.00000</td>\n",
       "      <td>44.444710</td>\n",
       "      <td>44.266931</td>\n",
       "      <td>44.385450</td>\n",
       "      <td>0.00000</td>\n",
       "      <td>0.000000</td>\n",
       "      <td>0.000000</td>\n",
       "      <td>0.000000</td>\n",
       "      <td>0.000000</td>\n",
       "      <td>0.000000</td>\n",
       "      <td>0.0</td>\n",
       "    </tr>\n",
       "    <tr>\n",
       "      <th>2</th>\n",
       "      <td>0010bcc39e42b3c2131ed2ce55246e3c</td>\n",
       "      <td>0.205742</td>\n",
       "      <td>0.150837</td>\n",
       "      <td>0.181558</td>\n",
       "      <td>0.000000</td>\n",
       "      <td>0.000000</td>\n",
       "      <td>0.000000</td>\n",
       "      <td>0.000000</td>\n",
       "      <td>0.000000</td>\n",
       "      <td>0.00000</td>\n",
       "      <td>45.944710</td>\n",
       "      <td>44.444710</td>\n",
       "      <td>45.319710</td>\n",
       "      <td>0.00000</td>\n",
       "      <td>0.000000</td>\n",
       "      <td>0.000000</td>\n",
       "      <td>0.000000</td>\n",
       "      <td>0.000000</td>\n",
       "      <td>0.000000</td>\n",
       "      <td>0.0</td>\n",
       "    </tr>\n",
       "  </tbody>\n",
       "</table>\n",
       "</div>"
      ],
      "text/plain": [
       "                                 id  price_off_peak_var_max  \\\n",
       "0  0002203ffbb812588b632b9e628cc38d                0.128067   \n",
       "1  0004351ebdd665e6ee664792efc4fd13                0.148405   \n",
       "2  0010bcc39e42b3c2131ed2ce55246e3c                0.205742   \n",
       "\n",
       "   price_off_peak_var_min  price_off_peak_var_mean  price_peak_var_max  \\\n",
       "0                0.119906                 0.124338            0.105842   \n",
       "1                0.143943                 0.146426            0.000000   \n",
       "2                0.150837                 0.181558            0.000000   \n",
       "\n",
       "   price_peak_var_min  price_peak_var_mean  price_mid_peak_var_max  \\\n",
       "0            0.101673             0.103794                0.073773   \n",
       "1            0.000000             0.000000                0.000000   \n",
       "2            0.000000             0.000000                0.000000   \n",
       "\n",
       "   price_mid_peak_var_min  price_mid_peak_var_mean  price_off_peak_fix_max  \\\n",
       "0                0.070232                  0.07316               40.728885   \n",
       "1                0.000000                  0.00000               44.444710   \n",
       "2                0.000000                  0.00000               45.944710   \n",
       "\n",
       "   price_off_peak_fix_min  price_off_peak_fix_mean  price_peak_fix_max  \\\n",
       "0               40.565969                40.701732            24.43733   \n",
       "1               44.266931                44.385450             0.00000   \n",
       "2               44.444710                45.319710             0.00000   \n",
       "\n",
       "   price_peak_fix_min  price_peak_fix_mean  price_mid_peak_fix_max  \\\n",
       "0           24.339581            24.421038               16.291555   \n",
       "1            0.000000             0.000000                0.000000   \n",
       "2            0.000000             0.000000                0.000000   \n",
       "\n",
       "   price_mid_peak_fix_min  price_mid_peak_fix_mean  churn  \n",
       "0               16.226389                16.280694    0.0  \n",
       "1                0.000000                 0.000000    0.0  \n",
       "2                0.000000                 0.000000    0.0  "
      ]
     },
     "execution_count": 51,
     "metadata": {},
     "output_type": "execute_result"
    }
   ],
   "source": [
    "# add churn values\n",
    "price_stat = price_stat.merge(client_df[['id','churn']], on=['id'], how='left')\n",
    "# drop ids that are not inclued in the price dataset \n",
    "price_stat = price_stat.dropna(subset=['churn']).reset_index(drop=True)\n",
    "price_stat.head(3)"
   ]
  },
  {
   "cell_type": "markdown",
   "id": "68b9f7ec",
   "metadata": {},
   "source": [
    "##### Calculate the biggest changes in prices over a whole year."
   ]
  },
  {
   "cell_type": "code",
   "execution_count": 52,
   "id": "d45ea630",
   "metadata": {},
   "outputs": [
    {
     "data": {
      "text/html": [
       "<div>\n",
       "<style scoped>\n",
       "    .dataframe tbody tr th:only-of-type {\n",
       "        vertical-align: middle;\n",
       "    }\n",
       "\n",
       "    .dataframe tbody tr th {\n",
       "        vertical-align: top;\n",
       "    }\n",
       "\n",
       "    .dataframe thead th {\n",
       "        text-align: right;\n",
       "    }\n",
       "</style>\n",
       "<table border=\"1\" class=\"dataframe\">\n",
       "  <thead>\n",
       "    <tr style=\"text-align: right;\">\n",
       "      <th></th>\n",
       "      <th>id</th>\n",
       "      <th>price_off_peak_var_max</th>\n",
       "      <th>price_off_peak_var_min</th>\n",
       "      <th>price_off_peak_var_mean</th>\n",
       "      <th>price_peak_var_max</th>\n",
       "      <th>price_peak_var_min</th>\n",
       "      <th>price_peak_var_mean</th>\n",
       "      <th>price_mid_peak_var_max</th>\n",
       "      <th>price_mid_peak_var_min</th>\n",
       "      <th>price_mid_peak_var_mean</th>\n",
       "      <th>price_off_peak_fix_max</th>\n",
       "      <th>price_off_peak_fix_min</th>\n",
       "      <th>price_off_peak_fix_mean</th>\n",
       "      <th>price_peak_fix_max</th>\n",
       "      <th>price_peak_fix_min</th>\n",
       "      <th>price_peak_fix_mean</th>\n",
       "      <th>price_mid_peak_fix_max</th>\n",
       "      <th>price_mid_peak_fix_min</th>\n",
       "      <th>price_mid_peak_fix_mean</th>\n",
       "      <th>churn</th>\n",
       "      <th>diff_max_min_price_off_peak_var</th>\n",
       "      <th>diff_max_min_price_peak_var</th>\n",
       "      <th>diff_max_min_price_mid_peak_var</th>\n",
       "      <th>diff_max_min_price_off_peak_fix</th>\n",
       "      <th>diff_max_min_price_peak_fix</th>\n",
       "      <th>diff_max_min_price_mid_peak_fix</th>\n",
       "    </tr>\n",
       "  </thead>\n",
       "  <tbody>\n",
       "    <tr>\n",
       "      <th>0</th>\n",
       "      <td>0002203ffbb812588b632b9e628cc38d</td>\n",
       "      <td>0.128067</td>\n",
       "      <td>0.119906</td>\n",
       "      <td>0.124338</td>\n",
       "      <td>0.105842</td>\n",
       "      <td>0.101673</td>\n",
       "      <td>0.103794</td>\n",
       "      <td>0.073773</td>\n",
       "      <td>0.070232</td>\n",
       "      <td>0.07316</td>\n",
       "      <td>40.728885</td>\n",
       "      <td>40.565969</td>\n",
       "      <td>40.701732</td>\n",
       "      <td>24.43733</td>\n",
       "      <td>24.339581</td>\n",
       "      <td>24.421038</td>\n",
       "      <td>16.291555</td>\n",
       "      <td>16.226389</td>\n",
       "      <td>16.280694</td>\n",
       "      <td>0.0</td>\n",
       "      <td>0.008161</td>\n",
       "      <td>0.004169</td>\n",
       "      <td>0.003541</td>\n",
       "      <td>0.162916</td>\n",
       "      <td>0.097749</td>\n",
       "      <td>0.065166</td>\n",
       "    </tr>\n",
       "    <tr>\n",
       "      <th>1</th>\n",
       "      <td>0004351ebdd665e6ee664792efc4fd13</td>\n",
       "      <td>0.148405</td>\n",
       "      <td>0.143943</td>\n",
       "      <td>0.146426</td>\n",
       "      <td>0.000000</td>\n",
       "      <td>0.000000</td>\n",
       "      <td>0.000000</td>\n",
       "      <td>0.000000</td>\n",
       "      <td>0.000000</td>\n",
       "      <td>0.00000</td>\n",
       "      <td>44.444710</td>\n",
       "      <td>44.266931</td>\n",
       "      <td>44.385450</td>\n",
       "      <td>0.00000</td>\n",
       "      <td>0.000000</td>\n",
       "      <td>0.000000</td>\n",
       "      <td>0.000000</td>\n",
       "      <td>0.000000</td>\n",
       "      <td>0.000000</td>\n",
       "      <td>0.0</td>\n",
       "      <td>0.004462</td>\n",
       "      <td>0.000000</td>\n",
       "      <td>0.000000</td>\n",
       "      <td>0.177779</td>\n",
       "      <td>0.000000</td>\n",
       "      <td>0.000000</td>\n",
       "    </tr>\n",
       "    <tr>\n",
       "      <th>2</th>\n",
       "      <td>0010bcc39e42b3c2131ed2ce55246e3c</td>\n",
       "      <td>0.205742</td>\n",
       "      <td>0.150837</td>\n",
       "      <td>0.181558</td>\n",
       "      <td>0.000000</td>\n",
       "      <td>0.000000</td>\n",
       "      <td>0.000000</td>\n",
       "      <td>0.000000</td>\n",
       "      <td>0.000000</td>\n",
       "      <td>0.00000</td>\n",
       "      <td>45.944710</td>\n",
       "      <td>44.444710</td>\n",
       "      <td>45.319710</td>\n",
       "      <td>0.00000</td>\n",
       "      <td>0.000000</td>\n",
       "      <td>0.000000</td>\n",
       "      <td>0.000000</td>\n",
       "      <td>0.000000</td>\n",
       "      <td>0.000000</td>\n",
       "      <td>0.0</td>\n",
       "      <td>0.054905</td>\n",
       "      <td>0.000000</td>\n",
       "      <td>0.000000</td>\n",
       "      <td>1.500000</td>\n",
       "      <td>0.000000</td>\n",
       "      <td>0.000000</td>\n",
       "    </tr>\n",
       "  </tbody>\n",
       "</table>\n",
       "</div>"
      ],
      "text/plain": [
       "                                 id  price_off_peak_var_max  \\\n",
       "0  0002203ffbb812588b632b9e628cc38d                0.128067   \n",
       "1  0004351ebdd665e6ee664792efc4fd13                0.148405   \n",
       "2  0010bcc39e42b3c2131ed2ce55246e3c                0.205742   \n",
       "\n",
       "   price_off_peak_var_min  price_off_peak_var_mean  price_peak_var_max  \\\n",
       "0                0.119906                 0.124338            0.105842   \n",
       "1                0.143943                 0.146426            0.000000   \n",
       "2                0.150837                 0.181558            0.000000   \n",
       "\n",
       "   price_peak_var_min  price_peak_var_mean  price_mid_peak_var_max  \\\n",
       "0            0.101673             0.103794                0.073773   \n",
       "1            0.000000             0.000000                0.000000   \n",
       "2            0.000000             0.000000                0.000000   \n",
       "\n",
       "   price_mid_peak_var_min  price_mid_peak_var_mean  price_off_peak_fix_max  \\\n",
       "0                0.070232                  0.07316               40.728885   \n",
       "1                0.000000                  0.00000               44.444710   \n",
       "2                0.000000                  0.00000               45.944710   \n",
       "\n",
       "   price_off_peak_fix_min  price_off_peak_fix_mean  price_peak_fix_max  \\\n",
       "0               40.565969                40.701732            24.43733   \n",
       "1               44.266931                44.385450             0.00000   \n",
       "2               44.444710                45.319710             0.00000   \n",
       "\n",
       "   price_peak_fix_min  price_peak_fix_mean  price_mid_peak_fix_max  \\\n",
       "0           24.339581            24.421038               16.291555   \n",
       "1            0.000000             0.000000                0.000000   \n",
       "2            0.000000             0.000000                0.000000   \n",
       "\n",
       "   price_mid_peak_fix_min  price_mid_peak_fix_mean  churn  \\\n",
       "0               16.226389                16.280694    0.0   \n",
       "1                0.000000                 0.000000    0.0   \n",
       "2                0.000000                 0.000000    0.0   \n",
       "\n",
       "   diff_max_min_price_off_peak_var  diff_max_min_price_peak_var  \\\n",
       "0                         0.008161                     0.004169   \n",
       "1                         0.004462                     0.000000   \n",
       "2                         0.054905                     0.000000   \n",
       "\n",
       "   diff_max_min_price_mid_peak_var  diff_max_min_price_off_peak_fix  \\\n",
       "0                         0.003541                         0.162916   \n",
       "1                         0.000000                         0.177779   \n",
       "2                         0.000000                         1.500000   \n",
       "\n",
       "   diff_max_min_price_peak_fix  diff_max_min_price_mid_peak_fix  \n",
       "0                     0.097749                         0.065166  \n",
       "1                     0.000000                         0.000000  \n",
       "2                     0.000000                         0.000000  "
      ]
     },
     "execution_count": 52,
     "metadata": {},
     "output_type": "execute_result"
    }
   ],
   "source": [
    "# \n",
    "for attr in price_attr:\n",
    "    price_stat[f'diff_max_min_{attr}'] = price_stat[f'{attr}_max'] - price_stat[f'{attr}_min']\n",
    "#\n",
    "price_stat.head(3)"
   ]
  },
  {
   "cell_type": "code",
   "execution_count": 53,
   "id": "1aef3840",
   "metadata": {},
   "outputs": [
    {
     "data": {
      "image/png": "[encoded data removed]",
      "text/plain": [
       "<Figure size 1440x360 with 1 Axes>"
      ]
     },
     "metadata": {
      "needs_background": "light"
     },
     "output_type": "display_data"
    },
    {
     "data": {
      "image/png": "[encoded data removed]",
      "text/plain": [
       "<Figure size 1440x360 with 1 Axes>"
      ]
     },
     "metadata": {
      "needs_background": "light"
     },
     "output_type": "display_data"
    },
    {
     "data": {
      "image/png": "[encoded data removed]",
      "text/plain": [
       "<Figure size 1440x360 with 1 Axes>"
      ]
     },
     "metadata": {
      "needs_background": "light"
     },
     "output_type": "display_data"
    },
    {
     "data": {
      "image/png": "[encoded data removed]",
      "text/plain": [
       "<Figure size 1440x360 with 1 Axes>"
      ]
     },
     "metadata": {
      "needs_background": "light"
     },
     "output_type": "display_data"
    },
    {
     "data": {
      "image/png": "[encoded data removed]",
      "text/plain": [
       "<Figure size 1440x360 with 1 Axes>"
      ]
     },
     "metadata": {
      "needs_background": "light"
     },
     "output_type": "display_data"
    },
    {
     "data": {
      "image/png": "[encoded data removed]",
      "text/plain": [
       "<Figure size 1440x360 with 1 Axes>"
      ]
     },
     "metadata": {
      "needs_background": "light"
     },
     "output_type": "display_data"
    }
   ],
   "source": [
    "for attr in price_attr:\n",
    "    plot_histogram_by_churn(df=price_stat, target_variable=f'diff_max_min_{attr}', if_churn=True)"
   ]
  },
  {
   "cell_type": "markdown",
   "id": "9dd6257c",
   "metadata": {},
   "source": [
    "A significant majority of customers experienced minimal price fluctuations, indicating that their prices remained relatively stable over time."
   ]
  },
  {
   "cell_type": "markdown",
   "id": "487a9e5b",
   "metadata": {},
   "source": [
    "##### Calculate the difference between the price of the last month (2015-12-01) and mean price."
   ]
  },
  {
   "cell_type": "code",
   "execution_count": 54,
   "id": "3f9a9295",
   "metadata": {},
   "outputs": [
    {
     "data": {
      "text/html": [
       "<div>\n",
       "<style scoped>\n",
       "    .dataframe tbody tr th:only-of-type {\n",
       "        vertical-align: middle;\n",
       "    }\n",
       "\n",
       "    .dataframe tbody tr th {\n",
       "        vertical-align: top;\n",
       "    }\n",
       "\n",
       "    .dataframe thead th {\n",
       "        text-align: right;\n",
       "    }\n",
       "</style>\n",
       "<table border=\"1\" class=\"dataframe\">\n",
       "  <thead>\n",
       "    <tr style=\"text-align: right;\">\n",
       "      <th></th>\n",
       "      <th>id</th>\n",
       "      <th>price_off_peak_var_max</th>\n",
       "      <th>price_off_peak_var_min</th>\n",
       "      <th>price_off_peak_var_mean</th>\n",
       "      <th>price_peak_var_max</th>\n",
       "      <th>price_peak_var_min</th>\n",
       "      <th>price_peak_var_mean</th>\n",
       "      <th>price_mid_peak_var_max</th>\n",
       "      <th>price_mid_peak_var_min</th>\n",
       "      <th>price_mid_peak_var_mean</th>\n",
       "      <th>price_off_peak_fix_max</th>\n",
       "      <th>price_off_peak_fix_min</th>\n",
       "      <th>price_off_peak_fix_mean</th>\n",
       "      <th>price_peak_fix_max</th>\n",
       "      <th>price_peak_fix_min</th>\n",
       "      <th>price_peak_fix_mean</th>\n",
       "      <th>price_mid_peak_fix_max</th>\n",
       "      <th>price_mid_peak_fix_min</th>\n",
       "      <th>price_mid_peak_fix_mean</th>\n",
       "      <th>churn</th>\n",
       "      <th>diff_max_min_price_off_peak_var</th>\n",
       "      <th>diff_max_min_price_peak_var</th>\n",
       "      <th>diff_max_min_price_mid_peak_var</th>\n",
       "      <th>diff_max_min_price_off_peak_fix</th>\n",
       "      <th>diff_max_min_price_peak_fix</th>\n",
       "      <th>diff_max_min_price_mid_peak_fix</th>\n",
       "      <th>diff_Dec_mean_price_off_peak_var</th>\n",
       "      <th>diff_Dec_mean_price_peak_var</th>\n",
       "      <th>diff_Dec_mean_price_mid_peak_var</th>\n",
       "      <th>diff_Dec_mean_price_off_peak_fix</th>\n",
       "      <th>diff_Dec_mean_price_peak_fix</th>\n",
       "      <th>diff_Dec_mean_price_mid_peak_fix</th>\n",
       "    </tr>\n",
       "  </thead>\n",
       "  <tbody>\n",
       "    <tr>\n",
       "      <th>0</th>\n",
       "      <td>0002203ffbb812588b632b9e628cc38d</td>\n",
       "      <td>0.128067</td>\n",
       "      <td>0.119906</td>\n",
       "      <td>0.124338</td>\n",
       "      <td>0.105842</td>\n",
       "      <td>0.101673</td>\n",
       "      <td>0.103794</td>\n",
       "      <td>0.073773</td>\n",
       "      <td>0.070232</td>\n",
       "      <td>0.07316</td>\n",
       "      <td>40.728885</td>\n",
       "      <td>40.565969</td>\n",
       "      <td>40.701732</td>\n",
       "      <td>24.43733</td>\n",
       "      <td>24.339581</td>\n",
       "      <td>24.421038</td>\n",
       "      <td>16.291555</td>\n",
       "      <td>16.226389</td>\n",
       "      <td>16.280694</td>\n",
       "      <td>0.0</td>\n",
       "      <td>0.008161</td>\n",
       "      <td>0.004169</td>\n",
       "      <td>0.003541</td>\n",
       "      <td>0.162916</td>\n",
       "      <td>0.097749</td>\n",
       "      <td>0.065166</td>\n",
       "      <td>-0.004432</td>\n",
       "      <td>-0.002121</td>\n",
       "      <td>0.000559</td>\n",
       "      <td>0.027153</td>\n",
       "      <td>0.016292</td>\n",
       "      <td>0.010861</td>\n",
       "    </tr>\n",
       "    <tr>\n",
       "      <th>1</th>\n",
       "      <td>0004351ebdd665e6ee664792efc4fd13</td>\n",
       "      <td>0.148405</td>\n",
       "      <td>0.143943</td>\n",
       "      <td>0.146426</td>\n",
       "      <td>0.000000</td>\n",
       "      <td>0.000000</td>\n",
       "      <td>0.000000</td>\n",
       "      <td>0.000000</td>\n",
       "      <td>0.000000</td>\n",
       "      <td>0.00000</td>\n",
       "      <td>44.444710</td>\n",
       "      <td>44.266931</td>\n",
       "      <td>44.385450</td>\n",
       "      <td>0.00000</td>\n",
       "      <td>0.000000</td>\n",
       "      <td>0.000000</td>\n",
       "      <td>0.000000</td>\n",
       "      <td>0.000000</td>\n",
       "      <td>0.000000</td>\n",
       "      <td>0.0</td>\n",
       "      <td>0.004462</td>\n",
       "      <td>0.000000</td>\n",
       "      <td>0.000000</td>\n",
       "      <td>0.177779</td>\n",
       "      <td>0.000000</td>\n",
       "      <td>0.000000</td>\n",
       "      <td>-0.002483</td>\n",
       "      <td>0.000000</td>\n",
       "      <td>0.000000</td>\n",
       "      <td>0.059260</td>\n",
       "      <td>0.000000</td>\n",
       "      <td>0.000000</td>\n",
       "    </tr>\n",
       "    <tr>\n",
       "      <th>2</th>\n",
       "      <td>0010bcc39e42b3c2131ed2ce55246e3c</td>\n",
       "      <td>0.205742</td>\n",
       "      <td>0.150837</td>\n",
       "      <td>0.181558</td>\n",
       "      <td>0.000000</td>\n",
       "      <td>0.000000</td>\n",
       "      <td>0.000000</td>\n",
       "      <td>0.000000</td>\n",
       "      <td>0.000000</td>\n",
       "      <td>0.00000</td>\n",
       "      <td>45.944710</td>\n",
       "      <td>44.444710</td>\n",
       "      <td>45.319710</td>\n",
       "      <td>0.00000</td>\n",
       "      <td>0.000000</td>\n",
       "      <td>0.000000</td>\n",
       "      <td>0.000000</td>\n",
       "      <td>0.000000</td>\n",
       "      <td>0.000000</td>\n",
       "      <td>0.0</td>\n",
       "      <td>0.054905</td>\n",
       "      <td>0.000000</td>\n",
       "      <td>0.000000</td>\n",
       "      <td>1.500000</td>\n",
       "      <td>0.000000</td>\n",
       "      <td>0.000000</td>\n",
       "      <td>0.019722</td>\n",
       "      <td>0.000000</td>\n",
       "      <td>0.000000</td>\n",
       "      <td>0.625000</td>\n",
       "      <td>0.000000</td>\n",
       "      <td>0.000000</td>\n",
       "    </tr>\n",
       "  </tbody>\n",
       "</table>\n",
       "</div>"
      ],
      "text/plain": [
       "                                 id  price_off_peak_var_max  \\\n",
       "0  0002203ffbb812588b632b9e628cc38d                0.128067   \n",
       "1  0004351ebdd665e6ee664792efc4fd13                0.148405   \n",
       "2  0010bcc39e42b3c2131ed2ce55246e3c                0.205742   \n",
       "\n",
       "   price_off_peak_var_min  price_off_peak_var_mean  price_peak_var_max  \\\n",
       "0                0.119906                 0.124338            0.105842   \n",
       "1                0.143943                 0.146426            0.000000   \n",
       "2                0.150837                 0.181558            0.000000   \n",
       "\n",
       "   price_peak_var_min  price_peak_var_mean  price_mid_peak_var_max  \\\n",
       "0            0.101673             0.103794                0.073773   \n",
       "1            0.000000             0.000000                0.000000   \n",
       "2            0.000000             0.000000                0.000000   \n",
       "\n",
       "   price_mid_peak_var_min  price_mid_peak_var_mean  price_off_peak_fix_max  \\\n",
       "0                0.070232                  0.07316               40.728885   \n",
       "1                0.000000                  0.00000               44.444710   \n",
       "2                0.000000                  0.00000               45.944710   \n",
       "\n",
       "   price_off_peak_fix_min  price_off_peak_fix_mean  price_peak_fix_max  \\\n",
       "0               40.565969                40.701732            24.43733   \n",
       "1               44.266931                44.385450             0.00000   \n",
       "2               44.444710                45.319710             0.00000   \n",
       "\n",
       "   price_peak_fix_min  price_peak_fix_mean  price_mid_peak_fix_max  \\\n",
       "0           24.339581            24.421038               16.291555   \n",
       "1            0.000000             0.000000                0.000000   \n",
       "2            0.000000             0.000000                0.000000   \n",
       "\n",
       "   price_mid_peak_fix_min  price_mid_peak_fix_mean  churn  \\\n",
       "0               16.226389                16.280694    0.0   \n",
       "1                0.000000                 0.000000    0.0   \n",
       "2                0.000000                 0.000000    0.0   \n",
       "\n",
       "   diff_max_min_price_off_peak_var  diff_max_min_price_peak_var  \\\n",
       "0                         0.008161                     0.004169   \n",
       "1                         0.004462                     0.000000   \n",
       "2                         0.054905                     0.000000   \n",
       "\n",
       "   diff_max_min_price_mid_peak_var  diff_max_min_price_off_peak_fix  \\\n",
       "0                         0.003541                         0.162916   \n",
       "1                         0.000000                         0.177779   \n",
       "2                         0.000000                         1.500000   \n",
       "\n",
       "   diff_max_min_price_peak_fix  diff_max_min_price_mid_peak_fix  \\\n",
       "0                     0.097749                         0.065166   \n",
       "1                     0.000000                         0.000000   \n",
       "2                     0.000000                         0.000000   \n",
       "\n",
       "   diff_Dec_mean_price_off_peak_var  diff_Dec_mean_price_peak_var  \\\n",
       "0                         -0.004432                     -0.002121   \n",
       "1                         -0.002483                      0.000000   \n",
       "2                          0.019722                      0.000000   \n",
       "\n",
       "   diff_Dec_mean_price_mid_peak_var  diff_Dec_mean_price_off_peak_fix  \\\n",
       "0                          0.000559                          0.027153   \n",
       "1                          0.000000                          0.059260   \n",
       "2                          0.000000                          0.625000   \n",
       "\n",
       "   diff_Dec_mean_price_peak_fix  diff_Dec_mean_price_mid_peak_fix  \n",
       "0                      0.016292                          0.010861  \n",
       "1                      0.000000                          0.000000  \n",
       "2                      0.000000                          0.000000  "
      ]
     },
     "execution_count": 54,
     "metadata": {},
     "output_type": "execute_result"
    }
   ],
   "source": [
    "# add diff\n",
    "for attr in price_attr:\n",
    "    price_stat[f'diff_Dec_mean_{attr}'] = price_df[price_df['id'].isin(price_stat['id'])].groupby(['id'])[attr].nth(-1).values - price_stat[f'{attr}_mean']\n",
    "#\n",
    "price_stat.head(3)"
   ]
  },
  {
   "cell_type": "code",
   "execution_count": 55,
   "id": "f6dd1b50",
   "metadata": {},
   "outputs": [
    {
     "data": {
      "image/png": "[encoded data removed]",
      "text/plain": [
       "<Figure size 1440x360 with 1 Axes>"
      ]
     },
     "metadata": {
      "needs_background": "light"
     },
     "output_type": "display_data"
    },
    {
     "data": {
      "image/png": "[encoded data removed]",
      "text/plain": [
       "<Figure size 1440x360 with 1 Axes>"
      ]
     },
     "metadata": {
      "needs_background": "light"
     },
     "output_type": "display_data"
    },
    {
     "data": {
      "image/png": "[encoded data removed]",
      "text/plain": [
       "<Figure size 1440x360 with 1 Axes>"
      ]
     },
     "metadata": {
      "needs_background": "light"
     },
     "output_type": "display_data"
    },
    {
     "data": {
      "image/png": "[encoded data removed]",
      "text/plain": [
       "<Figure size 1440x360 with 1 Axes>"
      ]
     },
     "metadata": {
      "needs_background": "light"
     },
     "output_type": "display_data"
    },
    {
     "data": {
      "image/png": "[encoded data removed]",
      "text/plain": [
       "<Figure size 1440x360 with 1 Axes>"
      ]
     },
     "metadata": {
      "needs_background": "light"
     },
     "output_type": "display_data"
    },
    {
     "data": {
      "image/png": "[encoded data removed]",
      "text/plain": [
       "<Figure size 1440x360 with 1 Axes>"
      ]
     },
     "metadata": {
      "needs_background": "light"
     },
     "output_type": "display_data"
    }
   ],
   "source": [
    "for attr in price_attr:\n",
    "    plot_histogram_by_churn(df=price_stat, target_variable=f'diff_Dec_mean_{attr}', if_churn=True)"
   ]
  },
  {
   "cell_type": "markdown",
   "id": "a05fcc78",
   "metadata": {},
   "source": [
    "For the majority of customers, the prices recorded in the last month were closely aligned with the mean prices observed throughout the entire year."
   ]
  },
  {
   "cell_type": "markdown",
   "id": "dfdbefab",
   "metadata": {},
   "source": [
    "##### Analyze the impact of price changes on customer churn, focusing solely on off-peak prices."
   ]
  },
  {
   "cell_type": "code",
   "execution_count": 56,
   "id": "795e2aeb",
   "metadata": {},
   "outputs": [
    {
     "data": {
      "image/png": "[encoded data removed]",
      "text/plain": [
       "<Figure size 648x432 with 1 Axes>"
      ]
     },
     "metadata": {
      "needs_background": "light"
     },
     "output_type": "display_data"
    }
   ],
   "source": [
    "plot_bar_chart_with_percent_label(df=price_stat[price_stat['diff_Dec_mean_price_off_peak_var']>0], target_variable='churn', gap_label_bar=0.02)"
   ]
  },
  {
   "cell_type": "markdown",
   "id": "d8aee80a",
   "metadata": {},
   "source": [
    "Among customers who experienced an increase in off-peak energy prices, approximately 9.72% of them opted to switch to different providers."
   ]
  },
  {
   "cell_type": "code",
   "execution_count": 58,
   "id": "32863e4d",
   "metadata": {},
   "outputs": [
    {
     "data": {
      "image/png": "[encoded data removed]",
      "text/plain": [
       "<Figure size 648x432 with 1 Axes>"
      ]
     },
     "metadata": {
      "needs_background": "light"
     },
     "output_type": "display_data"
    }
   ],
   "source": [
    "plot_bar_chart_with_percent_label(df=price_stat[price_stat['diff_Dec_mean_price_off_peak_var']<=0], target_variable='churn', gap_label_bar=0.02)"
   ]
  },
  {
   "cell_type": "markdown",
   "id": "ecf3eaca",
   "metadata": {},
   "source": [
    "Among customers whose off-peak energy prices remained unchanged or experienced no variations, approximately 9.72% of them decided to switch to different providers."
   ]
  },
  {
   "cell_type": "markdown",
   "id": "a298232b",
   "metadata": {},
   "source": [
    "###### Based on the obtained results, it is evident that regardless of the extent of price fluctuations, the proportion of customers who churned consistently remained around 9.72%. This implies that changes in prices did not have a significant impact on the customer churn rate. Therefore, it can be concluded that customers did not exhibit sensitivity to prices."
   ]
  },
  {
   "cell_type": "markdown",
   "id": "dc68b74c",
   "metadata": {},
   "source": [
    "\n",
    "**Key findings from Hypothesis Testing**\n",
    "\n",
    "1. Approximately 9.72% of customers opted to switch providers.\n",
    "\n",
    "2. The numeric variables related to consumption exhibit a significant skewness.\n",
    "\n",
    "3. It can be observed that changes in prices have no discernible impact on customer churn."
   ]
  },
  {
   "cell_type": "markdown",
   "id": "9ad95b35",
   "metadata": {},
   "source": [
    "Suggestions\n",
    "\n",
    "1. Comparison should be made between powerco price and that of its competitors. This can be achieved if we can have access to the competitor price and client data  preferably through the third party medium. If other providers give a much better offer than that of powerco, customers are more likely to transfer to new providers even if the current prices are dropped.\n",
    "\n",
    "2. We also need to clarify what values of zero in price data represent. that is does it stand for free power or energy and what is the reason for that.\n",
    "\n",
    "3. Improving customer satisfaction by providing excellent customer service, also implementing regular customer feedback programs can also help reduce customer churn. "
   ]
  },
  {
   "cell_type": "markdown",
   "id": "3e0adda4",
   "metadata": {},
   "source": [
    "## Cracking the Code: Unleashing the Power of Feature Engineering and Modeling for Customer Churn Prediction\n",
    "\n",
    "**Background Information**\n",
    "\n",
    "Having delved into the data and gained a profound understanding, our team is poised to embark on the next stage of this endeavor—exploring the underlying drivers of customer churn and crafting pertinent features for our churn prediction model.\n",
    "\n",
    "One feature that has already undergone scrutiny is the \"difference between off-peak prices in December and the preceding January.\" Building upon this initial investigation, we will delve deeper into creative feature engineering, striving to uncover additional insightful predictors.\n",
    "\n",
    "Our primary focus will be on implementing the price difference feature, but we won't stop there. We will endeavor to construct an array of features tailored to capture the essence of customer churn dynamics. Armed with these features, we will proceed to train a Random Forest classifier—a robust and versatile model renowned for its predictive capabilities—to anticipate customer churn. \n",
    "\n",
    "Evaluating the model's performance will be of utmost importance, employing appropriate evaluation metrics to gauge its efficacy accurately. Each decision made along the way will be thoroughly justified, ensuring the utmost transparency and reliability in our approach.\n",
    "\n",
    "Additionally, if time permits, we will explore the client's proposed discounting strategy, entailing a 20% discount for customers exhibiting a high propensity to churn. This investigation will shed light on the potential effectiveness and viability of such a strategy.\n",
    "\n",
    "Let us now dive into the assigned tasks and bring the predictive power of feature engineering and modeling to the realm of customer churn prediction.\n",
    "\n",
    "**Sub-Task 1: Constructing the \"difference between off-peak prices in December and January\" feature**\n",
    "\n",
    "We will meticulously calculate the disparity in off-peak prices between December and the preceding January for each customer. This feature will provide valuable insights into potential correlations between pricing dynamics and churn behavior.\n",
    "\n",
    "**Sub-Task 2: Unleashing the predictive might with our churn prediction model**\n",
    "\n",
    "Once we have harnessed the transformative potential of feature engineering, we will proceed to train a Random Forest classifier—a stalwart in the realm of machine learning algorithms—for customer churn prediction. This ensemble model, renowned for its robustness and ability to handle complex relationships, will serve as our predictive powerhouse.\n",
    "\n",
    "To ascertain the model's effectiveness, we will diligently evaluate its performance using appropriate evaluation metrics. This rigorous assessment will facilitate a comprehensive understanding of the model's capabilities, enabling us to fine-tune and optimize its predictive prowess.\n",
    "\n"
   ]
  },
  {
   "cell_type": "code",
   "execution_count": 65,
   "id": "5b677d02",
   "metadata": {},
   "outputs": [],
   "source": [
    "# load packages\n",
    "from sklearn.preprocessing import StandardScaler\n",
    "from sklearn.model_selection import StratifiedKFold\n",
    "from sklearn.linear_model import LogisticRegression\n",
    "from sklearn.ensemble import RandomForestClassifier\n",
    "from sklearn.metrics import precision_score, recall_score, accuracy_score, confusion_matrix, ConfusionMatrixDisplay, classification_report"
   ]
  },
  {
   "cell_type": "code",
   "execution_count": 66,
   "id": "5f886d12",
   "metadata": {},
   "outputs": [
    {
     "data": {
      "text/html": [
       "<div>\n",
       "<style scoped>\n",
       "    .dataframe tbody tr th:only-of-type {\n",
       "        vertical-align: middle;\n",
       "    }\n",
       "\n",
       "    .dataframe tbody tr th {\n",
       "        vertical-align: top;\n",
       "    }\n",
       "\n",
       "    .dataframe thead th {\n",
       "        text-align: right;\n",
       "    }\n",
       "</style>\n",
       "<table border=\"1\" class=\"dataframe\">\n",
       "  <thead>\n",
       "    <tr style=\"text-align: right;\">\n",
       "      <th></th>\n",
       "      <th>id</th>\n",
       "      <th>channel_sales</th>\n",
       "      <th>cons_12m</th>\n",
       "      <th>cons_gas_12m</th>\n",
       "      <th>cons_last_month</th>\n",
       "      <th>forecast_cons_12m</th>\n",
       "      <th>forecast_cons_year</th>\n",
       "      <th>forecast_discount_energy</th>\n",
       "      <th>forecast_meter_rent_12m</th>\n",
       "      <th>forecast_price_energy_off_peak</th>\n",
       "      <th>forecast_price_energy_peak</th>\n",
       "      <th>forecast_price_pow_off_peak</th>\n",
       "      <th>has_gas</th>\n",
       "      <th>imp_cons</th>\n",
       "      <th>margin_gross_pow_ele</th>\n",
       "      <th>margin_net_pow_ele</th>\n",
       "      <th>nb_prod_act</th>\n",
       "      <th>net_margin</th>\n",
       "      <th>num_years_antig</th>\n",
       "      <th>origin_up</th>\n",
       "      <th>pow_max</th>\n",
       "      <th>churn</th>\n",
       "      <th>contract_start_year</th>\n",
       "      <th>contract_end_year</th>\n",
       "      <th>year_modif_prod</th>\n",
       "      <th>year_renewal</th>\n",
       "      <th>diff_dec_jan_off_peak_var</th>\n",
       "      <th>diff_dec_jan_off_peak_fix</th>\n",
       "      <th>diff_dec_jan_price_peak_var</th>\n",
       "      <th>diff_dec_jan_price_peak_fix</th>\n",
       "      <th>diff_dec_jan_price_mid_peak_var</th>\n",
       "      <th>diff_dec_jan_price_mid_peak_fix</th>\n",
       "      <th>diff_Dec_mean_price_off_peak_var</th>\n",
       "      <th>diff_Dec_mean_price_off_peak_fix</th>\n",
       "      <th>diff_Dec_mean_price_peak_var</th>\n",
       "      <th>diff_Dec_mean_price_peak_fix</th>\n",
       "      <th>diff_Dec_mean_price_mid_peak_var</th>\n",
       "      <th>diff_Dec_mean_price_mid_peak_fix</th>\n",
       "    </tr>\n",
       "  </thead>\n",
       "  <tbody>\n",
       "    <tr>\n",
       "      <th>0</th>\n",
       "      <td>24011ae4ebbe3035111d65fa7c15bc57</td>\n",
       "      <td>4</td>\n",
       "      <td>0</td>\n",
       "      <td>54946</td>\n",
       "      <td>0</td>\n",
       "      <td>0.00</td>\n",
       "      <td>0</td>\n",
       "      <td>0.0</td>\n",
       "      <td>1.78</td>\n",
       "      <td>0.114481</td>\n",
       "      <td>0.098142</td>\n",
       "      <td>40.606701</td>\n",
       "      <td>1</td>\n",
       "      <td>0.00</td>\n",
       "      <td>25.44</td>\n",
       "      <td>25.44</td>\n",
       "      <td>2</td>\n",
       "      <td>678.99</td>\n",
       "      <td>3</td>\n",
       "      <td>4</td>\n",
       "      <td>43.648</td>\n",
       "      <td>1</td>\n",
       "      <td>2013</td>\n",
       "      <td>2016</td>\n",
       "      <td>2015</td>\n",
       "      <td>2015</td>\n",
       "      <td>0.020057</td>\n",
       "      <td>3.700961</td>\n",
       "      <td>-0.017912</td>\n",
       "      <td>-24.339581</td>\n",
       "      <td>-0.071536</td>\n",
       "      <td>-16.226389</td>\n",
       "      <td>0.021246</td>\n",
       "      <td>3.324664</td>\n",
       "      <td>-0.015266</td>\n",
       "      <td>-22.352010</td>\n",
       "      <td>-0.066530</td>\n",
       "      <td>-14.901340</td>\n",
       "    </tr>\n",
       "    <tr>\n",
       "      <th>1</th>\n",
       "      <td>d29c2c54acc38ff3c0614d0a653813dd</td>\n",
       "      <td>0</td>\n",
       "      <td>4660</td>\n",
       "      <td>0</td>\n",
       "      <td>0</td>\n",
       "      <td>189.95</td>\n",
       "      <td>0</td>\n",
       "      <td>0.0</td>\n",
       "      <td>16.27</td>\n",
       "      <td>0.145711</td>\n",
       "      <td>0.000000</td>\n",
       "      <td>44.311378</td>\n",
       "      <td>0</td>\n",
       "      <td>0.00</td>\n",
       "      <td>16.38</td>\n",
       "      <td>16.38</td>\n",
       "      <td>1</td>\n",
       "      <td>18.89</td>\n",
       "      <td>6</td>\n",
       "      <td>2</td>\n",
       "      <td>13.800</td>\n",
       "      <td>0</td>\n",
       "      <td>2009</td>\n",
       "      <td>2016</td>\n",
       "      <td>2009</td>\n",
       "      <td>2015</td>\n",
       "      <td>-0.003767</td>\n",
       "      <td>0.177779</td>\n",
       "      <td>0.000000</td>\n",
       "      <td>0.000000</td>\n",
       "      <td>0.000000</td>\n",
       "      <td>0.000000</td>\n",
       "      <td>-0.002009</td>\n",
       "      <td>0.133335</td>\n",
       "      <td>-0.007124</td>\n",
       "      <td>0.000000</td>\n",
       "      <td>0.000000</td>\n",
       "      <td>0.000000</td>\n",
       "    </tr>\n",
       "    <tr>\n",
       "      <th>2</th>\n",
       "      <td>764c75f661154dac3a6c254cd082ea7d</td>\n",
       "      <td>4</td>\n",
       "      <td>544</td>\n",
       "      <td>0</td>\n",
       "      <td>0</td>\n",
       "      <td>47.96</td>\n",
       "      <td>0</td>\n",
       "      <td>0.0</td>\n",
       "      <td>38.72</td>\n",
       "      <td>0.165794</td>\n",
       "      <td>0.087899</td>\n",
       "      <td>44.311378</td>\n",
       "      <td>0</td>\n",
       "      <td>0.00</td>\n",
       "      <td>28.60</td>\n",
       "      <td>28.60</td>\n",
       "      <td>1</td>\n",
       "      <td>6.60</td>\n",
       "      <td>6</td>\n",
       "      <td>2</td>\n",
       "      <td>13.856</td>\n",
       "      <td>0</td>\n",
       "      <td>2010</td>\n",
       "      <td>2016</td>\n",
       "      <td>2010</td>\n",
       "      <td>2015</td>\n",
       "      <td>-0.004670</td>\n",
       "      <td>0.177779</td>\n",
       "      <td>0.000528</td>\n",
       "      <td>0.000000</td>\n",
       "      <td>0.000000</td>\n",
       "      <td>0.000000</td>\n",
       "      <td>-0.002714</td>\n",
       "      <td>0.059260</td>\n",
       "      <td>-0.000012</td>\n",
       "      <td>0.000000</td>\n",
       "      <td>0.000000</td>\n",
       "      <td>0.000000</td>\n",
       "    </tr>\n",
       "    <tr>\n",
       "      <th>3</th>\n",
       "      <td>bba03439a292a1e166f80264c16191cb</td>\n",
       "      <td>5</td>\n",
       "      <td>1584</td>\n",
       "      <td>0</td>\n",
       "      <td>0</td>\n",
       "      <td>240.04</td>\n",
       "      <td>0</td>\n",
       "      <td>0.0</td>\n",
       "      <td>19.83</td>\n",
       "      <td>0.146694</td>\n",
       "      <td>0.000000</td>\n",
       "      <td>44.311378</td>\n",
       "      <td>0</td>\n",
       "      <td>0.00</td>\n",
       "      <td>30.22</td>\n",
       "      <td>30.22</td>\n",
       "      <td>1</td>\n",
       "      <td>25.46</td>\n",
       "      <td>6</td>\n",
       "      <td>2</td>\n",
       "      <td>13.200</td>\n",
       "      <td>0</td>\n",
       "      <td>2010</td>\n",
       "      <td>2016</td>\n",
       "      <td>2010</td>\n",
       "      <td>2015</td>\n",
       "      <td>-0.004547</td>\n",
       "      <td>0.177779</td>\n",
       "      <td>0.000000</td>\n",
       "      <td>0.000000</td>\n",
       "      <td>0.000000</td>\n",
       "      <td>0.000000</td>\n",
       "      <td>-0.002624</td>\n",
       "      <td>0.044445</td>\n",
       "      <td>0.000000</td>\n",
       "      <td>0.000000</td>\n",
       "      <td>0.000000</td>\n",
       "      <td>0.000000</td>\n",
       "    </tr>\n",
       "    <tr>\n",
       "      <th>4</th>\n",
       "      <td>149d57cf92fc41cf94415803a877cb4b</td>\n",
       "      <td>0</td>\n",
       "      <td>4425</td>\n",
       "      <td>0</td>\n",
       "      <td>526</td>\n",
       "      <td>445.75</td>\n",
       "      <td>526</td>\n",
       "      <td>0.0</td>\n",
       "      <td>131.73</td>\n",
       "      <td>0.116900</td>\n",
       "      <td>0.100015</td>\n",
       "      <td>40.606701</td>\n",
       "      <td>0</td>\n",
       "      <td>52.32</td>\n",
       "      <td>44.91</td>\n",
       "      <td>44.91</td>\n",
       "      <td>1</td>\n",
       "      <td>47.98</td>\n",
       "      <td>6</td>\n",
       "      <td>2</td>\n",
       "      <td>19.800</td>\n",
       "      <td>0</td>\n",
       "      <td>2010</td>\n",
       "      <td>2016</td>\n",
       "      <td>2010</td>\n",
       "      <td>2015</td>\n",
       "      <td>-0.006192</td>\n",
       "      <td>0.162916</td>\n",
       "      <td>-0.002302</td>\n",
       "      <td>0.097749</td>\n",
       "      <td>0.003487</td>\n",
       "      <td>0.065166</td>\n",
       "      <td>-0.004268</td>\n",
       "      <td>0.040729</td>\n",
       "      <td>-0.001965</td>\n",
       "      <td>0.024437</td>\n",
       "      <td>0.000854</td>\n",
       "      <td>0.016292</td>\n",
       "    </tr>\n",
       "  </tbody>\n",
       "</table>\n",
       "</div>"
      ],
      "text/plain": [
       "                                 id  channel_sales  cons_12m  cons_gas_12m  \\\n",
       "0  24011ae4ebbe3035111d65fa7c15bc57              4         0         54946   \n",
       "1  d29c2c54acc38ff3c0614d0a653813dd              0      4660             0   \n",
       "2  764c75f661154dac3a6c254cd082ea7d              4       544             0   \n",
       "3  bba03439a292a1e166f80264c16191cb              5      1584             0   \n",
       "4  149d57cf92fc41cf94415803a877cb4b              0      4425             0   \n",
       "\n",
       "   cons_last_month  forecast_cons_12m  forecast_cons_year  \\\n",
       "0                0               0.00                   0   \n",
       "1                0             189.95                   0   \n",
       "2                0              47.96                   0   \n",
       "3                0             240.04                   0   \n",
       "4              526             445.75                 526   \n",
       "\n",
       "   forecast_discount_energy  forecast_meter_rent_12m  \\\n",
       "0                       0.0                     1.78   \n",
       "1                       0.0                    16.27   \n",
       "2                       0.0                    38.72   \n",
       "3                       0.0                    19.83   \n",
       "4                       0.0                   131.73   \n",
       "\n",
       "   forecast_price_energy_off_peak  forecast_price_energy_peak  \\\n",
       "0                        0.114481                    0.098142   \n",
       "1                        0.145711                    0.000000   \n",
       "2                        0.165794                    0.087899   \n",
       "3                        0.146694                    0.000000   \n",
       "4                        0.116900                    0.100015   \n",
       "\n",
       "   forecast_price_pow_off_peak  has_gas  imp_cons  margin_gross_pow_ele  \\\n",
       "0                    40.606701        1      0.00                 25.44   \n",
       "1                    44.311378        0      0.00                 16.38   \n",
       "2                    44.311378        0      0.00                 28.60   \n",
       "3                    44.311378        0      0.00                 30.22   \n",
       "4                    40.606701        0     52.32                 44.91   \n",
       "\n",
       "   margin_net_pow_ele  nb_prod_act  net_margin  num_years_antig  origin_up  \\\n",
       "0               25.44            2      678.99                3          4   \n",
       "1               16.38            1       18.89                6          2   \n",
       "2               28.60            1        6.60                6          2   \n",
       "3               30.22            1       25.46                6          2   \n",
       "4               44.91            1       47.98                6          2   \n",
       "\n",
       "   pow_max  churn  contract_start_year  contract_end_year  year_modif_prod  \\\n",
       "0   43.648      1                 2013               2016             2015   \n",
       "1   13.800      0                 2009               2016             2009   \n",
       "2   13.856      0                 2010               2016             2010   \n",
       "3   13.200      0                 2010               2016             2010   \n",
       "4   19.800      0                 2010               2016             2010   \n",
       "\n",
       "   year_renewal  diff_dec_jan_off_peak_var  diff_dec_jan_off_peak_fix  \\\n",
       "0          2015                   0.020057                   3.700961   \n",
       "1          2015                  -0.003767                   0.177779   \n",
       "2          2015                  -0.004670                   0.177779   \n",
       "3          2015                  -0.004547                   0.177779   \n",
       "4          2015                  -0.006192                   0.162916   \n",
       "\n",
       "   diff_dec_jan_price_peak_var  diff_dec_jan_price_peak_fix  \\\n",
       "0                    -0.017912                   -24.339581   \n",
       "1                     0.000000                     0.000000   \n",
       "2                     0.000528                     0.000000   \n",
       "3                     0.000000                     0.000000   \n",
       "4                    -0.002302                     0.097749   \n",
       "\n",
       "   diff_dec_jan_price_mid_peak_var  diff_dec_jan_price_mid_peak_fix  \\\n",
       "0                        -0.071536                       -16.226389   \n",
       "1                         0.000000                         0.000000   \n",
       "2                         0.000000                         0.000000   \n",
       "3                         0.000000                         0.000000   \n",
       "4                         0.003487                         0.065166   \n",
       "\n",
       "   diff_Dec_mean_price_off_peak_var  diff_Dec_mean_price_off_peak_fix  \\\n",
       "0                          0.021246                          3.324664   \n",
       "1                         -0.002009                          0.133335   \n",
       "2                         -0.002714                          0.059260   \n",
       "3                         -0.002624                          0.044445   \n",
       "4                         -0.004268                          0.040729   \n",
       "\n",
       "   diff_Dec_mean_price_peak_var  diff_Dec_mean_price_peak_fix  \\\n",
       "0                     -0.015266                    -22.352010   \n",
       "1                     -0.007124                      0.000000   \n",
       "2                     -0.000012                      0.000000   \n",
       "3                      0.000000                      0.000000   \n",
       "4                     -0.001965                      0.024437   \n",
       "\n",
       "   diff_Dec_mean_price_mid_peak_var  diff_Dec_mean_price_mid_peak_fix  \n",
       "0                         -0.066530                        -14.901340  \n",
       "1                          0.000000                          0.000000  \n",
       "2                          0.000000                          0.000000  \n",
       "3                          0.000000                          0.000000  \n",
       "4                          0.000854                          0.016292  "
      ]
     },
     "execution_count": 66,
     "metadata": {},
     "output_type": "execute_result"
    }
   ],
   "source": [
    "# drop irrelevant columns\n",
    "train_data = client_df.copy()\n",
    "train_data['year_modif_prod'] = train_data['date_modif_prod'].dt.year\n",
    "train_data['year_renewal'] = train_data['date_renewal'].dt.year\n",
    "train_data = train_data.drop(columns=['date_activ','date_end','date_modif_prod','date_renewal'])\n",
    "# \n",
    "has_gas_encoder = LabelEncoder()\n",
    "train_data['has_gas'] = has_gas_encoder.fit_transform(train_data['has_gas'])\n",
    "# add new feature \"diff_dec_jan_off_peak_var\" and \"diff_dec_jan_off_peak_fix\". I just calculate the differnece between last price and first price for each customer.\n",
    "diff_dec_jan_off_peak_var = price_df.sort_values(by=['price_date']).groupby(['id'])['price_off_peak_var'].nth(-1) - price_df.sort_values(by=['price_date']).groupby(['id'])['price_off_peak_var'].nth(0)\n",
    "diff_dec_jan_off_peak_var = diff_dec_jan_off_peak_var.reset_index(name='diff_dec_jan_off_peak_var')\n",
    "diff_dec_jan_off_peak_fix = price_df.sort_values(by=['price_date']).groupby(['id'])['price_off_peak_fix'].nth(-1) - price_df.sort_values(by=['price_date']).groupby(['id'])['price_off_peak_fix'].nth(0)\n",
    "diff_dec_jan_off_peak_fix = diff_dec_jan_off_peak_fix.reset_index(name='diff_dec_jan_off_peak_fix')\n",
    "train_data = train_data.merge(diff_dec_jan_off_peak_var, on='id', how='left')\n",
    "train_data = train_data.merge(diff_dec_jan_off_peak_fix, on='id', how='left')\n",
    "# also add the above differences of other prices\n",
    "for attr in ['price_peak_var','price_peak_fix','price_mid_peak_var','price_mid_peak_fix']:\n",
    "    diff_dec_jan_temp = price_df.sort_values(by=['price_date']).groupby(['id'])[attr].nth(-1) - price_df.sort_values(by=['price_date']).groupby(['id'])[attr].nth(0)\n",
    "    diff_dec_jan_temp = diff_dec_jan_temp.reset_index(name=f'diff_dec_jan_{attr}')\n",
    "    train_data = train_data.merge(diff_dec_jan_temp, on='id', how='left')\n",
    "# add price changing trends\n",
    "train_data = train_data.merge(price_stat[['id','diff_Dec_mean_price_off_peak_var','diff_Dec_mean_price_off_peak_fix',\n",
    "                                          'diff_Dec_mean_price_peak_var','diff_Dec_mean_price_peak_fix',\n",
    "                                          'diff_Dec_mean_price_mid_peak_var','diff_Dec_mean_price_mid_peak_fix',\n",
    "                                        ]], on='id', how='left')\n",
    "\n",
    "#\n",
    "train_data.head()"
   ]
  },
  {
   "cell_type": "markdown",
   "id": "a3c7ba18",
   "metadata": {},
   "source": [
    "Generate training data and corresponding training labels.\n",
    "\n",
    "Please note the following guidelines specific to tree-based models:\n",
    "\n",
    "1. Data scaling is not required for tree-based models. Unlike other machine learning models, you do not need to normalize or standardize the features.\n",
    "\n",
    "2. Instead of applying one-hot encoding to process categorical variables, utilize label encoding. Convert categorical variables into numeric variables using label encoding, as tree-based models can directly handle categorical variables in their original form.\n",
    "\n",
    "These considerations will ensure the appropriate handling of data preprocessing for tree-based models."
   ]
  },
  {
   "cell_type": "markdown",
   "id": "40c3f2b5",
   "metadata": {},
   "source": [
    "### Data sampling"
   ]
  },
  {
   "cell_type": "code",
   "execution_count": 67,
   "id": "67f065f6",
   "metadata": {},
   "outputs": [
    {
     "data": {
      "text/plain": [
       "((14606, 36), (14606,))"
      ]
     },
     "execution_count": 67,
     "metadata": {},
     "output_type": "execute_result"
    }
   ],
   "source": [
    "X = train_data.drop(columns=['id','churn'])\n",
    "y = train_data['churn']\n",
    "X.shape, y.shape"
   ]
  },
  {
   "cell_type": "markdown",
   "id": "88b3f04a",
   "metadata": {},
   "source": [
    "### Build a RandomForest model\n",
    "    \n",
    "In this scenario, we will not have a separate testing dataset. Instead, we will employ the \"out-of-fold\" cross-validation strategy to evaluate the performance of the model. Given the imbalanced nature of the training dataset, accuracy alone is not a suitable metric for assessing the model's performance. Instead, we will focus on precision and recall as the evaluation metrics. However, the accuracy results will still be displayed for reference purposes, but they will not be used as the primary measure of the model's performance.\n",
    "\n",
    "Since the objective of this task is not to find the optimal model parameters, we will not perform parameter tuning. Our main focus will be on building and evaluating the model based on the existing parameter settings."
   ]
  },
  {
   "cell_type": "code",
   "execution_count": 71,
   "id": "ca84fbc9",
   "metadata": {},
   "outputs": [
    {
     "name": "stdout",
     "output_type": "stream",
     "text": [
      "Fold 1 Precision 0.714 Recall 0.053 Accuracy 0.906\n",
      "Fold 2 Precision 0.885 Recall 0.081 Accuracy 0.910\n",
      "Fold 3 Precision 0.895 Recall 0.060 Accuracy 0.908\n",
      "Fold 4 Precision 0.944 Recall 0.060 Accuracy 0.908\n",
      "Fold 5 Precision 0.850 Recall 0.060 Accuracy 0.908\n",
      "Total  Precision 0.856 Recall 0.063 Accuracy 0.908\n"
     ]
    }
   ],
   "source": [
    "# \n",
    "pred_train_labels = np.zeros(shape=(X.shape[0], 2))   # pred training labels\n",
    "feature_importance_df = pd.DataFrame(data={'feature_name':X.columns, 'feature_importance':[0]*len(X.columns)})\n",
    "# create cv dataset\n",
    "kfold = StratifiedKFold(n_splits=5, shuffle=True, random_state=29)\n",
    "fold_counter = 1\n",
    "for train_index, test_index in kfold.split(X, y):\n",
    "    X_train, X_test = X.loc[train_index], X.loc[test_index]\n",
    "    y_train, y_test = y[train_index], y[test_index]\n",
    "    # build model\n",
    "    rf = RandomForestClassifier(random_state=56)\n",
    "    # train model\n",
    "    rf.fit(X_train, y_train)\n",
    "    pred_train_labels[test_index] = rf.predict_proba(X_test)\n",
    "    feature_importance_df['feature_importance'] = feature_importance_df['feature_importance'] + (rf.feature_importances_)\n",
    "    print(f\"Fold {fold_counter} Precision {precision_score(y_test, rf.predict(X_test)):.3f} Recall {recall_score(y_test, rf.predict(X_test)):.3f} Accuracy {accuracy_score(y_test, rf.predict(X_test)):.3f}\")\n",
    "    fold_counter = fold_counter + 1\n",
    "# predicted labels\n",
    "pred_y = pred_train_labels.argmax(axis=-1)\n",
    "print(f\"Total  Precision {precision_score(y, pred_y):.3f} Recall {recall_score(y, pred_y):.3f} Accuracy {accuracy_score(y, pred_y):.3f}\")"
   ]
  },
  {
   "cell_type": "code",
   "execution_count": 77,
   "id": "15e22a07",
   "metadata": {},
   "outputs": [
    {
     "name": "stdout",
     "output_type": "stream",
     "text": [
      "              precision    recall  f1-score   support\n",
      "\n",
      "           0       0.91      1.00      0.95     13187\n",
      "           1       0.86      0.06      0.12      1419\n",
      "\n",
      "    accuracy                           0.91     14606\n",
      "   macro avg       0.88      0.53      0.53     14606\n",
      "weighted avg       0.90      0.91      0.87     14606\n",
      "\n"
     ]
    }
   ],
   "source": [
    "print(classification_report(y, pred_y))"
   ]
  },
  {
   "cell_type": "code",
   "execution_count": 81,
   "id": "805c5de1",
   "metadata": {},
   "outputs": [
    {
     "name": "stdout",
     "output_type": "stream",
     "text": [
      "True positives: 89\n",
      "False positives: 15\n",
      "True negatives: 13172\n",
      "False negatives: 1330\n",
      "\n"
     ]
    }
   ],
   "source": [
    "from sklearn import metrics\n",
    "tn, fp, fn, tp = metrics.confusion_matrix(y, pred_y).ravel()\n",
    "print(f\"True positives: {tp}\")\n",
    "print(f\"False positives: {fp}\")\n",
    "print(f\"True negatives: {tn}\")\n",
    "print(f\"False negatives: {fn}\\n\")"
   ]
  },
  {
   "cell_type": "code",
   "execution_count": 75,
   "id": "c6514fa9",
   "metadata": {},
   "outputs": [
    {
     "data": {
      "text/plain": [
       "<sklearn.metrics._plot.confusion_matrix.ConfusionMatrixDisplay at 0x192aa8184c0>"
      ]
     },
     "execution_count": 75,
     "metadata": {},
     "output_type": "execute_result"
    },
    {
     "data": {
      "image/png": "[encoded data removed]",
      "text/plain": [
       "<Figure size 432x288 with 2 Axes>"
      ]
     },
     "metadata": {
      "needs_background": "light"
     },
     "output_type": "display_data"
    }
   ],
   "source": [
    "cm = confusion_matrix(y, pred_y, labels=rf.classes_)\n",
    "disp = ConfusionMatrixDisplay(confusion_matrix=cm, display_labels=rf.classes_)\n",
    "disp.plot()"
   ]
  },
  {
   "cell_type": "markdown",
   "id": "c9e8ec3d",
   "metadata": {},
   "source": [
    "Upon reviewing the presented results, several noteworthy observations can be made:\n",
    "\n",
    "1. Churn Distribution: In the test set, approximately 9.7% of the rows correspond to churners (churn = 1), which amounts to 1419 instances. Understanding the distribution helps provide context for evaluating the model's performance.\n",
    "\n",
    "2. True Negatives: Out of all the negative cases (churn = 0), the model correctly predicted 13172 out of 13187 as negative, resulting in a high number of true negatives. This indicates that the model performs well in identifying customers who are likely to continue using the service.\n",
    "\n",
    "3. False Negatives: The model incorrectly identified 1330 cases as non-churners (churn = 0) when, in fact, they had churned (churn = 1). The relatively high number of false negatives suggests that the model struggles to identify customers who are likely to churn. Addressing this issue is crucial for improving the model's performance.\n",
    "\n",
    "4. False Positives: The model predicted 15 cases as churners (churn = 1) when they actually did not churn (churn = 0). The low number of false positives indicates that the model performs reasonably well in not misclassifying customers who are likely to continue using the service.\n",
    "\n",
    "5. True Positives: Out of the total 1419 churners in the test dataset, the model only correctly identified 89 of them as churners. This poor performance in correctly identifying positive cases is a significant concern and requires improvement.\n",
    "\n",
    "6. Accuracy vs. Precision and Recall: While the accuracy score appears high at 90%, it can be misleading in this case as it prioritizes correctly predicting the negative class over the positive class. Precision and recall metrics provide a clearer picture of the model's performance.\n",
    "\n",
    "7. Precision Score: The precision score, calculated at 0.85, indicates that when the model predicts a customer as a churner, approximately 85% of the time, it is correct. While this score is not bad, there is still room for improvement.\n",
    "\n",
    "8. Recall Score: The recall score, at 0.63, demonstrates that the classifier has a limited ability to identify positive samples or churners. It is crucial to address this issue as the model fails to capture a significant number of customers who actually churned.\n",
    "\n",
    "Based on the provided evaluation, the model's performance is deemed poor, particularly in correctly identifying churners. While the model shows high accuracy, it is primarily driven by its ability to predict non-churners accurately. To improve the model, it is necessary to focus on feature engineering and create more informative features that can better distinguish between churners and non-churners. Additionally, optimizing the model's parameters and exploring different algorithms may also contribute to enhancing its performance."
   ]
  },
  {
   "cell_type": "markdown",
   "id": "50b54d3b",
   "metadata": {},
   "source": [
    "### Model understanding\n",
    "\n",
    "A simple way of understanding the results of a model is to look at feature importances. Feature importances indicate the importance of a feature within the predictive model, there are several ways to calculate feature importance, but with the Random Forest classifier, we're able to extract feature importances using the built-in method on the trained model. In the Random Forest case, the feature importance represents the number of times each feature is used for splitting across all trees."
   ]
  },
  {
   "cell_type": "code",
   "execution_count": 82,
   "id": "95e3e0d6",
   "metadata": {},
   "outputs": [
    {
     "data": {
      "image/png": "[encoded data removed]",
      "text/plain": [
       "<Figure size 864x720 with 1 Axes>"
      ]
     },
     "metadata": {
      "needs_background": "light"
     },
     "output_type": "display_data"
    }
   ],
   "source": [
    "#plot feature importance\n",
    "fig = plt.figure(figsize=(12,10))\n",
    "ax = sns.barplot(data=feature_importance_df.sort_values(by=['feature_importance'], ascending=False), y='feature_name', x='feature_importance')"
   ]
  },
  {
   "cell_type": "markdown",
   "id": "87890f35",
   "metadata": {},
   "source": [
    "Based on the insights derived from the chart, the following observations can be made:\n",
    "\n",
    "- Consumption over 12 months, forecasted bill of meter rent for the next 12 months, and net margin are the primary drivers of churn in this model.\n",
    "- Gross and net margin on power subscription also significantly influence the churn rate.\n",
    "- Our price sensitivity features are among the top 10 influential drivers for customer churn in this model.\n",
    "\n",
    "The last observation is particularly important as it relates back to our original hypothesis:\n",
    "\n",
    "\"Is churn driven by the customers' price sensitivity?\"\n",
    "\n",
    "Based on the output of the feature importances, price sensitivity is not identified as one of the top drivers, and it does not significantly contribute to churning. However, to arrive at a conclusive result, further experimentation is needed to investigate the relationship between price sensitivity and churn more thoroughly."
   ]
  },
  {
   "cell_type": "markdown",
   "id": "7a574b33",
   "metadata": {},
   "source": [
    "### Evaluating the Impact of a 20% Discount on Customer Churn Rate\n",
    "\n",
    "The task at hand poses a multifaceted challenge that warrants careful consideration. Upon our initial analysis, we have discerned that changes in pricing alone might not exert a significant influence on customer churn. Consequently, it becomes unlikely that a discount, in isolation, would prove effective in curtailing churn rates.\n",
    "\n",
    "Furthermore, the inherent uncertainty surrounding the future adds a layer of complexity to precisely gauging the impact of a discount on customer churn. The intricacies of customer behavior and the dynamic nature of market conditions make it arduous to draw definitive and unequivocal conclusions.\n",
    "\n",
    "In light of these challenges, a prudent approach to understanding the impact of a discount involves assessing the expected profit derived from considering the probability of customer churn. By factoring in the likelihood of churn and potential revenue loss, we can delve into the potential effect of implementing a discount strategy on the overall profitability of the business. This comprehensive analysis yields valuable insights into the potential ramifications of the discount, thus guiding informed decision-making.\n",
    "\n",
    "While we acknowledge the intricacy of unraveling the precise impact of a discount on customer churn, our analytical framework empowers us to navigate this complexity. By considering the interplay of probabilities, revenue implications, and profitability, we can shed light on the potential outcomes of implementing a 20% discount strategy. These insights serve as a valuable compass for decision-makers as they chart a course forward, striking a delicate balance between customer retention efforts and the financial sustainability of the business."
   ]
  },
  {
   "cell_type": "code",
   "execution_count": 84,
   "id": "99e64821",
   "metadata": {},
   "outputs": [
    {
     "data": {
      "text/html": [
       "<div>\n",
       "<style scoped>\n",
       "    .dataframe tbody tr th:only-of-type {\n",
       "        vertical-align: middle;\n",
       "    }\n",
       "\n",
       "    .dataframe tbody tr th {\n",
       "        vertical-align: top;\n",
       "    }\n",
       "\n",
       "    .dataframe thead th {\n",
       "        text-align: right;\n",
       "    }\n",
       "</style>\n",
       "<table border=\"1\" class=\"dataframe\">\n",
       "  <thead>\n",
       "    <tr style=\"text-align: right;\">\n",
       "      <th></th>\n",
       "      <th>id</th>\n",
       "      <th>0</th>\n",
       "      <th>1</th>\n",
       "    </tr>\n",
       "  </thead>\n",
       "  <tbody>\n",
       "    <tr>\n",
       "      <th>0</th>\n",
       "      <td>24011ae4ebbe3035111d65fa7c15bc57</td>\n",
       "      <td>0.66</td>\n",
       "      <td>0.34</td>\n",
       "    </tr>\n",
       "    <tr>\n",
       "      <th>1</th>\n",
       "      <td>d29c2c54acc38ff3c0614d0a653813dd</td>\n",
       "      <td>0.95</td>\n",
       "      <td>0.05</td>\n",
       "    </tr>\n",
       "    <tr>\n",
       "      <th>2</th>\n",
       "      <td>764c75f661154dac3a6c254cd082ea7d</td>\n",
       "      <td>0.89</td>\n",
       "      <td>0.11</td>\n",
       "    </tr>\n",
       "    <tr>\n",
       "      <th>3</th>\n",
       "      <td>bba03439a292a1e166f80264c16191cb</td>\n",
       "      <td>0.84</td>\n",
       "      <td>0.16</td>\n",
       "    </tr>\n",
       "    <tr>\n",
       "      <th>4</th>\n",
       "      <td>149d57cf92fc41cf94415803a877cb4b</td>\n",
       "      <td>0.99</td>\n",
       "      <td>0.01</td>\n",
       "    </tr>\n",
       "    <tr>\n",
       "      <th>...</th>\n",
       "      <td>...</td>\n",
       "      <td>...</td>\n",
       "      <td>...</td>\n",
       "    </tr>\n",
       "    <tr>\n",
       "      <th>14601</th>\n",
       "      <td>18463073fb097fc0ac5d3e040f356987</td>\n",
       "      <td>0.90</td>\n",
       "      <td>0.10</td>\n",
       "    </tr>\n",
       "    <tr>\n",
       "      <th>14602</th>\n",
       "      <td>d0a6f71671571ed83b2645d23af6de00</td>\n",
       "      <td>0.41</td>\n",
       "      <td>0.59</td>\n",
       "    </tr>\n",
       "    <tr>\n",
       "      <th>14603</th>\n",
       "      <td>10e6828ddd62cbcf687cb74928c4c2d2</td>\n",
       "      <td>0.86</td>\n",
       "      <td>0.14</td>\n",
       "    </tr>\n",
       "    <tr>\n",
       "      <th>14604</th>\n",
       "      <td>1cf20fd6206d7678d5bcafd28c53b4db</td>\n",
       "      <td>0.93</td>\n",
       "      <td>0.07</td>\n",
       "    </tr>\n",
       "    <tr>\n",
       "      <th>14605</th>\n",
       "      <td>563dde550fd624d7352f3de77c0cdfcd</td>\n",
       "      <td>0.91</td>\n",
       "      <td>0.09</td>\n",
       "    </tr>\n",
       "  </tbody>\n",
       "</table>\n",
       "<p>14606 rows × 3 columns</p>\n",
       "</div>"
      ],
      "text/plain": [
       "                                     id     0     1\n",
       "0      24011ae4ebbe3035111d65fa7c15bc57  0.66  0.34\n",
       "1      d29c2c54acc38ff3c0614d0a653813dd  0.95  0.05\n",
       "2      764c75f661154dac3a6c254cd082ea7d  0.89  0.11\n",
       "3      bba03439a292a1e166f80264c16191cb  0.84  0.16\n",
       "4      149d57cf92fc41cf94415803a877cb4b  0.99  0.01\n",
       "...                                 ...   ...   ...\n",
       "14601  18463073fb097fc0ac5d3e040f356987  0.90  0.10\n",
       "14602  d0a6f71671571ed83b2645d23af6de00  0.41  0.59\n",
       "14603  10e6828ddd62cbcf687cb74928c4c2d2  0.86  0.14\n",
       "14604  1cf20fd6206d7678d5bcafd28c53b4db  0.93  0.07\n",
       "14605  563dde550fd624d7352f3de77c0cdfcd  0.91  0.09\n",
       "\n",
       "[14606 rows x 3 columns]"
      ]
     },
     "execution_count": 84,
     "metadata": {},
     "output_type": "execute_result"
    }
   ],
   "source": [
    "prob_no_discount = pd.DataFrame(data = pred_train_labels, columns=['0', '1'])\n",
    "prob_no_discount['id'] = train_data['id']\n",
    "prob_no_discount = prob_no_discount[['id','0','1']]\n",
    "prob_no_discount"
   ]
  },
  {
   "cell_type": "markdown",
   "id": "55ef25ab",
   "metadata": {},
   "source": [
    "<font size=\"3\">**We need to predcit the probability of churn when applying a 20% discount. Note: I still use the data on this year, not the next year.**"
   ]
  },
  {
   "cell_type": "code",
   "execution_count": 85,
   "id": "16176550",
   "metadata": {},
   "outputs": [
    {
     "data": {
      "text/html": [
       "<div>\n",
       "<style scoped>\n",
       "    .dataframe tbody tr th:only-of-type {\n",
       "        vertical-align: middle;\n",
       "    }\n",
       "\n",
       "    .dataframe tbody tr th {\n",
       "        vertical-align: top;\n",
       "    }\n",
       "\n",
       "    .dataframe thead th {\n",
       "        text-align: right;\n",
       "    }\n",
       "</style>\n",
       "<table border=\"1\" class=\"dataframe\">\n",
       "  <thead>\n",
       "    <tr style=\"text-align: right;\">\n",
       "      <th></th>\n",
       "      <th>id</th>\n",
       "      <th>channel_sales</th>\n",
       "      <th>cons_12m</th>\n",
       "      <th>cons_gas_12m</th>\n",
       "      <th>cons_last_month</th>\n",
       "      <th>forecast_cons_12m</th>\n",
       "      <th>forecast_cons_year</th>\n",
       "      <th>forecast_discount_energy</th>\n",
       "      <th>forecast_meter_rent_12m</th>\n",
       "      <th>forecast_price_energy_off_peak</th>\n",
       "      <th>forecast_price_energy_peak</th>\n",
       "      <th>forecast_price_pow_off_peak</th>\n",
       "      <th>has_gas</th>\n",
       "      <th>imp_cons</th>\n",
       "      <th>margin_gross_pow_ele</th>\n",
       "      <th>margin_net_pow_ele</th>\n",
       "      <th>nb_prod_act</th>\n",
       "      <th>net_margin</th>\n",
       "      <th>num_years_antig</th>\n",
       "      <th>origin_up</th>\n",
       "      <th>pow_max</th>\n",
       "      <th>churn</th>\n",
       "      <th>contract_start_year</th>\n",
       "      <th>contract_end_year</th>\n",
       "      <th>year_modif_prod</th>\n",
       "      <th>year_renewal</th>\n",
       "      <th>diff_dec_jan_off_peak_var</th>\n",
       "      <th>diff_dec_jan_off_peak_fix</th>\n",
       "      <th>diff_dec_jan_price_peak_var</th>\n",
       "      <th>diff_dec_jan_price_peak_fix</th>\n",
       "      <th>diff_dec_jan_price_mid_peak_var</th>\n",
       "      <th>diff_dec_jan_price_mid_peak_fix</th>\n",
       "      <th>diff_Dec_mean_price_off_peak_var</th>\n",
       "      <th>diff_Dec_mean_price_off_peak_fix</th>\n",
       "      <th>diff_Dec_mean_price_peak_var</th>\n",
       "      <th>diff_Dec_mean_price_peak_fix</th>\n",
       "      <th>diff_Dec_mean_price_mid_peak_var</th>\n",
       "      <th>diff_Dec_mean_price_mid_peak_fix</th>\n",
       "    </tr>\n",
       "  </thead>\n",
       "  <tbody>\n",
       "    <tr>\n",
       "      <th>0</th>\n",
       "      <td>24011ae4ebbe3035111d65fa7c15bc57</td>\n",
       "      <td>4</td>\n",
       "      <td>0</td>\n",
       "      <td>54946</td>\n",
       "      <td>0</td>\n",
       "      <td>0.00</td>\n",
       "      <td>0</td>\n",
       "      <td>0.0</td>\n",
       "      <td>1.78</td>\n",
       "      <td>0.114481</td>\n",
       "      <td>0.098142</td>\n",
       "      <td>40.606701</td>\n",
       "      <td>1</td>\n",
       "      <td>0.00</td>\n",
       "      <td>25.44</td>\n",
       "      <td>25.44</td>\n",
       "      <td>2</td>\n",
       "      <td>678.99</td>\n",
       "      <td>3</td>\n",
       "      <td>4</td>\n",
       "      <td>43.648</td>\n",
       "      <td>1</td>\n",
       "      <td>2013</td>\n",
       "      <td>2016</td>\n",
       "      <td>2015</td>\n",
       "      <td>2015</td>\n",
       "      <td>0.016046</td>\n",
       "      <td>2.960768</td>\n",
       "      <td>-0.014330</td>\n",
       "      <td>-19.471665</td>\n",
       "      <td>-0.057229</td>\n",
       "      <td>-12.981111</td>\n",
       "      <td>0.016997</td>\n",
       "      <td>2.659732</td>\n",
       "      <td>-0.012213</td>\n",
       "      <td>-17.881608</td>\n",
       "      <td>-0.053224</td>\n",
       "      <td>-11.921072</td>\n",
       "    </tr>\n",
       "    <tr>\n",
       "      <th>1</th>\n",
       "      <td>d29c2c54acc38ff3c0614d0a653813dd</td>\n",
       "      <td>0</td>\n",
       "      <td>4660</td>\n",
       "      <td>0</td>\n",
       "      <td>0</td>\n",
       "      <td>189.95</td>\n",
       "      <td>0</td>\n",
       "      <td>0.0</td>\n",
       "      <td>16.27</td>\n",
       "      <td>0.145711</td>\n",
       "      <td>0.000000</td>\n",
       "      <td>44.311378</td>\n",
       "      <td>0</td>\n",
       "      <td>0.00</td>\n",
       "      <td>16.38</td>\n",
       "      <td>16.38</td>\n",
       "      <td>1</td>\n",
       "      <td>18.89</td>\n",
       "      <td>6</td>\n",
       "      <td>2</td>\n",
       "      <td>13.800</td>\n",
       "      <td>0</td>\n",
       "      <td>2009</td>\n",
       "      <td>2016</td>\n",
       "      <td>2009</td>\n",
       "      <td>2015</td>\n",
       "      <td>-0.003014</td>\n",
       "      <td>0.142223</td>\n",
       "      <td>0.000000</td>\n",
       "      <td>0.000000</td>\n",
       "      <td>0.000000</td>\n",
       "      <td>0.000000</td>\n",
       "      <td>-0.001607</td>\n",
       "      <td>0.106668</td>\n",
       "      <td>-0.005699</td>\n",
       "      <td>0.000000</td>\n",
       "      <td>0.000000</td>\n",
       "      <td>0.000000</td>\n",
       "    </tr>\n",
       "    <tr>\n",
       "      <th>2</th>\n",
       "      <td>764c75f661154dac3a6c254cd082ea7d</td>\n",
       "      <td>4</td>\n",
       "      <td>544</td>\n",
       "      <td>0</td>\n",
       "      <td>0</td>\n",
       "      <td>47.96</td>\n",
       "      <td>0</td>\n",
       "      <td>0.0</td>\n",
       "      <td>38.72</td>\n",
       "      <td>0.165794</td>\n",
       "      <td>0.087899</td>\n",
       "      <td>44.311378</td>\n",
       "      <td>0</td>\n",
       "      <td>0.00</td>\n",
       "      <td>28.60</td>\n",
       "      <td>28.60</td>\n",
       "      <td>1</td>\n",
       "      <td>6.60</td>\n",
       "      <td>6</td>\n",
       "      <td>2</td>\n",
       "      <td>13.856</td>\n",
       "      <td>0</td>\n",
       "      <td>2010</td>\n",
       "      <td>2016</td>\n",
       "      <td>2010</td>\n",
       "      <td>2015</td>\n",
       "      <td>-0.003736</td>\n",
       "      <td>0.142223</td>\n",
       "      <td>0.000422</td>\n",
       "      <td>0.000000</td>\n",
       "      <td>0.000000</td>\n",
       "      <td>0.000000</td>\n",
       "      <td>-0.002171</td>\n",
       "      <td>0.047408</td>\n",
       "      <td>-0.000010</td>\n",
       "      <td>0.000000</td>\n",
       "      <td>0.000000</td>\n",
       "      <td>0.000000</td>\n",
       "    </tr>\n",
       "    <tr>\n",
       "      <th>3</th>\n",
       "      <td>bba03439a292a1e166f80264c16191cb</td>\n",
       "      <td>5</td>\n",
       "      <td>1584</td>\n",
       "      <td>0</td>\n",
       "      <td>0</td>\n",
       "      <td>240.04</td>\n",
       "      <td>0</td>\n",
       "      <td>0.0</td>\n",
       "      <td>19.83</td>\n",
       "      <td>0.146694</td>\n",
       "      <td>0.000000</td>\n",
       "      <td>44.311378</td>\n",
       "      <td>0</td>\n",
       "      <td>0.00</td>\n",
       "      <td>30.22</td>\n",
       "      <td>30.22</td>\n",
       "      <td>1</td>\n",
       "      <td>25.46</td>\n",
       "      <td>6</td>\n",
       "      <td>2</td>\n",
       "      <td>13.200</td>\n",
       "      <td>0</td>\n",
       "      <td>2010</td>\n",
       "      <td>2016</td>\n",
       "      <td>2010</td>\n",
       "      <td>2015</td>\n",
       "      <td>-0.003638</td>\n",
       "      <td>0.142223</td>\n",
       "      <td>0.000000</td>\n",
       "      <td>0.000000</td>\n",
       "      <td>0.000000</td>\n",
       "      <td>0.000000</td>\n",
       "      <td>-0.002099</td>\n",
       "      <td>0.035556</td>\n",
       "      <td>0.000000</td>\n",
       "      <td>0.000000</td>\n",
       "      <td>0.000000</td>\n",
       "      <td>0.000000</td>\n",
       "    </tr>\n",
       "    <tr>\n",
       "      <th>4</th>\n",
       "      <td>149d57cf92fc41cf94415803a877cb4b</td>\n",
       "      <td>0</td>\n",
       "      <td>4425</td>\n",
       "      <td>0</td>\n",
       "      <td>526</td>\n",
       "      <td>445.75</td>\n",
       "      <td>526</td>\n",
       "      <td>0.0</td>\n",
       "      <td>131.73</td>\n",
       "      <td>0.116900</td>\n",
       "      <td>0.100015</td>\n",
       "      <td>40.606701</td>\n",
       "      <td>0</td>\n",
       "      <td>52.32</td>\n",
       "      <td>44.91</td>\n",
       "      <td>44.91</td>\n",
       "      <td>1</td>\n",
       "      <td>47.98</td>\n",
       "      <td>6</td>\n",
       "      <td>2</td>\n",
       "      <td>19.800</td>\n",
       "      <td>0</td>\n",
       "      <td>2010</td>\n",
       "      <td>2016</td>\n",
       "      <td>2010</td>\n",
       "      <td>2015</td>\n",
       "      <td>-0.004954</td>\n",
       "      <td>0.130332</td>\n",
       "      <td>-0.001842</td>\n",
       "      <td>0.078199</td>\n",
       "      <td>0.002790</td>\n",
       "      <td>0.052133</td>\n",
       "      <td>-0.003415</td>\n",
       "      <td>0.032583</td>\n",
       "      <td>-0.001572</td>\n",
       "      <td>0.019550</td>\n",
       "      <td>0.000683</td>\n",
       "      <td>0.013033</td>\n",
       "    </tr>\n",
       "  </tbody>\n",
       "</table>\n",
       "</div>"
      ],
      "text/plain": [
       "                                 id  channel_sales  cons_12m  cons_gas_12m  \\\n",
       "0  24011ae4ebbe3035111d65fa7c15bc57              4         0         54946   \n",
       "1  d29c2c54acc38ff3c0614d0a653813dd              0      4660             0   \n",
       "2  764c75f661154dac3a6c254cd082ea7d              4       544             0   \n",
       "3  bba03439a292a1e166f80264c16191cb              5      1584             0   \n",
       "4  149d57cf92fc41cf94415803a877cb4b              0      4425             0   \n",
       "\n",
       "   cons_last_month  forecast_cons_12m  forecast_cons_year  \\\n",
       "0                0               0.00                   0   \n",
       "1                0             189.95                   0   \n",
       "2                0              47.96                   0   \n",
       "3                0             240.04                   0   \n",
       "4              526             445.75                 526   \n",
       "\n",
       "   forecast_discount_energy  forecast_meter_rent_12m  \\\n",
       "0                       0.0                     1.78   \n",
       "1                       0.0                    16.27   \n",
       "2                       0.0                    38.72   \n",
       "3                       0.0                    19.83   \n",
       "4                       0.0                   131.73   \n",
       "\n",
       "   forecast_price_energy_off_peak  forecast_price_energy_peak  \\\n",
       "0                        0.114481                    0.098142   \n",
       "1                        0.145711                    0.000000   \n",
       "2                        0.165794                    0.087899   \n",
       "3                        0.146694                    0.000000   \n",
       "4                        0.116900                    0.100015   \n",
       "\n",
       "   forecast_price_pow_off_peak  has_gas  imp_cons  margin_gross_pow_ele  \\\n",
       "0                    40.606701        1      0.00                 25.44   \n",
       "1                    44.311378        0      0.00                 16.38   \n",
       "2                    44.311378        0      0.00                 28.60   \n",
       "3                    44.311378        0      0.00                 30.22   \n",
       "4                    40.606701        0     52.32                 44.91   \n",
       "\n",
       "   margin_net_pow_ele  nb_prod_act  net_margin  num_years_antig  origin_up  \\\n",
       "0               25.44            2      678.99                3          4   \n",
       "1               16.38            1       18.89                6          2   \n",
       "2               28.60            1        6.60                6          2   \n",
       "3               30.22            1       25.46                6          2   \n",
       "4               44.91            1       47.98                6          2   \n",
       "\n",
       "   pow_max  churn  contract_start_year  contract_end_year  year_modif_prod  \\\n",
       "0   43.648      1                 2013               2016             2015   \n",
       "1   13.800      0                 2009               2016             2009   \n",
       "2   13.856      0                 2010               2016             2010   \n",
       "3   13.200      0                 2010               2016             2010   \n",
       "4   19.800      0                 2010               2016             2010   \n",
       "\n",
       "   year_renewal  diff_dec_jan_off_peak_var  diff_dec_jan_off_peak_fix  \\\n",
       "0          2015                   0.016046                   2.960768   \n",
       "1          2015                  -0.003014                   0.142223   \n",
       "2          2015                  -0.003736                   0.142223   \n",
       "3          2015                  -0.003638                   0.142223   \n",
       "4          2015                  -0.004954                   0.130332   \n",
       "\n",
       "   diff_dec_jan_price_peak_var  diff_dec_jan_price_peak_fix  \\\n",
       "0                    -0.014330                   -19.471665   \n",
       "1                     0.000000                     0.000000   \n",
       "2                     0.000422                     0.000000   \n",
       "3                     0.000000                     0.000000   \n",
       "4                    -0.001842                     0.078199   \n",
       "\n",
       "   diff_dec_jan_price_mid_peak_var  diff_dec_jan_price_mid_peak_fix  \\\n",
       "0                        -0.057229                       -12.981111   \n",
       "1                         0.000000                         0.000000   \n",
       "2                         0.000000                         0.000000   \n",
       "3                         0.000000                         0.000000   \n",
       "4                         0.002790                         0.052133   \n",
       "\n",
       "   diff_Dec_mean_price_off_peak_var  diff_Dec_mean_price_off_peak_fix  \\\n",
       "0                          0.016997                          2.659732   \n",
       "1                         -0.001607                          0.106668   \n",
       "2                         -0.002171                          0.047408   \n",
       "3                         -0.002099                          0.035556   \n",
       "4                         -0.003415                          0.032583   \n",
       "\n",
       "   diff_Dec_mean_price_peak_var  diff_Dec_mean_price_peak_fix  \\\n",
       "0                     -0.012213                    -17.881608   \n",
       "1                     -0.005699                      0.000000   \n",
       "2                     -0.000010                      0.000000   \n",
       "3                      0.000000                      0.000000   \n",
       "4                     -0.001572                      0.019550   \n",
       "\n",
       "   diff_Dec_mean_price_mid_peak_var  diff_Dec_mean_price_mid_peak_fix  \n",
       "0                         -0.053224                        -11.921072  \n",
       "1                          0.000000                          0.000000  \n",
       "2                          0.000000                          0.000000  \n",
       "3                          0.000000                          0.000000  \n",
       "4                          0.000683                          0.013033  "
      ]
     },
     "execution_count": 85,
     "metadata": {},
     "output_type": "execute_result"
    }
   ],
   "source": [
    "# drop useless columns\n",
    "test_data = client_df.copy()\n",
    "test_data['year_modif_prod'] = test_data['date_modif_prod'].dt.year\n",
    "test_data['year_renewal'] = test_data['date_renewal'].dt.year\n",
    "test_data = test_data.drop(columns=['date_activ','date_end','date_modif_prod','date_renewal'])\n",
    "\n",
    "#encode has_gas feature\n",
    "has_gas_encoder = LabelEncoder()\n",
    "test_data['has_gas'] = has_gas_encoder.fit_transform(test_data['has_gas'])\n",
    "\n",
    "# apply a 20% discount\n",
    "diff_dec_jan_off_peak_var = price_df.sort_values(by=['price_date']).groupby(['id'])['price_off_peak_var'].nth(-1)*0.8 - price_df.sort_values(by=['price_date']).groupby(['id'])['price_off_peak_var'].nth(0)*0.8\n",
    "diff_dec_jan_off_peak_var = diff_dec_jan_off_peak_var.reset_index(name='diff_dec_jan_off_peak_var')\n",
    "diff_dec_jan_off_peak_fix = price_df.sort_values(by=['price_date']).groupby(['id'])['price_off_peak_fix'].nth(-1)*0.8 - price_df.sort_values(by=['price_date']).groupby(['id'])['price_off_peak_fix'].nth(0)*0.8\n",
    "diff_dec_jan_off_peak_fix = diff_dec_jan_off_peak_fix.reset_index(name='diff_dec_jan_off_peak_fix')\n",
    "test_data = test_data.merge(diff_dec_jan_off_peak_var, on='id', how='left')\n",
    "test_data = test_data.merge(diff_dec_jan_off_peak_fix, on='id', how='left')\n",
    "\n",
    "# also add the above differences of other prices\n",
    "for attr in ['price_peak_var','price_peak_fix','price_mid_peak_var','price_mid_peak_fix']:\n",
    "    diff_dec_jan_temp = price_df.sort_values(by=['price_date']).groupby(['id'])[attr].nth(-1)*0.8 - price_df.sort_values(by=['price_date']).groupby(['id'])[attr].nth(0)*0.8\n",
    "    diff_dec_jan_temp = diff_dec_jan_temp.reset_index(name=f'diff_dec_jan_{attr}')\n",
    "    test_data = test_data.merge(diff_dec_jan_temp, on='id', how='left')\n",
    "\n",
    "# add price changing trends\n",
    "price_attr = ['price_off_peak_var','price_peak_var','price_mid_peak_var','price_off_peak_fix','price_peak_fix','price_mid_peak_fix']\n",
    "price_stat_test = price_df.drop(columns=['price_date']).groupby(['id']).agg({'price_off_peak_var': ['mean'], 'price_peak_var': ['mean'], 'price_mid_peak_var': ['mean'],\n",
    "                                                      'price_off_peak_fix': ['mean'], 'price_peak_fix': ['mean'], 'price_mid_peak_fix': ['mean'],})\n",
    "\n",
    "# flatten the column names\n",
    "price_stat_test.columns = ['_'.join(x) for x in zip(price_stat_test.columns.get_level_values(0), price_stat_test.columns.get_level_values(1))]\n",
    "price_stat_test = price_stat_test.reset_index()\n",
    "\n",
    "# add diff\n",
    "for attr in price_attr:\n",
    "    price_stat_test[f'diff_Dec_mean_{attr}'] = price_df[price_df['id'].isin(price_stat_test['id'])].groupby(['id'])[attr].nth(-1).values*0.8 - price_stat_test[f'{attr}_mean']*0.8\n",
    "\n",
    "#merge test_data with price_stat_test data\n",
    "test_data = test_data.merge(price_stat_test[['id','diff_Dec_mean_price_off_peak_var','diff_Dec_mean_price_off_peak_fix',\n",
    "                                          'diff_Dec_mean_price_peak_var','diff_Dec_mean_price_peak_fix',\n",
    "                                          'diff_Dec_mean_price_mid_peak_var','diff_Dec_mean_price_mid_peak_fix',\n",
    "                                        ]], on='id', how='left')\n",
    "\n",
    "#print\n",
    "test_data.head()"
   ]
  },
  {
   "cell_type": "code",
   "execution_count": 86,
   "id": "20ba32c0",
   "metadata": {},
   "outputs": [
    {
     "data": {
      "text/plain": [
       "(14606, 36)"
      ]
     },
     "execution_count": 86,
     "metadata": {},
     "output_type": "execute_result"
    }
   ],
   "source": [
    "#create train data\n",
    "testing_set = test_data.drop(columns=['id','churn'])\n",
    "testing_set.shape"
   ]
  },
  {
   "cell_type": "code",
   "execution_count": 87,
   "id": "3aaf6d73",
   "metadata": {},
   "outputs": [
    {
     "name": "stdout",
     "output_type": "stream",
     "text": [
      "Fold 1 Precision 0.714 Recall 0.053 Accuracy 0.906\n",
      "Fold 2 Precision 0.885 Recall 0.081 Accuracy 0.910\n",
      "Fold 3 Precision 0.895 Recall 0.060 Accuracy 0.908\n",
      "Fold 4 Precision 0.944 Recall 0.060 Accuracy 0.908\n",
      "Fold 5 Precision 0.850 Recall 0.060 Accuracy 0.908\n",
      "Total  Precision 0.856 Recall 0.063 Accuracy 0.908\n"
     ]
    }
   ],
   "source": [
    "# \n",
    "pred_train_labels = np.zeros(shape=(X.shape[0], 2))   # predict training labels\n",
    "pred_test_labels = np.zeros(shape=(testing_set.shape[0], 2))\n",
    "\n",
    "# create cv dataset\n",
    "kfold = StratifiedKFold(n_splits=5, shuffle=True, random_state=29)\n",
    "fold_counter = 1\n",
    "for train_index, test_index in kfold.split(X, y):\n",
    "    X_train, X_test = X.loc[train_index], X.loc[test_index]\n",
    "    y_train, y_test = y[train_index], y[test_index]\n",
    "    \n",
    "    # build model\n",
    "    rf = RandomForestClassifier(random_state=56)\n",
    "    \n",
    "    # train and fit model\n",
    "    rf.fit(X_train, y_train)\n",
    "    pred_train_labels[test_index] = rf.predict_proba(X_test)\n",
    "    pred_test_labels += rf.predict_proba(testing_set)/5\n",
    "    print(f\"Fold {fold_counter} Precision {precision_score(y_test, rf.predict(X_test)):.3f} Recall {recall_score(y_test, rf.predict(X_test)):.3f} Accuracy {accuracy_score(y_test, rf.predict(X_test)):.3f}\")\n",
    "    fold_counter = fold_counter + 1\n",
    "\n",
    "# \n",
    "print(f\"Total  Precision {precision_score(y, pred_y):.3f} Recall {recall_score(y, pred_y):.3f} Accuracy {accuracy_score(y, pred_y):.3f}\")"
   ]
  },
  {
   "cell_type": "markdown",
   "id": "32abac50",
   "metadata": {},
   "source": [
    "<font size=\"3\"> Now, combine all results into a single dataset."
   ]
  },
  {
   "cell_type": "code",
   "execution_count": 88,
   "id": "bd7d5b2b",
   "metadata": {},
   "outputs": [
    {
     "data": {
      "text/html": [
       "<div>\n",
       "<style scoped>\n",
       "    .dataframe tbody tr th:only-of-type {\n",
       "        vertical-align: middle;\n",
       "    }\n",
       "\n",
       "    .dataframe tbody tr th {\n",
       "        vertical-align: top;\n",
       "    }\n",
       "\n",
       "    .dataframe thead th {\n",
       "        text-align: right;\n",
       "    }\n",
       "</style>\n",
       "<table border=\"1\" class=\"dataframe\">\n",
       "  <thead>\n",
       "    <tr style=\"text-align: right;\">\n",
       "      <th></th>\n",
       "      <th>id</th>\n",
       "      <th>0</th>\n",
       "      <th>1</th>\n",
       "      <th>0_dis</th>\n",
       "      <th>1_dis</th>\n",
       "    </tr>\n",
       "  </thead>\n",
       "  <tbody>\n",
       "    <tr>\n",
       "      <th>0</th>\n",
       "      <td>24011ae4ebbe3035111d65fa7c15bc57</td>\n",
       "      <td>0.66</td>\n",
       "      <td>0.34</td>\n",
       "      <td>0.422</td>\n",
       "      <td>0.578</td>\n",
       "    </tr>\n",
       "    <tr>\n",
       "      <th>1</th>\n",
       "      <td>d29c2c54acc38ff3c0614d0a653813dd</td>\n",
       "      <td>0.95</td>\n",
       "      <td>0.05</td>\n",
       "      <td>0.948</td>\n",
       "      <td>0.052</td>\n",
       "    </tr>\n",
       "    <tr>\n",
       "      <th>2</th>\n",
       "      <td>764c75f661154dac3a6c254cd082ea7d</td>\n",
       "      <td>0.89</td>\n",
       "      <td>0.11</td>\n",
       "      <td>0.888</td>\n",
       "      <td>0.112</td>\n",
       "    </tr>\n",
       "    <tr>\n",
       "      <th>3</th>\n",
       "      <td>bba03439a292a1e166f80264c16191cb</td>\n",
       "      <td>0.84</td>\n",
       "      <td>0.16</td>\n",
       "      <td>0.936</td>\n",
       "      <td>0.064</td>\n",
       "    </tr>\n",
       "    <tr>\n",
       "      <th>4</th>\n",
       "      <td>149d57cf92fc41cf94415803a877cb4b</td>\n",
       "      <td>0.99</td>\n",
       "      <td>0.01</td>\n",
       "      <td>0.970</td>\n",
       "      <td>0.030</td>\n",
       "    </tr>\n",
       "  </tbody>\n",
       "</table>\n",
       "</div>"
      ],
      "text/plain": [
       "                                 id     0     1  0_dis  1_dis\n",
       "0  24011ae4ebbe3035111d65fa7c15bc57  0.66  0.34  0.422  0.578\n",
       "1  d29c2c54acc38ff3c0614d0a653813dd  0.95  0.05  0.948  0.052\n",
       "2  764c75f661154dac3a6c254cd082ea7d  0.89  0.11  0.888  0.112\n",
       "3  bba03439a292a1e166f80264c16191cb  0.84  0.16  0.936  0.064\n",
       "4  149d57cf92fc41cf94415803a877cb4b  0.99  0.01  0.970  0.030"
      ]
     },
     "execution_count": 88,
     "metadata": {},
     "output_type": "execute_result"
    }
   ],
   "source": [
    "#create a new dataframe for the results\n",
    "prob_discount = pd.DataFrame(data=pred_test_labels, columns=['0_dis','1_dis'])\n",
    "customer_prob = prob_no_discount.join(prob_discount)\n",
    "customer_prob.head()"
   ]
  },
  {
   "cell_type": "markdown",
   "id": "6dab7f34",
   "metadata": {},
   "source": [
    "<font size=\"3\"> **Then, let's calculate the expected profit from customers.**"
   ]
  },
  {
   "cell_type": "code",
   "execution_count": 89,
   "id": "8ae50703",
   "metadata": {},
   "outputs": [],
   "source": [
    "# calculate expected profit of a single customer with discounted prices and without discounted prices\n",
    "def expect_from_a_customer(customer_id):\n",
    "    # expected values without discount\n",
    "    average_yearly_price_var = price_stat[price_stat['id']==customer_id]['price_off_peak_var_mean'].values[0]\n",
    "    total_yearly_usage_var = client_df[client_df['id']==customer_id]['cons_12m'].values[0]\n",
    "    average_yearly_price_fix = price_stat[price_stat['id']==customer_id]['price_off_peak_fix_mean'].values[0]\n",
    "    total_yearly_usage_fix = client_df[client_df['id']==customer_id]['cons_gas_12m'].values[0]\n",
    "    total_profit = average_yearly_price_var*total_yearly_usage_var + average_yearly_price_fix*total_yearly_usage_fix\n",
    "   \n",
    "    #get expected profit of customer  \n",
    "    prob_stay = customer_prob[customer_prob['id']==customer_id]['0'].values[0]\n",
    "    expected_profit = prob_stay*total_profit\n",
    "    \n",
    "    # total profit with discount\n",
    "    total_profit_dis = total_profit*0.8\n",
    "    \n",
    "    # get expected profit of customer when given discount \n",
    "    prob_stay_dis = customer_prob[customer_prob['id']==customer_id]['0_dis'].values[0]\n",
    "    expected_profit_dis = prob_stay_dis*total_profit_dis\n",
    "    return expected_profit, expected_profit_dis"
   ]
  },
  {
   "cell_type": "code",
   "execution_count": 90,
   "id": "91650e58",
   "metadata": {},
   "outputs": [
    {
     "data": {
      "text/html": [
       "<div>\n",
       "<style scoped>\n",
       "    .dataframe tbody tr th:only-of-type {\n",
       "        vertical-align: middle;\n",
       "    }\n",
       "\n",
       "    .dataframe tbody tr th {\n",
       "        vertical-align: top;\n",
       "    }\n",
       "\n",
       "    .dataframe thead th {\n",
       "        text-align: right;\n",
       "    }\n",
       "</style>\n",
       "<table border=\"1\" class=\"dataframe\">\n",
       "  <thead>\n",
       "    <tr style=\"text-align: right;\">\n",
       "      <th></th>\n",
       "      <th>id</th>\n",
       "      <th>0</th>\n",
       "      <th>1</th>\n",
       "      <th>0_dis</th>\n",
       "      <th>1_dis</th>\n",
       "      <th>expected_no_dis</th>\n",
       "      <th>expected_dis</th>\n",
       "      <th>diff_discount</th>\n",
       "    </tr>\n",
       "  </thead>\n",
       "  <tbody>\n",
       "    <tr>\n",
       "      <th>0</th>\n",
       "      <td>24011ae4ebbe3035111d65fa7c15bc57</td>\n",
       "      <td>0.66</td>\n",
       "      <td>0.34</td>\n",
       "      <td>0.422</td>\n",
       "      <td>0.578</td>\n",
       "      <td>1.484745e+06</td>\n",
       "      <td>7.594696e+05</td>\n",
       "      <td>-725275.463026</td>\n",
       "    </tr>\n",
       "    <tr>\n",
       "      <th>1</th>\n",
       "      <td>d29c2c54acc38ff3c0614d0a653813dd</td>\n",
       "      <td>0.95</td>\n",
       "      <td>0.05</td>\n",
       "      <td>0.948</td>\n",
       "      <td>0.052</td>\n",
       "      <td>6.623187e+02</td>\n",
       "      <td>5.287395e+02</td>\n",
       "      <td>-133.579219</td>\n",
       "    </tr>\n",
       "    <tr>\n",
       "      <th>2</th>\n",
       "      <td>764c75f661154dac3a6c254cd082ea7d</td>\n",
       "      <td>0.89</td>\n",
       "      <td>0.11</td>\n",
       "      <td>0.888</td>\n",
       "      <td>0.112</td>\n",
       "      <td>8.255493e+01</td>\n",
       "      <td>6.589553e+01</td>\n",
       "      <td>-16.659399</td>\n",
       "    </tr>\n",
       "    <tr>\n",
       "      <th>3</th>\n",
       "      <td>bba03439a292a1e166f80264c16191cb</td>\n",
       "      <td>0.84</td>\n",
       "      <td>0.16</td>\n",
       "      <td>0.936</td>\n",
       "      <td>0.064</td>\n",
       "      <td>2.011941e+02</td>\n",
       "      <td>1.793502e+02</td>\n",
       "      <td>-21.843930</td>\n",
       "    </tr>\n",
       "    <tr>\n",
       "      <th>4</th>\n",
       "      <td>149d57cf92fc41cf94415803a877cb4b</td>\n",
       "      <td>0.99</td>\n",
       "      <td>0.01</td>\n",
       "      <td>0.970</td>\n",
       "      <td>0.030</td>\n",
       "      <td>5.439767e+02</td>\n",
       "      <td>4.263898e+02</td>\n",
       "      <td>-117.586885</td>\n",
       "    </tr>\n",
       "    <tr>\n",
       "      <th>...</th>\n",
       "      <td>...</td>\n",
       "      <td>...</td>\n",
       "      <td>...</td>\n",
       "      <td>...</td>\n",
       "      <td>...</td>\n",
       "      <td>...</td>\n",
       "      <td>...</td>\n",
       "      <td>...</td>\n",
       "    </tr>\n",
       "    <tr>\n",
       "      <th>14601</th>\n",
       "      <td>18463073fb097fc0ac5d3e040f356987</td>\n",
       "      <td>0.90</td>\n",
       "      <td>0.10</td>\n",
       "      <td>0.936</td>\n",
       "      <td>0.064</td>\n",
       "      <td>1.918601e+06</td>\n",
       "      <td>1.596276e+06</td>\n",
       "      <td>-322325.008098</td>\n",
       "    </tr>\n",
       "    <tr>\n",
       "      <th>14602</th>\n",
       "      <td>d0a6f71671571ed83b2645d23af6de00</td>\n",
       "      <td>0.41</td>\n",
       "      <td>0.59</td>\n",
       "      <td>0.386</td>\n",
       "      <td>0.614</td>\n",
       "      <td>3.162780e+02</td>\n",
       "      <td>2.382113e+02</td>\n",
       "      <td>-78.066670</td>\n",
       "    </tr>\n",
       "    <tr>\n",
       "      <th>14603</th>\n",
       "      <td>10e6828ddd62cbcf687cb74928c4c2d2</td>\n",
       "      <td>0.86</td>\n",
       "      <td>0.14</td>\n",
       "      <td>0.596</td>\n",
       "      <td>0.404</td>\n",
       "      <td>1.971808e+02</td>\n",
       "      <td>1.093207e+02</td>\n",
       "      <td>-87.860111</td>\n",
       "    </tr>\n",
       "    <tr>\n",
       "      <th>14604</th>\n",
       "      <td>1cf20fd6206d7678d5bcafd28c53b4db</td>\n",
       "      <td>0.93</td>\n",
       "      <td>0.07</td>\n",
       "      <td>0.932</td>\n",
       "      <td>0.068</td>\n",
       "      <td>1.822685e+01</td>\n",
       "      <td>1.461284e+01</td>\n",
       "      <td>-3.614013</td>\n",
       "    </tr>\n",
       "    <tr>\n",
       "      <th>14605</th>\n",
       "      <td>563dde550fd624d7352f3de77c0cdfcd</td>\n",
       "      <td>0.91</td>\n",
       "      <td>0.09</td>\n",
       "      <td>0.940</td>\n",
       "      <td>0.060</td>\n",
       "      <td>1.339899e+03</td>\n",
       "      <td>1.107257e+03</td>\n",
       "      <td>-232.641783</td>\n",
       "    </tr>\n",
       "  </tbody>\n",
       "</table>\n",
       "<p>14606 rows × 8 columns</p>\n",
       "</div>"
      ],
      "text/plain": [
       "                                     id     0     1  0_dis  1_dis  \\\n",
       "0      24011ae4ebbe3035111d65fa7c15bc57  0.66  0.34  0.422  0.578   \n",
       "1      d29c2c54acc38ff3c0614d0a653813dd  0.95  0.05  0.948  0.052   \n",
       "2      764c75f661154dac3a6c254cd082ea7d  0.89  0.11  0.888  0.112   \n",
       "3      bba03439a292a1e166f80264c16191cb  0.84  0.16  0.936  0.064   \n",
       "4      149d57cf92fc41cf94415803a877cb4b  0.99  0.01  0.970  0.030   \n",
       "...                                 ...   ...   ...    ...    ...   \n",
       "14601  18463073fb097fc0ac5d3e040f356987  0.90  0.10  0.936  0.064   \n",
       "14602  d0a6f71671571ed83b2645d23af6de00  0.41  0.59  0.386  0.614   \n",
       "14603  10e6828ddd62cbcf687cb74928c4c2d2  0.86  0.14  0.596  0.404   \n",
       "14604  1cf20fd6206d7678d5bcafd28c53b4db  0.93  0.07  0.932  0.068   \n",
       "14605  563dde550fd624d7352f3de77c0cdfcd  0.91  0.09  0.940  0.060   \n",
       "\n",
       "       expected_no_dis  expected_dis  diff_discount  \n",
       "0         1.484745e+06  7.594696e+05 -725275.463026  \n",
       "1         6.623187e+02  5.287395e+02    -133.579219  \n",
       "2         8.255493e+01  6.589553e+01     -16.659399  \n",
       "3         2.011941e+02  1.793502e+02     -21.843930  \n",
       "4         5.439767e+02  4.263898e+02    -117.586885  \n",
       "...                ...           ...            ...  \n",
       "14601     1.918601e+06  1.596276e+06 -322325.008098  \n",
       "14602     3.162780e+02  2.382113e+02     -78.066670  \n",
       "14603     1.971808e+02  1.093207e+02     -87.860111  \n",
       "14604     1.822685e+01  1.461284e+01      -3.614013  \n",
       "14605     1.339899e+03  1.107257e+03    -232.641783  \n",
       "\n",
       "[14606 rows x 8 columns]"
      ]
     },
     "execution_count": 90,
     "metadata": {},
     "output_type": "execute_result"
    }
   ],
   "source": [
    "# Calculate expected profit from each customer with and without discount\n",
    "expected_no_dis, expected_dis = [],[]\n",
    "for cus_id in customer_prob['id']:\n",
    "    temp = expect_from_a_customer(customer_id=cus_id)\n",
    "    expected_no_dis.append(temp[0])\n",
    "    expected_dis.append(temp[1])\n",
    "#\n",
    "customer_prob['expected_no_dis'] = expected_no_dis\n",
    "customer_prob['expected_dis'] = expected_dis\n",
    "customer_prob['diff_discount'] = customer_prob['expected_dis'] - customer_prob['expected_no_dis']\n",
    "customer_prob"
   ]
  },
  {
   "cell_type": "code",
   "execution_count": 91,
   "id": "b0feb2aa",
   "metadata": {},
   "outputs": [
    {
     "data": {
      "text/html": [
       "<div>\n",
       "<style scoped>\n",
       "    .dataframe tbody tr th:only-of-type {\n",
       "        vertical-align: middle;\n",
       "    }\n",
       "\n",
       "    .dataframe tbody tr th {\n",
       "        vertical-align: top;\n",
       "    }\n",
       "\n",
       "    .dataframe thead th {\n",
       "        text-align: right;\n",
       "    }\n",
       "</style>\n",
       "<table border=\"1\" class=\"dataframe\">\n",
       "  <thead>\n",
       "    <tr style=\"text-align: right;\">\n",
       "      <th></th>\n",
       "      <th>id</th>\n",
       "      <th>0</th>\n",
       "      <th>1</th>\n",
       "      <th>0_dis</th>\n",
       "      <th>1_dis</th>\n",
       "      <th>expected_no_dis</th>\n",
       "      <th>expected_dis</th>\n",
       "      <th>diff_discount</th>\n",
       "    </tr>\n",
       "  </thead>\n",
       "  <tbody>\n",
       "    <tr>\n",
       "      <th>128</th>\n",
       "      <td>3c4ee938001975a4d07cf27a54de433c</td>\n",
       "      <td>0.67</td>\n",
       "      <td>0.33</td>\n",
       "      <td>0.888</td>\n",
       "      <td>0.112</td>\n",
       "      <td>3254.731758</td>\n",
       "      <td>3450.987225</td>\n",
       "      <td>196.255467</td>\n",
       "    </tr>\n",
       "    <tr>\n",
       "      <th>139</th>\n",
       "      <td>cf8c5db0c02e3f92592daccba41c918c</td>\n",
       "      <td>0.60</td>\n",
       "      <td>0.40</td>\n",
       "      <td>0.782</td>\n",
       "      <td>0.218</td>\n",
       "      <td>501505.138799</td>\n",
       "      <td>522902.691387</td>\n",
       "      <td>21397.552589</td>\n",
       "    </tr>\n",
       "    <tr>\n",
       "      <th>217</th>\n",
       "      <td>b1e773762052b38569b1e68aaa10576e</td>\n",
       "      <td>0.39</td>\n",
       "      <td>0.61</td>\n",
       "      <td>0.576</td>\n",
       "      <td>0.424</td>\n",
       "      <td>2692.006048</td>\n",
       "      <td>3180.708684</td>\n",
       "      <td>488.702636</td>\n",
       "    </tr>\n",
       "    <tr>\n",
       "      <th>230</th>\n",
       "      <td>9ca6298400dbc960a48a46aa6abd3db7</td>\n",
       "      <td>0.25</td>\n",
       "      <td>0.75</td>\n",
       "      <td>0.354</td>\n",
       "      <td>0.646</td>\n",
       "      <td>2565.754701</td>\n",
       "      <td>2906.486925</td>\n",
       "      <td>340.732224</td>\n",
       "    </tr>\n",
       "    <tr>\n",
       "      <th>346</th>\n",
       "      <td>395a6f41bbd1a0f23a64f00645264e78</td>\n",
       "      <td>0.64</td>\n",
       "      <td>0.36</td>\n",
       "      <td>0.818</td>\n",
       "      <td>0.182</td>\n",
       "      <td>4439.209887</td>\n",
       "      <td>4539.092109</td>\n",
       "      <td>99.882222</td>\n",
       "    </tr>\n",
       "    <tr>\n",
       "      <th>...</th>\n",
       "      <td>...</td>\n",
       "      <td>...</td>\n",
       "      <td>...</td>\n",
       "      <td>...</td>\n",
       "      <td>...</td>\n",
       "      <td>...</td>\n",
       "      <td>...</td>\n",
       "      <td>...</td>\n",
       "    </tr>\n",
       "    <tr>\n",
       "      <th>14384</th>\n",
       "      <td>87ec37604794b702c77225967c20f476</td>\n",
       "      <td>0.64</td>\n",
       "      <td>0.36</td>\n",
       "      <td>0.864</td>\n",
       "      <td>0.136</td>\n",
       "      <td>215.637276</td>\n",
       "      <td>232.888258</td>\n",
       "      <td>17.250982</td>\n",
       "    </tr>\n",
       "    <tr>\n",
       "      <th>14536</th>\n",
       "      <td>acfb0c97e40a86087f185d4846217966</td>\n",
       "      <td>0.68</td>\n",
       "      <td>0.32</td>\n",
       "      <td>0.862</td>\n",
       "      <td>0.138</td>\n",
       "      <td>213950.664602</td>\n",
       "      <td>216971.144572</td>\n",
       "      <td>3020.479971</td>\n",
       "    </tr>\n",
       "    <tr>\n",
       "      <th>14537</th>\n",
       "      <td>d77e823d24aa59beda5baa6bca37c903</td>\n",
       "      <td>0.63</td>\n",
       "      <td>0.37</td>\n",
       "      <td>0.846</td>\n",
       "      <td>0.154</td>\n",
       "      <td>264.275878</td>\n",
       "      <td>283.907801</td>\n",
       "      <td>19.631922</td>\n",
       "    </tr>\n",
       "    <tr>\n",
       "      <th>14561</th>\n",
       "      <td>37f06f14bb662b84f4f464322dce72db</td>\n",
       "      <td>0.68</td>\n",
       "      <td>0.32</td>\n",
       "      <td>0.878</td>\n",
       "      <td>0.122</td>\n",
       "      <td>1118.446236</td>\n",
       "      <td>1155.289171</td>\n",
       "      <td>36.842935</td>\n",
       "    </tr>\n",
       "    <tr>\n",
       "      <th>14576</th>\n",
       "      <td>40483e460b837001802f82213fd7f763</td>\n",
       "      <td>0.63</td>\n",
       "      <td>0.37</td>\n",
       "      <td>0.800</td>\n",
       "      <td>0.200</td>\n",
       "      <td>1426.078350</td>\n",
       "      <td>1448.714514</td>\n",
       "      <td>22.636164</td>\n",
       "    </tr>\n",
       "  </tbody>\n",
       "</table>\n",
       "<p>349 rows × 8 columns</p>\n",
       "</div>"
      ],
      "text/plain": [
       "                                     id     0     1  0_dis  1_dis  \\\n",
       "128    3c4ee938001975a4d07cf27a54de433c  0.67  0.33  0.888  0.112   \n",
       "139    cf8c5db0c02e3f92592daccba41c918c  0.60  0.40  0.782  0.218   \n",
       "217    b1e773762052b38569b1e68aaa10576e  0.39  0.61  0.576  0.424   \n",
       "230    9ca6298400dbc960a48a46aa6abd3db7  0.25  0.75  0.354  0.646   \n",
       "346    395a6f41bbd1a0f23a64f00645264e78  0.64  0.36  0.818  0.182   \n",
       "...                                 ...   ...   ...    ...    ...   \n",
       "14384  87ec37604794b702c77225967c20f476  0.64  0.36  0.864  0.136   \n",
       "14536  acfb0c97e40a86087f185d4846217966  0.68  0.32  0.862  0.138   \n",
       "14537  d77e823d24aa59beda5baa6bca37c903  0.63  0.37  0.846  0.154   \n",
       "14561  37f06f14bb662b84f4f464322dce72db  0.68  0.32  0.878  0.122   \n",
       "14576  40483e460b837001802f82213fd7f763  0.63  0.37  0.800  0.200   \n",
       "\n",
       "       expected_no_dis   expected_dis  diff_discount  \n",
       "128        3254.731758    3450.987225     196.255467  \n",
       "139      501505.138799  522902.691387   21397.552589  \n",
       "217        2692.006048    3180.708684     488.702636  \n",
       "230        2565.754701    2906.486925     340.732224  \n",
       "346        4439.209887    4539.092109      99.882222  \n",
       "...                ...            ...            ...  \n",
       "14384       215.637276     232.888258      17.250982  \n",
       "14536    213950.664602  216971.144572    3020.479971  \n",
       "14537       264.275878     283.907801      19.631922  \n",
       "14561      1118.446236    1155.289171      36.842935  \n",
       "14576      1426.078350    1448.714514      22.636164  \n",
       "\n",
       "[349 rows x 8 columns]"
      ]
     },
     "execution_count": 91,
     "metadata": {},
     "output_type": "execute_result"
    }
   ],
   "source": [
    "customer_prob[customer_prob['diff_discount']>0]"
   ]
  },
  {
   "cell_type": "code",
   "execution_count": 92,
   "id": "8474fc20",
   "metadata": {},
   "outputs": [
    {
     "data": {
      "text/plain": [
       "0.023894290017800905"
      ]
     },
     "execution_count": 92,
     "metadata": {},
     "output_type": "execute_result"
    }
   ],
   "source": [
    "customer_prob[customer_prob['diff_discount']>0].shape[0]/len(customer_prob)"
   ]
  },
  {
   "cell_type": "markdown",
   "id": "39e6d4ac",
   "metadata": {},
   "source": [
    "<font size=\"3\">Based on our analysis, A small percentage of customers (2%) are expected to have a discount difference greater than 0 after being offered discounted prices."
   ]
  },
  {
   "cell_type": "code",
   "execution_count": 93,
   "id": "4f0b0d35",
   "metadata": {},
   "outputs": [
    {
     "data": {
      "text/plain": [
       "104"
      ]
     },
     "execution_count": 93,
     "metadata": {},
     "output_type": "execute_result"
    }
   ],
   "source": [
    "# number of churning customers\n",
    "customer_prob[(customer_prob['1']>0.5)].shape[0]"
   ]
  },
  {
   "cell_type": "code",
   "execution_count": 94,
   "id": "664e3f85",
   "metadata": {},
   "outputs": [
    {
     "data": {
      "text/plain": [
       "61"
      ]
     },
     "execution_count": 94,
     "metadata": {},
     "output_type": "execute_result"
    }
   ],
   "source": [
    "# Among the churning customers the number of customers whose expected profit increase after offering them discount\n",
    "customer_prob[(customer_prob['diff_discount']>0)&(customer_prob['1']>0.5)].shape[0]"
   ]
  },
  {
   "cell_type": "code",
   "execution_count": 95,
   "id": "6a46e35e",
   "metadata": {},
   "outputs": [
    {
     "data": {
      "text/plain": [
       "43"
      ]
     },
     "execution_count": 95,
     "metadata": {},
     "output_type": "execute_result"
    }
   ],
   "source": [
    "# Among the churning customers the number of customers whose expected profit decrease after offering them discount\n",
    "customer_prob[(customer_prob['diff_discount']<=0)&(customer_prob['1']>0.5)].shape[0]"
   ]
  },
  {
   "cell_type": "code",
   "execution_count": 99,
   "id": "0ec39b53",
   "metadata": {},
   "outputs": [
    {
     "data": {
      "text/plain": [
       "2250002"
      ]
     },
     "execution_count": 99,
     "metadata": {},
     "output_type": "execute_result"
    }
   ],
   "source": [
    "# total extra profit based on customers whose expected profit increased\n",
    "round(customer_prob[(customer_prob['diff_discount']>0)&(customer_prob['1']>0.5)]['diff_discount'].sum())"
   ]
  },
  {
   "cell_type": "code",
   "execution_count": 100,
   "id": "221d661e",
   "metadata": {},
   "outputs": [
    {
     "data": {
      "text/plain": [
       "-1138753"
      ]
     },
     "execution_count": 100,
     "metadata": {},
     "output_type": "execute_result"
    }
   ],
   "source": [
    "# total extra profit based on customers whose expected profit did not increase\n",
    "round(customer_prob[(customer_prob['diff_discount']<=0)&(customer_prob['1']>0.5)]['diff_discount'].sum())"
   ]
  },
  {
   "cell_type": "code",
   "execution_count": 101,
   "id": "a72e5511",
   "metadata": {},
   "outputs": [
    {
     "data": {
      "text/plain": [
       "1111249"
      ]
     },
     "execution_count": 101,
     "metadata": {},
     "output_type": "execute_result"
    }
   ],
   "source": [
    "# total extra profit from predicted churning customers after offering them discount\n",
    "round(customer_prob[customer_prob['1']>0.5]['diff_discount'].sum())"
   ]
  },
  {
   "cell_type": "markdown",
   "id": "55fd4022",
   "metadata": {},
   "source": [
    "\n",
    "### Summary: Evaluating the Impact of a 20% Discount on Customer Churn\n",
    "\n",
    "In our evaluation of the impact of a 20% discount on customer churn, we focused on a group of 104 predicted churning customers. Here are the key findings:\n",
    "\n",
    "- Among the 104 predicted churning customers, we observed a mixed impact when offering discounted prices.\n",
    "- Out of these customers, 61 are expected to generate an increased profit, resulting in a total expected profit increase of 2,250,001.\n",
    "- Conversely, 43 customers are anticipated to yield a decreased profit, leading to a total expected profit decrease of 1,138,753.\n",
    "- Overall, when considering both positive and negative impacts, offering a discount to the predicted churning customers has the potential to generate an additional profit of 1,111,248.\n",
    "\n",
    "In conclusion, our analysis reveals that offering discounted prices to the predicted churning customers can result in varying outcomes in terms of expected profit. While 61 customers are projected to contribute to an increased profit, 43 customers may lead to a reduced profit. When considering the net impact, the discount strategy shows the potential to generate an overall additional profit of 1,111,248.\n",
    "\n",
    "It is important to note that the implementation of a discount strategy should be accompanied by a comprehensive understanding of the specific circumstances and potential risks involved. Further analysis and evaluation are recommended to ensure a thorough assessment of the potential benefits and implications before making any strategic decisions."
   ]
  },
  {
   "cell_type": "code",
   "execution_count": 102,
   "id": "4a029c23",
   "metadata": {},
   "outputs": [],
   "source": [
    "customer_prob.to_csv('churnproba_predictions.csv')\n"
   ]
  },
  {
   "cell_type": "code",
   "execution_count": 103,
   "id": "241153b8",
   "metadata": {},
   "outputs": [],
   "source": [
    "testing_set.to_csv('probatest_data.csv')"
   ]
  },
  {
   "cell_type": "code",
   "execution_count": null,
   "id": "0e66889d",
   "metadata": {},
   "outputs": [],
   "source": []
  }
 ],
 "metadata": {
  "kernelspec": {
   "display_name": "Python 3 (ipykernel)",
   "language": "python",
   "name": "python3"
  },
  "language_info": {
   "codemirror_mode": {
    "name": "ipython",
    "version": 3
   },
   "file_extension": ".py",
   "mimetype": "text/x-python",
   "name": "python",
   "nbconvert_exporter": "python",
   "pygments_lexer": "ipython3",
   "version": "3.9.12"
  }
 },
 "nbformat": 4,
 "nbformat_minor": 5
}
